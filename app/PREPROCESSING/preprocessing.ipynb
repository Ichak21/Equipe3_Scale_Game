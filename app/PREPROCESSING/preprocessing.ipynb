{
 "cells": [
  {
   "cell_type": "code",
   "execution_count": 21,
   "metadata": {},
   "outputs": [],
   "source": [
    "import pandas as pd \n",
    "from Utilities._handle_HLTB import HLTB_handle\n",
    "from Utilities._handle_IGDB import IGDB_handle\n",
    "\n",
    "df_steam_user = pd.read_csv(\"../../DataSet/start_steam-200k.csv\")\n",
    "# df_vg_sales = pd.read_csv(\"../../DataSet/start_vgsales.csv\")"
   ]
  },
  {
   "cell_type": "code",
   "execution_count": 23,
   "metadata": {},
   "outputs": [
    {
     "data": {
      "text/plain": [
       "12393"
      ]
     },
     "execution_count": 23,
     "metadata": {},
     "output_type": "execute_result"
    }
   ],
   "source": [
    "df_steam_behavior = df_steam_user.groupby([\"user_id\", \"game_name\"], as_index=False)[\" time_is_play\"].sum()\n",
    "\n",
    "df_steam_behavior.shape\n",
    "len(df_steam_behavior[\"user_id\"].value_counts())"
   ]
  },
  {
   "cell_type": "code",
   "execution_count": 20,
   "metadata": {},
   "outputs": [
    {
     "data": {
      "text/plain": [
       "62990992     1068\n",
       "33865373      776\n",
       "30246419      759\n",
       "58345543      666\n",
       "76892907      597\n",
       "             ... \n",
       "169919297       1\n",
       "169845810       1\n",
       "169815221       1\n",
       "169577811       1\n",
       "309903146       1\n",
       "Name: user_id, Length: 12393, dtype: int64"
      ]
     },
     "execution_count": 20,
     "metadata": {},
     "output_type": "execute_result"
    }
   ],
   "source": []
  },
  {
   "cell_type": "code",
   "execution_count": 12,
   "metadata": {},
   "outputs": [
    {
     "data": {
      "text/plain": [
       "2339"
      ]
     },
     "execution_count": 12,
     "metadata": {},
     "output_type": "execute_result"
    }
   ],
   "source": [
    "game_list = [*set(df_steam_behavior[df_steam_behavior[\" time_is_play\"]>5][\"game_name\"])]\n",
    "len(game_list)\n"
   ]
  },
  {
   "cell_type": "code",
   "execution_count": 4,
   "metadata": {},
   "outputs": [
    {
     "data": {
      "text/plain": [
       "200"
      ]
     },
     "execution_count": 4,
     "metadata": {},
     "output_type": "execute_result"
    }
   ],
   "source": [
    "game_list_light = game_list[0:200]\n",
    "len(game_list_light)"
   ]
  },
  {
   "cell_type": "code",
   "execution_count": 5,
   "metadata": {},
   "outputs": [
    {
     "name": "stderr",
     "output_type": "stream",
     "text": [
      "d:\\_WS_Developpement\\Equipe3_Scale_Game\\app\\01_PREPROCESSING\\Utilities\\_handle_HLTB\\HLTB_handle.py:192: FutureWarning: The frame.append method is deprecated and will be removed from pandas in a future version. Use pandas.concat instead.\n",
      "  df_output = df_output.append(\n",
      "d:\\_WS_Developpement\\Equipe3_Scale_Game\\app\\01_PREPROCESSING\\Utilities\\_handle_HLTB\\HLTB_handle.py:192: FutureWarning: The frame.append method is deprecated and will be removed from pandas in a future version. Use pandas.concat instead.\n",
      "  df_output = df_output.append(\n",
      "d:\\_WS_Developpement\\Equipe3_Scale_Game\\app\\01_PREPROCESSING\\Utilities\\_handle_HLTB\\HLTB_handle.py:192: FutureWarning: The frame.append method is deprecated and will be removed from pandas in a future version. Use pandas.concat instead.\n",
      "  df_output = df_output.append(\n",
      "d:\\_WS_Developpement\\Equipe3_Scale_Game\\app\\01_PREPROCESSING\\Utilities\\_handle_HLTB\\HLTB_handle.py:192: FutureWarning: The frame.append method is deprecated and will be removed from pandas in a future version. Use pandas.concat instead.\n",
      "  df_output = df_output.append(\n",
      "d:\\_WS_Developpement\\Equipe3_Scale_Game\\app\\01_PREPROCESSING\\Utilities\\_handle_HLTB\\HLTB_handle.py:192: FutureWarning: The frame.append method is deprecated and will be removed from pandas in a future version. Use pandas.concat instead.\n",
      "  df_output = df_output.append(\n",
      "d:\\_WS_Developpement\\Equipe3_Scale_Game\\app\\01_PREPROCESSING\\Utilities\\_handle_HLTB\\HLTB_handle.py:192: FutureWarning: The frame.append method is deprecated and will be removed from pandas in a future version. Use pandas.concat instead.\n",
      "  df_output = df_output.append(\n",
      "d:\\_WS_Developpement\\Equipe3_Scale_Game\\app\\01_PREPROCESSING\\Utilities\\_handle_HLTB\\HLTB_handle.py:192: FutureWarning: The frame.append method is deprecated and will be removed from pandas in a future version. Use pandas.concat instead.\n",
      "  df_output = df_output.append(\n",
      "d:\\_WS_Developpement\\Equipe3_Scale_Game\\app\\01_PREPROCESSING\\Utilities\\_handle_HLTB\\HLTB_handle.py:192: FutureWarning: The frame.append method is deprecated and will be removed from pandas in a future version. Use pandas.concat instead.\n",
      "  df_output = df_output.append(\n",
      "d:\\_WS_Developpement\\Equipe3_Scale_Game\\app\\01_PREPROCESSING\\Utilities\\_handle_HLTB\\HLTB_handle.py:192: FutureWarning: The frame.append method is deprecated and will be removed from pandas in a future version. Use pandas.concat instead.\n",
      "  df_output = df_output.append(\n",
      "d:\\_WS_Developpement\\Equipe3_Scale_Game\\app\\01_PREPROCESSING\\Utilities\\_handle_HLTB\\HLTB_handle.py:192: FutureWarning: The frame.append method is deprecated and will be removed from pandas in a future version. Use pandas.concat instead.\n",
      "  df_output = df_output.append(\n",
      "d:\\_WS_Developpement\\Equipe3_Scale_Game\\app\\01_PREPROCESSING\\Utilities\\_handle_HLTB\\HLTB_handle.py:192: FutureWarning: The frame.append method is deprecated and will be removed from pandas in a future version. Use pandas.concat instead.\n",
      "  df_output = df_output.append(\n",
      "d:\\_WS_Developpement\\Equipe3_Scale_Game\\app\\01_PREPROCESSING\\Utilities\\_handle_HLTB\\HLTB_handle.py:192: FutureWarning: The frame.append method is deprecated and will be removed from pandas in a future version. Use pandas.concat instead.\n",
      "  df_output = df_output.append(\n",
      "d:\\_WS_Developpement\\Equipe3_Scale_Game\\app\\01_PREPROCESSING\\Utilities\\_handle_HLTB\\HLTB_handle.py:192: FutureWarning: The frame.append method is deprecated and will be removed from pandas in a future version. Use pandas.concat instead.\n",
      "  df_output = df_output.append(\n",
      "d:\\_WS_Developpement\\Equipe3_Scale_Game\\app\\01_PREPROCESSING\\Utilities\\_handle_HLTB\\HLTB_handle.py:192: FutureWarning: The frame.append method is deprecated and will be removed from pandas in a future version. Use pandas.concat instead.\n",
      "  df_output = df_output.append(\n",
      "d:\\_WS_Developpement\\Equipe3_Scale_Game\\app\\01_PREPROCESSING\\Utilities\\_handle_HLTB\\HLTB_handle.py:192: FutureWarning: The frame.append method is deprecated and will be removed from pandas in a future version. Use pandas.concat instead.\n",
      "  df_output = df_output.append(\n",
      "d:\\_WS_Developpement\\Equipe3_Scale_Game\\app\\01_PREPROCESSING\\Utilities\\_handle_HLTB\\HLTB_handle.py:192: FutureWarning: The frame.append method is deprecated and will be removed from pandas in a future version. Use pandas.concat instead.\n",
      "  df_output = df_output.append(\n",
      "d:\\_WS_Developpement\\Equipe3_Scale_Game\\app\\01_PREPROCESSING\\Utilities\\_handle_HLTB\\HLTB_handle.py:192: FutureWarning: The frame.append method is deprecated and will be removed from pandas in a future version. Use pandas.concat instead.\n",
      "  df_output = df_output.append(\n",
      "d:\\_WS_Developpement\\Equipe3_Scale_Game\\app\\01_PREPROCESSING\\Utilities\\_handle_HLTB\\HLTB_handle.py:192: FutureWarning: The frame.append method is deprecated and will be removed from pandas in a future version. Use pandas.concat instead.\n",
      "  df_output = df_output.append(\n",
      "d:\\_WS_Developpement\\Equipe3_Scale_Game\\app\\01_PREPROCESSING\\Utilities\\_handle_HLTB\\HLTB_handle.py:192: FutureWarning: The frame.append method is deprecated and will be removed from pandas in a future version. Use pandas.concat instead.\n",
      "  df_output = df_output.append(\n",
      "d:\\_WS_Developpement\\Equipe3_Scale_Game\\app\\01_PREPROCESSING\\Utilities\\_handle_HLTB\\HLTB_handle.py:192: FutureWarning: The frame.append method is deprecated and will be removed from pandas in a future version. Use pandas.concat instead.\n",
      "  df_output = df_output.append(\n",
      "d:\\_WS_Developpement\\Equipe3_Scale_Game\\app\\01_PREPROCESSING\\Utilities\\_handle_HLTB\\HLTB_handle.py:192: FutureWarning: The frame.append method is deprecated and will be removed from pandas in a future version. Use pandas.concat instead.\n",
      "  df_output = df_output.append(\n",
      "d:\\_WS_Developpement\\Equipe3_Scale_Game\\app\\01_PREPROCESSING\\Utilities\\_handle_HLTB\\HLTB_handle.py:192: FutureWarning: The frame.append method is deprecated and will be removed from pandas in a future version. Use pandas.concat instead.\n",
      "  df_output = df_output.append(\n",
      "d:\\_WS_Developpement\\Equipe3_Scale_Game\\app\\01_PREPROCESSING\\Utilities\\_handle_HLTB\\HLTB_handle.py:192: FutureWarning: The frame.append method is deprecated and will be removed from pandas in a future version. Use pandas.concat instead.\n",
      "  df_output = df_output.append(\n",
      "d:\\_WS_Developpement\\Equipe3_Scale_Game\\app\\01_PREPROCESSING\\Utilities\\_handle_HLTB\\HLTB_handle.py:192: FutureWarning: The frame.append method is deprecated and will be removed from pandas in a future version. Use pandas.concat instead.\n",
      "  df_output = df_output.append(\n",
      "d:\\_WS_Developpement\\Equipe3_Scale_Game\\app\\01_PREPROCESSING\\Utilities\\_handle_HLTB\\HLTB_handle.py:192: FutureWarning: The frame.append method is deprecated and will be removed from pandas in a future version. Use pandas.concat instead.\n",
      "  df_output = df_output.append(\n",
      "d:\\_WS_Developpement\\Equipe3_Scale_Game\\app\\01_PREPROCESSING\\Utilities\\_handle_HLTB\\HLTB_handle.py:192: FutureWarning: The frame.append method is deprecated and will be removed from pandas in a future version. Use pandas.concat instead.\n",
      "  df_output = df_output.append(\n",
      "d:\\_WS_Developpement\\Equipe3_Scale_Game\\app\\01_PREPROCESSING\\Utilities\\_handle_HLTB\\HLTB_handle.py:192: FutureWarning: The frame.append method is deprecated and will be removed from pandas in a future version. Use pandas.concat instead.\n",
      "  df_output = df_output.append(\n",
      "d:\\_WS_Developpement\\Equipe3_Scale_Game\\app\\01_PREPROCESSING\\Utilities\\_handle_HLTB\\HLTB_handle.py:192: FutureWarning: The frame.append method is deprecated and will be removed from pandas in a future version. Use pandas.concat instead.\n",
      "  df_output = df_output.append(\n",
      "d:\\_WS_Developpement\\Equipe3_Scale_Game\\app\\01_PREPROCESSING\\Utilities\\_handle_HLTB\\HLTB_handle.py:192: FutureWarning: The frame.append method is deprecated and will be removed from pandas in a future version. Use pandas.concat instead.\n",
      "  df_output = df_output.append(\n",
      "d:\\_WS_Developpement\\Equipe3_Scale_Game\\app\\01_PREPROCESSING\\Utilities\\_handle_HLTB\\HLTB_handle.py:192: FutureWarning: The frame.append method is deprecated and will be removed from pandas in a future version. Use pandas.concat instead.\n",
      "  df_output = df_output.append(\n",
      "d:\\_WS_Developpement\\Equipe3_Scale_Game\\app\\01_PREPROCESSING\\Utilities\\_handle_HLTB\\HLTB_handle.py:192: FutureWarning: The frame.append method is deprecated and will be removed from pandas in a future version. Use pandas.concat instead.\n",
      "  df_output = df_output.append(\n",
      "d:\\_WS_Developpement\\Equipe3_Scale_Game\\app\\01_PREPROCESSING\\Utilities\\_handle_HLTB\\HLTB_handle.py:192: FutureWarning: The frame.append method is deprecated and will be removed from pandas in a future version. Use pandas.concat instead.\n",
      "  df_output = df_output.append(\n",
      "d:\\_WS_Developpement\\Equipe3_Scale_Game\\app\\01_PREPROCESSING\\Utilities\\_handle_HLTB\\HLTB_handle.py:192: FutureWarning: The frame.append method is deprecated and will be removed from pandas in a future version. Use pandas.concat instead.\n",
      "  df_output = df_output.append(\n",
      "d:\\_WS_Developpement\\Equipe3_Scale_Game\\app\\01_PREPROCESSING\\Utilities\\_handle_HLTB\\HLTB_handle.py:192: FutureWarning: The frame.append method is deprecated and will be removed from pandas in a future version. Use pandas.concat instead.\n",
      "  df_output = df_output.append(\n",
      "d:\\_WS_Developpement\\Equipe3_Scale_Game\\app\\01_PREPROCESSING\\Utilities\\_handle_HLTB\\HLTB_handle.py:192: FutureWarning: The frame.append method is deprecated and will be removed from pandas in a future version. Use pandas.concat instead.\n",
      "  df_output = df_output.append(\n",
      "d:\\_WS_Developpement\\Equipe3_Scale_Game\\app\\01_PREPROCESSING\\Utilities\\_handle_HLTB\\HLTB_handle.py:192: FutureWarning: The frame.append method is deprecated and will be removed from pandas in a future version. Use pandas.concat instead.\n",
      "  df_output = df_output.append(\n",
      "d:\\_WS_Developpement\\Equipe3_Scale_Game\\app\\01_PREPROCESSING\\Utilities\\_handle_HLTB\\HLTB_handle.py:192: FutureWarning: The frame.append method is deprecated and will be removed from pandas in a future version. Use pandas.concat instead.\n",
      "  df_output = df_output.append(\n",
      "d:\\_WS_Developpement\\Equipe3_Scale_Game\\app\\01_PREPROCESSING\\Utilities\\_handle_HLTB\\HLTB_handle.py:192: FutureWarning: The frame.append method is deprecated and will be removed from pandas in a future version. Use pandas.concat instead.\n",
      "  df_output = df_output.append(\n",
      "d:\\_WS_Developpement\\Equipe3_Scale_Game\\app\\01_PREPROCESSING\\Utilities\\_handle_HLTB\\HLTB_handle.py:192: FutureWarning: The frame.append method is deprecated and will be removed from pandas in a future version. Use pandas.concat instead.\n",
      "  df_output = df_output.append(\n",
      "d:\\_WS_Developpement\\Equipe3_Scale_Game\\app\\01_PREPROCESSING\\Utilities\\_handle_HLTB\\HLTB_handle.py:192: FutureWarning: The frame.append method is deprecated and will be removed from pandas in a future version. Use pandas.concat instead.\n",
      "  df_output = df_output.append(\n",
      "d:\\_WS_Developpement\\Equipe3_Scale_Game\\app\\01_PREPROCESSING\\Utilities\\_handle_HLTB\\HLTB_handle.py:192: FutureWarning: The frame.append method is deprecated and will be removed from pandas in a future version. Use pandas.concat instead.\n",
      "  df_output = df_output.append(\n",
      "d:\\_WS_Developpement\\Equipe3_Scale_Game\\app\\01_PREPROCESSING\\Utilities\\_handle_HLTB\\HLTB_handle.py:192: FutureWarning: The frame.append method is deprecated and will be removed from pandas in a future version. Use pandas.concat instead.\n",
      "  df_output = df_output.append(\n",
      "d:\\_WS_Developpement\\Equipe3_Scale_Game\\app\\01_PREPROCESSING\\Utilities\\_handle_HLTB\\HLTB_handle.py:192: FutureWarning: The frame.append method is deprecated and will be removed from pandas in a future version. Use pandas.concat instead.\n",
      "  df_output = df_output.append(\n",
      "d:\\_WS_Developpement\\Equipe3_Scale_Game\\app\\01_PREPROCESSING\\Utilities\\_handle_HLTB\\HLTB_handle.py:192: FutureWarning: The frame.append method is deprecated and will be removed from pandas in a future version. Use pandas.concat instead.\n",
      "  df_output = df_output.append(\n",
      "d:\\_WS_Developpement\\Equipe3_Scale_Game\\app\\01_PREPROCESSING\\Utilities\\_handle_HLTB\\HLTB_handle.py:192: FutureWarning: The frame.append method is deprecated and will be removed from pandas in a future version. Use pandas.concat instead.\n",
      "  df_output = df_output.append(\n",
      "d:\\_WS_Developpement\\Equipe3_Scale_Game\\app\\01_PREPROCESSING\\Utilities\\_handle_HLTB\\HLTB_handle.py:192: FutureWarning: The frame.append method is deprecated and will be removed from pandas in a future version. Use pandas.concat instead.\n",
      "  df_output = df_output.append(\n",
      "d:\\_WS_Developpement\\Equipe3_Scale_Game\\app\\01_PREPROCESSING\\Utilities\\_handle_HLTB\\HLTB_handle.py:192: FutureWarning: The frame.append method is deprecated and will be removed from pandas in a future version. Use pandas.concat instead.\n",
      "  df_output = df_output.append(\n",
      "d:\\_WS_Developpement\\Equipe3_Scale_Game\\app\\01_PREPROCESSING\\Utilities\\_handle_HLTB\\HLTB_handle.py:192: FutureWarning: The frame.append method is deprecated and will be removed from pandas in a future version. Use pandas.concat instead.\n",
      "  df_output = df_output.append(\n",
      "d:\\_WS_Developpement\\Equipe3_Scale_Game\\app\\01_PREPROCESSING\\Utilities\\_handle_HLTB\\HLTB_handle.py:192: FutureWarning: The frame.append method is deprecated and will be removed from pandas in a future version. Use pandas.concat instead.\n",
      "  df_output = df_output.append(\n",
      "d:\\_WS_Developpement\\Equipe3_Scale_Game\\app\\01_PREPROCESSING\\Utilities\\_handle_HLTB\\HLTB_handle.py:192: FutureWarning: The frame.append method is deprecated and will be removed from pandas in a future version. Use pandas.concat instead.\n",
      "  df_output = df_output.append(\n",
      "d:\\_WS_Developpement\\Equipe3_Scale_Game\\app\\01_PREPROCESSING\\Utilities\\_handle_HLTB\\HLTB_handle.py:192: FutureWarning: The frame.append method is deprecated and will be removed from pandas in a future version. Use pandas.concat instead.\n",
      "  df_output = df_output.append(\n",
      "d:\\_WS_Developpement\\Equipe3_Scale_Game\\app\\01_PREPROCESSING\\Utilities\\_handle_HLTB\\HLTB_handle.py:192: FutureWarning: The frame.append method is deprecated and will be removed from pandas in a future version. Use pandas.concat instead.\n",
      "  df_output = df_output.append(\n",
      "d:\\_WS_Developpement\\Equipe3_Scale_Game\\app\\01_PREPROCESSING\\Utilities\\_handle_HLTB\\HLTB_handle.py:192: FutureWarning: The frame.append method is deprecated and will be removed from pandas in a future version. Use pandas.concat instead.\n",
      "  df_output = df_output.append(\n",
      "d:\\_WS_Developpement\\Equipe3_Scale_Game\\app\\01_PREPROCESSING\\Utilities\\_handle_HLTB\\HLTB_handle.py:192: FutureWarning: The frame.append method is deprecated and will be removed from pandas in a future version. Use pandas.concat instead.\n",
      "  df_output = df_output.append(\n",
      "d:\\_WS_Developpement\\Equipe3_Scale_Game\\app\\01_PREPROCESSING\\Utilities\\_handle_HLTB\\HLTB_handle.py:192: FutureWarning: The frame.append method is deprecated and will be removed from pandas in a future version. Use pandas.concat instead.\n",
      "  df_output = df_output.append(\n",
      "d:\\_WS_Developpement\\Equipe3_Scale_Game\\app\\01_PREPROCESSING\\Utilities\\_handle_HLTB\\HLTB_handle.py:192: FutureWarning: The frame.append method is deprecated and will be removed from pandas in a future version. Use pandas.concat instead.\n",
      "  df_output = df_output.append(\n",
      "d:\\_WS_Developpement\\Equipe3_Scale_Game\\app\\01_PREPROCESSING\\Utilities\\_handle_HLTB\\HLTB_handle.py:192: FutureWarning: The frame.append method is deprecated and will be removed from pandas in a future version. Use pandas.concat instead.\n",
      "  df_output = df_output.append(\n",
      "d:\\_WS_Developpement\\Equipe3_Scale_Game\\app\\01_PREPROCESSING\\Utilities\\_handle_HLTB\\HLTB_handle.py:192: FutureWarning: The frame.append method is deprecated and will be removed from pandas in a future version. Use pandas.concat instead.\n",
      "  df_output = df_output.append(\n",
      "d:\\_WS_Developpement\\Equipe3_Scale_Game\\app\\01_PREPROCESSING\\Utilities\\_handle_HLTB\\HLTB_handle.py:192: FutureWarning: The frame.append method is deprecated and will be removed from pandas in a future version. Use pandas.concat instead.\n",
      "  df_output = df_output.append(\n",
      "d:\\_WS_Developpement\\Equipe3_Scale_Game\\app\\01_PREPROCESSING\\Utilities\\_handle_HLTB\\HLTB_handle.py:192: FutureWarning: The frame.append method is deprecated and will be removed from pandas in a future version. Use pandas.concat instead.\n",
      "  df_output = df_output.append(\n",
      "d:\\_WS_Developpement\\Equipe3_Scale_Game\\app\\01_PREPROCESSING\\Utilities\\_handle_HLTB\\HLTB_handle.py:192: FutureWarning: The frame.append method is deprecated and will be removed from pandas in a future version. Use pandas.concat instead.\n",
      "  df_output = df_output.append(\n",
      "d:\\_WS_Developpement\\Equipe3_Scale_Game\\app\\01_PREPROCESSING\\Utilities\\_handle_HLTB\\HLTB_handle.py:192: FutureWarning: The frame.append method is deprecated and will be removed from pandas in a future version. Use pandas.concat instead.\n",
      "  df_output = df_output.append(\n",
      "d:\\_WS_Developpement\\Equipe3_Scale_Game\\app\\01_PREPROCESSING\\Utilities\\_handle_HLTB\\HLTB_handle.py:192: FutureWarning: The frame.append method is deprecated and will be removed from pandas in a future version. Use pandas.concat instead.\n",
      "  df_output = df_output.append(\n",
      "d:\\_WS_Developpement\\Equipe3_Scale_Game\\app\\01_PREPROCESSING\\Utilities\\_handle_HLTB\\HLTB_handle.py:192: FutureWarning: The frame.append method is deprecated and will be removed from pandas in a future version. Use pandas.concat instead.\n",
      "  df_output = df_output.append(\n",
      "d:\\_WS_Developpement\\Equipe3_Scale_Game\\app\\01_PREPROCESSING\\Utilities\\_handle_HLTB\\HLTB_handle.py:192: FutureWarning: The frame.append method is deprecated and will be removed from pandas in a future version. Use pandas.concat instead.\n",
      "  df_output = df_output.append(\n",
      "d:\\_WS_Developpement\\Equipe3_Scale_Game\\app\\01_PREPROCESSING\\Utilities\\_handle_HLTB\\HLTB_handle.py:192: FutureWarning: The frame.append method is deprecated and will be removed from pandas in a future version. Use pandas.concat instead.\n",
      "  df_output = df_output.append(\n",
      "d:\\_WS_Developpement\\Equipe3_Scale_Game\\app\\01_PREPROCESSING\\Utilities\\_handle_HLTB\\HLTB_handle.py:192: FutureWarning: The frame.append method is deprecated and will be removed from pandas in a future version. Use pandas.concat instead.\n",
      "  df_output = df_output.append(\n",
      "d:\\_WS_Developpement\\Equipe3_Scale_Game\\app\\01_PREPROCESSING\\Utilities\\_handle_HLTB\\HLTB_handle.py:192: FutureWarning: The frame.append method is deprecated and will be removed from pandas in a future version. Use pandas.concat instead.\n",
      "  df_output = df_output.append(\n",
      "d:\\_WS_Developpement\\Equipe3_Scale_Game\\app\\01_PREPROCESSING\\Utilities\\_handle_HLTB\\HLTB_handle.py:192: FutureWarning: The frame.append method is deprecated and will be removed from pandas in a future version. Use pandas.concat instead.\n",
      "  df_output = df_output.append(\n",
      "d:\\_WS_Developpement\\Equipe3_Scale_Game\\app\\01_PREPROCESSING\\Utilities\\_handle_HLTB\\HLTB_handle.py:192: FutureWarning: The frame.append method is deprecated and will be removed from pandas in a future version. Use pandas.concat instead.\n",
      "  df_output = df_output.append(\n",
      "d:\\_WS_Developpement\\Equipe3_Scale_Game\\app\\01_PREPROCESSING\\Utilities\\_handle_HLTB\\HLTB_handle.py:192: FutureWarning: The frame.append method is deprecated and will be removed from pandas in a future version. Use pandas.concat instead.\n",
      "  df_output = df_output.append(\n",
      "d:\\_WS_Developpement\\Equipe3_Scale_Game\\app\\01_PREPROCESSING\\Utilities\\_handle_HLTB\\HLTB_handle.py:192: FutureWarning: The frame.append method is deprecated and will be removed from pandas in a future version. Use pandas.concat instead.\n",
      "  df_output = df_output.append(\n",
      "d:\\_WS_Developpement\\Equipe3_Scale_Game\\app\\01_PREPROCESSING\\Utilities\\_handle_HLTB\\HLTB_handle.py:192: FutureWarning: The frame.append method is deprecated and will be removed from pandas in a future version. Use pandas.concat instead.\n",
      "  df_output = df_output.append(\n",
      "d:\\_WS_Developpement\\Equipe3_Scale_Game\\app\\01_PREPROCESSING\\Utilities\\_handle_HLTB\\HLTB_handle.py:192: FutureWarning: The frame.append method is deprecated and will be removed from pandas in a future version. Use pandas.concat instead.\n",
      "  df_output = df_output.append(\n",
      "d:\\_WS_Developpement\\Equipe3_Scale_Game\\app\\01_PREPROCESSING\\Utilities\\_handle_HLTB\\HLTB_handle.py:192: FutureWarning: The frame.append method is deprecated and will be removed from pandas in a future version. Use pandas.concat instead.\n",
      "  df_output = df_output.append(\n",
      "d:\\_WS_Developpement\\Equipe3_Scale_Game\\app\\01_PREPROCESSING\\Utilities\\_handle_HLTB\\HLTB_handle.py:192: FutureWarning: The frame.append method is deprecated and will be removed from pandas in a future version. Use pandas.concat instead.\n",
      "  df_output = df_output.append(\n",
      "d:\\_WS_Developpement\\Equipe3_Scale_Game\\app\\01_PREPROCESSING\\Utilities\\_handle_HLTB\\HLTB_handle.py:192: FutureWarning: The frame.append method is deprecated and will be removed from pandas in a future version. Use pandas.concat instead.\n",
      "  df_output = df_output.append(\n",
      "d:\\_WS_Developpement\\Equipe3_Scale_Game\\app\\01_PREPROCESSING\\Utilities\\_handle_HLTB\\HLTB_handle.py:192: FutureWarning: The frame.append method is deprecated and will be removed from pandas in a future version. Use pandas.concat instead.\n",
      "  df_output = df_output.append(\n",
      "d:\\_WS_Developpement\\Equipe3_Scale_Game\\app\\01_PREPROCESSING\\Utilities\\_handle_HLTB\\HLTB_handle.py:192: FutureWarning: The frame.append method is deprecated and will be removed from pandas in a future version. Use pandas.concat instead.\n",
      "  df_output = df_output.append(\n",
      "d:\\_WS_Developpement\\Equipe3_Scale_Game\\app\\01_PREPROCESSING\\Utilities\\_handle_HLTB\\HLTB_handle.py:192: FutureWarning: The frame.append method is deprecated and will be removed from pandas in a future version. Use pandas.concat instead.\n",
      "  df_output = df_output.append(\n",
      "d:\\_WS_Developpement\\Equipe3_Scale_Game\\app\\01_PREPROCESSING\\Utilities\\_handle_HLTB\\HLTB_handle.py:192: FutureWarning: The frame.append method is deprecated and will be removed from pandas in a future version. Use pandas.concat instead.\n",
      "  df_output = df_output.append(\n",
      "d:\\_WS_Developpement\\Equipe3_Scale_Game\\app\\01_PREPROCESSING\\Utilities\\_handle_HLTB\\HLTB_handle.py:192: FutureWarning: The frame.append method is deprecated and will be removed from pandas in a future version. Use pandas.concat instead.\n",
      "  df_output = df_output.append(\n",
      "d:\\_WS_Developpement\\Equipe3_Scale_Game\\app\\01_PREPROCESSING\\Utilities\\_handle_HLTB\\HLTB_handle.py:192: FutureWarning: The frame.append method is deprecated and will be removed from pandas in a future version. Use pandas.concat instead.\n",
      "  df_output = df_output.append(\n",
      "d:\\_WS_Developpement\\Equipe3_Scale_Game\\app\\01_PREPROCESSING\\Utilities\\_handle_HLTB\\HLTB_handle.py:192: FutureWarning: The frame.append method is deprecated and will be removed from pandas in a future version. Use pandas.concat instead.\n",
      "  df_output = df_output.append(\n",
      "d:\\_WS_Developpement\\Equipe3_Scale_Game\\app\\01_PREPROCESSING\\Utilities\\_handle_HLTB\\HLTB_handle.py:192: FutureWarning: The frame.append method is deprecated and will be removed from pandas in a future version. Use pandas.concat instead.\n",
      "  df_output = df_output.append(\n",
      "d:\\_WS_Developpement\\Equipe3_Scale_Game\\app\\01_PREPROCESSING\\Utilities\\_handle_HLTB\\HLTB_handle.py:192: FutureWarning: The frame.append method is deprecated and will be removed from pandas in a future version. Use pandas.concat instead.\n",
      "  df_output = df_output.append(\n",
      "d:\\_WS_Developpement\\Equipe3_Scale_Game\\app\\01_PREPROCESSING\\Utilities\\_handle_HLTB\\HLTB_handle.py:192: FutureWarning: The frame.append method is deprecated and will be removed from pandas in a future version. Use pandas.concat instead.\n",
      "  df_output = df_output.append(\n",
      "d:\\_WS_Developpement\\Equipe3_Scale_Game\\app\\01_PREPROCESSING\\Utilities\\_handle_HLTB\\HLTB_handle.py:192: FutureWarning: The frame.append method is deprecated and will be removed from pandas in a future version. Use pandas.concat instead.\n",
      "  df_output = df_output.append(\n",
      "d:\\_WS_Developpement\\Equipe3_Scale_Game\\app\\01_PREPROCESSING\\Utilities\\_handle_HLTB\\HLTB_handle.py:192: FutureWarning: The frame.append method is deprecated and will be removed from pandas in a future version. Use pandas.concat instead.\n",
      "  df_output = df_output.append(\n",
      "d:\\_WS_Developpement\\Equipe3_Scale_Game\\app\\01_PREPROCESSING\\Utilities\\_handle_HLTB\\HLTB_handle.py:192: FutureWarning: The frame.append method is deprecated and will be removed from pandas in a future version. Use pandas.concat instead.\n",
      "  df_output = df_output.append(\n",
      "d:\\_WS_Developpement\\Equipe3_Scale_Game\\app\\01_PREPROCESSING\\Utilities\\_handle_HLTB\\HLTB_handle.py:192: FutureWarning: The frame.append method is deprecated and will be removed from pandas in a future version. Use pandas.concat instead.\n",
      "  df_output = df_output.append(\n",
      "d:\\_WS_Developpement\\Equipe3_Scale_Game\\app\\01_PREPROCESSING\\Utilities\\_handle_HLTB\\HLTB_handle.py:192: FutureWarning: The frame.append method is deprecated and will be removed from pandas in a future version. Use pandas.concat instead.\n",
      "  df_output = df_output.append(\n",
      "d:\\_WS_Developpement\\Equipe3_Scale_Game\\app\\01_PREPROCESSING\\Utilities\\_handle_HLTB\\HLTB_handle.py:192: FutureWarning: The frame.append method is deprecated and will be removed from pandas in a future version. Use pandas.concat instead.\n",
      "  df_output = df_output.append(\n",
      "d:\\_WS_Developpement\\Equipe3_Scale_Game\\app\\01_PREPROCESSING\\Utilities\\_handle_HLTB\\HLTB_handle.py:192: FutureWarning: The frame.append method is deprecated and will be removed from pandas in a future version. Use pandas.concat instead.\n",
      "  df_output = df_output.append(\n",
      "d:\\_WS_Developpement\\Equipe3_Scale_Game\\app\\01_PREPROCESSING\\Utilities\\_handle_HLTB\\HLTB_handle.py:192: FutureWarning: The frame.append method is deprecated and will be removed from pandas in a future version. Use pandas.concat instead.\n",
      "  df_output = df_output.append(\n",
      "d:\\_WS_Developpement\\Equipe3_Scale_Game\\app\\01_PREPROCESSING\\Utilities\\_handle_HLTB\\HLTB_handle.py:192: FutureWarning: The frame.append method is deprecated and will be removed from pandas in a future version. Use pandas.concat instead.\n",
      "  df_output = df_output.append(\n",
      "d:\\_WS_Developpement\\Equipe3_Scale_Game\\app\\01_PREPROCESSING\\Utilities\\_handle_HLTB\\HLTB_handle.py:192: FutureWarning: The frame.append method is deprecated and will be removed from pandas in a future version. Use pandas.concat instead.\n",
      "  df_output = df_output.append(\n",
      "d:\\_WS_Developpement\\Equipe3_Scale_Game\\app\\01_PREPROCESSING\\Utilities\\_handle_HLTB\\HLTB_handle.py:192: FutureWarning: The frame.append method is deprecated and will be removed from pandas in a future version. Use pandas.concat instead.\n",
      "  df_output = df_output.append(\n",
      "d:\\_WS_Developpement\\Equipe3_Scale_Game\\app\\01_PREPROCESSING\\Utilities\\_handle_HLTB\\HLTB_handle.py:192: FutureWarning: The frame.append method is deprecated and will be removed from pandas in a future version. Use pandas.concat instead.\n",
      "  df_output = df_output.append(\n",
      "d:\\_WS_Developpement\\Equipe3_Scale_Game\\app\\01_PREPROCESSING\\Utilities\\_handle_HLTB\\HLTB_handle.py:192: FutureWarning: The frame.append method is deprecated and will be removed from pandas in a future version. Use pandas.concat instead.\n",
      "  df_output = df_output.append(\n",
      "d:\\_WS_Developpement\\Equipe3_Scale_Game\\app\\01_PREPROCESSING\\Utilities\\_handle_HLTB\\HLTB_handle.py:192: FutureWarning: The frame.append method is deprecated and will be removed from pandas in a future version. Use pandas.concat instead.\n",
      "  df_output = df_output.append(\n",
      "d:\\_WS_Developpement\\Equipe3_Scale_Game\\app\\01_PREPROCESSING\\Utilities\\_handle_HLTB\\HLTB_handle.py:192: FutureWarning: The frame.append method is deprecated and will be removed from pandas in a future version. Use pandas.concat instead.\n",
      "  df_output = df_output.append(\n",
      "d:\\_WS_Developpement\\Equipe3_Scale_Game\\app\\01_PREPROCESSING\\Utilities\\_handle_HLTB\\HLTB_handle.py:192: FutureWarning: The frame.append method is deprecated and will be removed from pandas in a future version. Use pandas.concat instead.\n",
      "  df_output = df_output.append(\n",
      "d:\\_WS_Developpement\\Equipe3_Scale_Game\\app\\01_PREPROCESSING\\Utilities\\_handle_HLTB\\HLTB_handle.py:192: FutureWarning: The frame.append method is deprecated and will be removed from pandas in a future version. Use pandas.concat instead.\n",
      "  df_output = df_output.append(\n",
      "d:\\_WS_Developpement\\Equipe3_Scale_Game\\app\\01_PREPROCESSING\\Utilities\\_handle_HLTB\\HLTB_handle.py:192: FutureWarning: The frame.append method is deprecated and will be removed from pandas in a future version. Use pandas.concat instead.\n",
      "  df_output = df_output.append(\n",
      "d:\\_WS_Developpement\\Equipe3_Scale_Game\\app\\01_PREPROCESSING\\Utilities\\_handle_HLTB\\HLTB_handle.py:192: FutureWarning: The frame.append method is deprecated and will be removed from pandas in a future version. Use pandas.concat instead.\n",
      "  df_output = df_output.append(\n",
      "d:\\_WS_Developpement\\Equipe3_Scale_Game\\app\\01_PREPROCESSING\\Utilities\\_handle_HLTB\\HLTB_handle.py:192: FutureWarning: The frame.append method is deprecated and will be removed from pandas in a future version. Use pandas.concat instead.\n",
      "  df_output = df_output.append(\n",
      "d:\\_WS_Developpement\\Equipe3_Scale_Game\\app\\01_PREPROCESSING\\Utilities\\_handle_HLTB\\HLTB_handle.py:192: FutureWarning: The frame.append method is deprecated and will be removed from pandas in a future version. Use pandas.concat instead.\n",
      "  df_output = df_output.append(\n",
      "d:\\_WS_Developpement\\Equipe3_Scale_Game\\app\\01_PREPROCESSING\\Utilities\\_handle_HLTB\\HLTB_handle.py:192: FutureWarning: The frame.append method is deprecated and will be removed from pandas in a future version. Use pandas.concat instead.\n",
      "  df_output = df_output.append(\n",
      "d:\\_WS_Developpement\\Equipe3_Scale_Game\\app\\01_PREPROCESSING\\Utilities\\_handle_HLTB\\HLTB_handle.py:192: FutureWarning: The frame.append method is deprecated and will be removed from pandas in a future version. Use pandas.concat instead.\n",
      "  df_output = df_output.append(\n",
      "d:\\_WS_Developpement\\Equipe3_Scale_Game\\app\\01_PREPROCESSING\\Utilities\\_handle_HLTB\\HLTB_handle.py:192: FutureWarning: The frame.append method is deprecated and will be removed from pandas in a future version. Use pandas.concat instead.\n",
      "  df_output = df_output.append(\n",
      "d:\\_WS_Developpement\\Equipe3_Scale_Game\\app\\01_PREPROCESSING\\Utilities\\_handle_HLTB\\HLTB_handle.py:192: FutureWarning: The frame.append method is deprecated and will be removed from pandas in a future version. Use pandas.concat instead.\n",
      "  df_output = df_output.append(\n",
      "d:\\_WS_Developpement\\Equipe3_Scale_Game\\app\\01_PREPROCESSING\\Utilities\\_handle_HLTB\\HLTB_handle.py:192: FutureWarning: The frame.append method is deprecated and will be removed from pandas in a future version. Use pandas.concat instead.\n",
      "  df_output = df_output.append(\n",
      "d:\\_WS_Developpement\\Equipe3_Scale_Game\\app\\01_PREPROCESSING\\Utilities\\_handle_HLTB\\HLTB_handle.py:192: FutureWarning: The frame.append method is deprecated and will be removed from pandas in a future version. Use pandas.concat instead.\n",
      "  df_output = df_output.append(\n",
      "d:\\_WS_Developpement\\Equipe3_Scale_Game\\app\\01_PREPROCESSING\\Utilities\\_handle_HLTB\\HLTB_handle.py:192: FutureWarning: The frame.append method is deprecated and will be removed from pandas in a future version. Use pandas.concat instead.\n",
      "  df_output = df_output.append(\n",
      "d:\\_WS_Developpement\\Equipe3_Scale_Game\\app\\01_PREPROCESSING\\Utilities\\_handle_HLTB\\HLTB_handle.py:192: FutureWarning: The frame.append method is deprecated and will be removed from pandas in a future version. Use pandas.concat instead.\n",
      "  df_output = df_output.append(\n",
      "d:\\_WS_Developpement\\Equipe3_Scale_Game\\app\\01_PREPROCESSING\\Utilities\\_handle_HLTB\\HLTB_handle.py:192: FutureWarning: The frame.append method is deprecated and will be removed from pandas in a future version. Use pandas.concat instead.\n",
      "  df_output = df_output.append(\n",
      "d:\\_WS_Developpement\\Equipe3_Scale_Game\\app\\01_PREPROCESSING\\Utilities\\_handle_HLTB\\HLTB_handle.py:192: FutureWarning: The frame.append method is deprecated and will be removed from pandas in a future version. Use pandas.concat instead.\n",
      "  df_output = df_output.append(\n",
      "d:\\_WS_Developpement\\Equipe3_Scale_Game\\app\\01_PREPROCESSING\\Utilities\\_handle_HLTB\\HLTB_handle.py:192: FutureWarning: The frame.append method is deprecated and will be removed from pandas in a future version. Use pandas.concat instead.\n",
      "  df_output = df_output.append(\n",
      "d:\\_WS_Developpement\\Equipe3_Scale_Game\\app\\01_PREPROCESSING\\Utilities\\_handle_HLTB\\HLTB_handle.py:192: FutureWarning: The frame.append method is deprecated and will be removed from pandas in a future version. Use pandas.concat instead.\n",
      "  df_output = df_output.append(\n",
      "d:\\_WS_Developpement\\Equipe3_Scale_Game\\app\\01_PREPROCESSING\\Utilities\\_handle_HLTB\\HLTB_handle.py:192: FutureWarning: The frame.append method is deprecated and will be removed from pandas in a future version. Use pandas.concat instead.\n",
      "  df_output = df_output.append(\n",
      "d:\\_WS_Developpement\\Equipe3_Scale_Game\\app\\01_PREPROCESSING\\Utilities\\_handle_HLTB\\HLTB_handle.py:192: FutureWarning: The frame.append method is deprecated and will be removed from pandas in a future version. Use pandas.concat instead.\n",
      "  df_output = df_output.append(\n",
      "d:\\_WS_Developpement\\Equipe3_Scale_Game\\app\\01_PREPROCESSING\\Utilities\\_handle_HLTB\\HLTB_handle.py:192: FutureWarning: The frame.append method is deprecated and will be removed from pandas in a future version. Use pandas.concat instead.\n",
      "  df_output = df_output.append(\n",
      "d:\\_WS_Developpement\\Equipe3_Scale_Game\\app\\01_PREPROCESSING\\Utilities\\_handle_HLTB\\HLTB_handle.py:192: FutureWarning: The frame.append method is deprecated and will be removed from pandas in a future version. Use pandas.concat instead.\n",
      "  df_output = df_output.append(\n",
      "d:\\_WS_Developpement\\Equipe3_Scale_Game\\app\\01_PREPROCESSING\\Utilities\\_handle_HLTB\\HLTB_handle.py:192: FutureWarning: The frame.append method is deprecated and will be removed from pandas in a future version. Use pandas.concat instead.\n",
      "  df_output = df_output.append(\n",
      "d:\\_WS_Developpement\\Equipe3_Scale_Game\\app\\01_PREPROCESSING\\Utilities\\_handle_HLTB\\HLTB_handle.py:192: FutureWarning: The frame.append method is deprecated and will be removed from pandas in a future version. Use pandas.concat instead.\n",
      "  df_output = df_output.append(\n",
      "d:\\_WS_Developpement\\Equipe3_Scale_Game\\app\\01_PREPROCESSING\\Utilities\\_handle_HLTB\\HLTB_handle.py:192: FutureWarning: The frame.append method is deprecated and will be removed from pandas in a future version. Use pandas.concat instead.\n",
      "  df_output = df_output.append(\n",
      "d:\\_WS_Developpement\\Equipe3_Scale_Game\\app\\01_PREPROCESSING\\Utilities\\_handle_HLTB\\HLTB_handle.py:192: FutureWarning: The frame.append method is deprecated and will be removed from pandas in a future version. Use pandas.concat instead.\n",
      "  df_output = df_output.append(\n",
      "d:\\_WS_Developpement\\Equipe3_Scale_Game\\app\\01_PREPROCESSING\\Utilities\\_handle_HLTB\\HLTB_handle.py:192: FutureWarning: The frame.append method is deprecated and will be removed from pandas in a future version. Use pandas.concat instead.\n",
      "  df_output = df_output.append(\n",
      "d:\\_WS_Developpement\\Equipe3_Scale_Game\\app\\01_PREPROCESSING\\Utilities\\_handle_HLTB\\HLTB_handle.py:192: FutureWarning: The frame.append method is deprecated and will be removed from pandas in a future version. Use pandas.concat instead.\n",
      "  df_output = df_output.append(\n",
      "d:\\_WS_Developpement\\Equipe3_Scale_Game\\app\\01_PREPROCESSING\\Utilities\\_handle_HLTB\\HLTB_handle.py:192: FutureWarning: The frame.append method is deprecated and will be removed from pandas in a future version. Use pandas.concat instead.\n",
      "  df_output = df_output.append(\n",
      "d:\\_WS_Developpement\\Equipe3_Scale_Game\\app\\01_PREPROCESSING\\Utilities\\_handle_HLTB\\HLTB_handle.py:192: FutureWarning: The frame.append method is deprecated and will be removed from pandas in a future version. Use pandas.concat instead.\n",
      "  df_output = df_output.append(\n",
      "d:\\_WS_Developpement\\Equipe3_Scale_Game\\app\\01_PREPROCESSING\\Utilities\\_handle_HLTB\\HLTB_handle.py:192: FutureWarning: The frame.append method is deprecated and will be removed from pandas in a future version. Use pandas.concat instead.\n",
      "  df_output = df_output.append(\n",
      "d:\\_WS_Developpement\\Equipe3_Scale_Game\\app\\01_PREPROCESSING\\Utilities\\_handle_HLTB\\HLTB_handle.py:192: FutureWarning: The frame.append method is deprecated and will be removed from pandas in a future version. Use pandas.concat instead.\n",
      "  df_output = df_output.append(\n",
      "d:\\_WS_Developpement\\Equipe3_Scale_Game\\app\\01_PREPROCESSING\\Utilities\\_handle_HLTB\\HLTB_handle.py:192: FutureWarning: The frame.append method is deprecated and will be removed from pandas in a future version. Use pandas.concat instead.\n",
      "  df_output = df_output.append(\n",
      "d:\\_WS_Developpement\\Equipe3_Scale_Game\\app\\01_PREPROCESSING\\Utilities\\_handle_HLTB\\HLTB_handle.py:192: FutureWarning: The frame.append method is deprecated and will be removed from pandas in a future version. Use pandas.concat instead.\n",
      "  df_output = df_output.append(\n",
      "d:\\_WS_Developpement\\Equipe3_Scale_Game\\app\\01_PREPROCESSING\\Utilities\\_handle_HLTB\\HLTB_handle.py:192: FutureWarning: The frame.append method is deprecated and will be removed from pandas in a future version. Use pandas.concat instead.\n",
      "  df_output = df_output.append(\n",
      "d:\\_WS_Developpement\\Equipe3_Scale_Game\\app\\01_PREPROCESSING\\Utilities\\_handle_HLTB\\HLTB_handle.py:192: FutureWarning: The frame.append method is deprecated and will be removed from pandas in a future version. Use pandas.concat instead.\n",
      "  df_output = df_output.append(\n",
      "d:\\_WS_Developpement\\Equipe3_Scale_Game\\app\\01_PREPROCESSING\\Utilities\\_handle_HLTB\\HLTB_handle.py:192: FutureWarning: The frame.append method is deprecated and will be removed from pandas in a future version. Use pandas.concat instead.\n",
      "  df_output = df_output.append(\n",
      "d:\\_WS_Developpement\\Equipe3_Scale_Game\\app\\01_PREPROCESSING\\Utilities\\_handle_HLTB\\HLTB_handle.py:192: FutureWarning: The frame.append method is deprecated and will be removed from pandas in a future version. Use pandas.concat instead.\n",
      "  df_output = df_output.append(\n",
      "d:\\_WS_Developpement\\Equipe3_Scale_Game\\app\\01_PREPROCESSING\\Utilities\\_handle_HLTB\\HLTB_handle.py:192: FutureWarning: The frame.append method is deprecated and will be removed from pandas in a future version. Use pandas.concat instead.\n",
      "  df_output = df_output.append(\n",
      "d:\\_WS_Developpement\\Equipe3_Scale_Game\\app\\01_PREPROCESSING\\Utilities\\_handle_HLTB\\HLTB_handle.py:192: FutureWarning: The frame.append method is deprecated and will be removed from pandas in a future version. Use pandas.concat instead.\n",
      "  df_output = df_output.append(\n",
      "d:\\_WS_Developpement\\Equipe3_Scale_Game\\app\\01_PREPROCESSING\\Utilities\\_handle_HLTB\\HLTB_handle.py:192: FutureWarning: The frame.append method is deprecated and will be removed from pandas in a future version. Use pandas.concat instead.\n",
      "  df_output = df_output.append(\n",
      "d:\\_WS_Developpement\\Equipe3_Scale_Game\\app\\01_PREPROCESSING\\Utilities\\_handle_HLTB\\HLTB_handle.py:192: FutureWarning: The frame.append method is deprecated and will be removed from pandas in a future version. Use pandas.concat instead.\n",
      "  df_output = df_output.append(\n",
      "d:\\_WS_Developpement\\Equipe3_Scale_Game\\app\\01_PREPROCESSING\\Utilities\\_handle_HLTB\\HLTB_handle.py:192: FutureWarning: The frame.append method is deprecated and will be removed from pandas in a future version. Use pandas.concat instead.\n",
      "  df_output = df_output.append(\n",
      "d:\\_WS_Developpement\\Equipe3_Scale_Game\\app\\01_PREPROCESSING\\Utilities\\_handle_HLTB\\HLTB_handle.py:192: FutureWarning: The frame.append method is deprecated and will be removed from pandas in a future version. Use pandas.concat instead.\n",
      "  df_output = df_output.append(\n",
      "d:\\_WS_Developpement\\Equipe3_Scale_Game\\app\\01_PREPROCESSING\\Utilities\\_handle_HLTB\\HLTB_handle.py:192: FutureWarning: The frame.append method is deprecated and will be removed from pandas in a future version. Use pandas.concat instead.\n",
      "  df_output = df_output.append(\n",
      "d:\\_WS_Developpement\\Equipe3_Scale_Game\\app\\01_PREPROCESSING\\Utilities\\_handle_HLTB\\HLTB_handle.py:192: FutureWarning: The frame.append method is deprecated and will be removed from pandas in a future version. Use pandas.concat instead.\n",
      "  df_output = df_output.append(\n",
      "d:\\_WS_Developpement\\Equipe3_Scale_Game\\app\\01_PREPROCESSING\\Utilities\\_handle_HLTB\\HLTB_handle.py:192: FutureWarning: The frame.append method is deprecated and will be removed from pandas in a future version. Use pandas.concat instead.\n",
      "  df_output = df_output.append(\n",
      "d:\\_WS_Developpement\\Equipe3_Scale_Game\\app\\01_PREPROCESSING\\Utilities\\_handle_HLTB\\HLTB_handle.py:192: FutureWarning: The frame.append method is deprecated and will be removed from pandas in a future version. Use pandas.concat instead.\n",
      "  df_output = df_output.append(\n",
      "d:\\_WS_Developpement\\Equipe3_Scale_Game\\app\\01_PREPROCESSING\\Utilities\\_handle_HLTB\\HLTB_handle.py:192: FutureWarning: The frame.append method is deprecated and will be removed from pandas in a future version. Use pandas.concat instead.\n",
      "  df_output = df_output.append(\n",
      "d:\\_WS_Developpement\\Equipe3_Scale_Game\\app\\01_PREPROCESSING\\Utilities\\_handle_HLTB\\HLTB_handle.py:192: FutureWarning: The frame.append method is deprecated and will be removed from pandas in a future version. Use pandas.concat instead.\n",
      "  df_output = df_output.append(\n",
      "d:\\_WS_Developpement\\Equipe3_Scale_Game\\app\\01_PREPROCESSING\\Utilities\\_handle_HLTB\\HLTB_handle.py:192: FutureWarning: The frame.append method is deprecated and will be removed from pandas in a future version. Use pandas.concat instead.\n",
      "  df_output = df_output.append(\n",
      "d:\\_WS_Developpement\\Equipe3_Scale_Game\\app\\01_PREPROCESSING\\Utilities\\_handle_HLTB\\HLTB_handle.py:192: FutureWarning: The frame.append method is deprecated and will be removed from pandas in a future version. Use pandas.concat instead.\n",
      "  df_output = df_output.append(\n",
      "d:\\_WS_Developpement\\Equipe3_Scale_Game\\app\\01_PREPROCESSING\\Utilities\\_handle_HLTB\\HLTB_handle.py:192: FutureWarning: The frame.append method is deprecated and will be removed from pandas in a future version. Use pandas.concat instead.\n",
      "  df_output = df_output.append(\n",
      "d:\\_WS_Developpement\\Equipe3_Scale_Game\\app\\01_PREPROCESSING\\Utilities\\_handle_HLTB\\HLTB_handle.py:192: FutureWarning: The frame.append method is deprecated and will be removed from pandas in a future version. Use pandas.concat instead.\n",
      "  df_output = df_output.append(\n",
      "d:\\_WS_Developpement\\Equipe3_Scale_Game\\app\\01_PREPROCESSING\\Utilities\\_handle_HLTB\\HLTB_handle.py:192: FutureWarning: The frame.append method is deprecated and will be removed from pandas in a future version. Use pandas.concat instead.\n",
      "  df_output = df_output.append(\n",
      "d:\\_WS_Developpement\\Equipe3_Scale_Game\\app\\01_PREPROCESSING\\Utilities\\_handle_HLTB\\HLTB_handle.py:192: FutureWarning: The frame.append method is deprecated and will be removed from pandas in a future version. Use pandas.concat instead.\n",
      "  df_output = df_output.append(\n",
      "d:\\_WS_Developpement\\Equipe3_Scale_Game\\app\\01_PREPROCESSING\\Utilities\\_handle_HLTB\\HLTB_handle.py:192: FutureWarning: The frame.append method is deprecated and will be removed from pandas in a future version. Use pandas.concat instead.\n",
      "  df_output = df_output.append(\n",
      "d:\\_WS_Developpement\\Equipe3_Scale_Game\\app\\01_PREPROCESSING\\Utilities\\_handle_HLTB\\HLTB_handle.py:192: FutureWarning: The frame.append method is deprecated and will be removed from pandas in a future version. Use pandas.concat instead.\n",
      "  df_output = df_output.append(\n",
      "d:\\_WS_Developpement\\Equipe3_Scale_Game\\app\\01_PREPROCESSING\\Utilities\\_handle_HLTB\\HLTB_handle.py:192: FutureWarning: The frame.append method is deprecated and will be removed from pandas in a future version. Use pandas.concat instead.\n",
      "  df_output = df_output.append(\n",
      "d:\\_WS_Developpement\\Equipe3_Scale_Game\\app\\01_PREPROCESSING\\Utilities\\_handle_HLTB\\HLTB_handle.py:192: FutureWarning: The frame.append method is deprecated and will be removed from pandas in a future version. Use pandas.concat instead.\n",
      "  df_output = df_output.append(\n",
      "d:\\_WS_Developpement\\Equipe3_Scale_Game\\app\\01_PREPROCESSING\\Utilities\\_handle_HLTB\\HLTB_handle.py:192: FutureWarning: The frame.append method is deprecated and will be removed from pandas in a future version. Use pandas.concat instead.\n",
      "  df_output = df_output.append(\n",
      "d:\\_WS_Developpement\\Equipe3_Scale_Game\\app\\01_PREPROCESSING\\Utilities\\_handle_HLTB\\HLTB_handle.py:192: FutureWarning: The frame.append method is deprecated and will be removed from pandas in a future version. Use pandas.concat instead.\n",
      "  df_output = df_output.append(\n",
      "d:\\_WS_Developpement\\Equipe3_Scale_Game\\app\\01_PREPROCESSING\\Utilities\\_handle_HLTB\\HLTB_handle.py:192: FutureWarning: The frame.append method is deprecated and will be removed from pandas in a future version. Use pandas.concat instead.\n",
      "  df_output = df_output.append(\n",
      "d:\\_WS_Developpement\\Equipe3_Scale_Game\\app\\01_PREPROCESSING\\Utilities\\_handle_HLTB\\HLTB_handle.py:192: FutureWarning: The frame.append method is deprecated and will be removed from pandas in a future version. Use pandas.concat instead.\n",
      "  df_output = df_output.append(\n",
      "d:\\_WS_Developpement\\Equipe3_Scale_Game\\app\\01_PREPROCESSING\\Utilities\\_handle_HLTB\\HLTB_handle.py:192: FutureWarning: The frame.append method is deprecated and will be removed from pandas in a future version. Use pandas.concat instead.\n",
      "  df_output = df_output.append(\n",
      "d:\\_WS_Developpement\\Equipe3_Scale_Game\\app\\01_PREPROCESSING\\Utilities\\_handle_HLTB\\HLTB_handle.py:192: FutureWarning: The frame.append method is deprecated and will be removed from pandas in a future version. Use pandas.concat instead.\n",
      "  df_output = df_output.append(\n",
      "d:\\_WS_Developpement\\Equipe3_Scale_Game\\app\\01_PREPROCESSING\\Utilities\\_handle_HLTB\\HLTB_handle.py:192: FutureWarning: The frame.append method is deprecated and will be removed from pandas in a future version. Use pandas.concat instead.\n",
      "  df_output = df_output.append(\n",
      "d:\\_WS_Developpement\\Equipe3_Scale_Game\\app\\01_PREPROCESSING\\Utilities\\_handle_HLTB\\HLTB_handle.py:192: FutureWarning: The frame.append method is deprecated and will be removed from pandas in a future version. Use pandas.concat instead.\n",
      "  df_output = df_output.append(\n",
      "d:\\_WS_Developpement\\Equipe3_Scale_Game\\app\\01_PREPROCESSING\\Utilities\\_handle_HLTB\\HLTB_handle.py:192: FutureWarning: The frame.append method is deprecated and will be removed from pandas in a future version. Use pandas.concat instead.\n",
      "  df_output = df_output.append(\n",
      "d:\\_WS_Developpement\\Equipe3_Scale_Game\\app\\01_PREPROCESSING\\Utilities\\_handle_HLTB\\HLTB_handle.py:192: FutureWarning: The frame.append method is deprecated and will be removed from pandas in a future version. Use pandas.concat instead.\n",
      "  df_output = df_output.append(\n",
      "d:\\_WS_Developpement\\Equipe3_Scale_Game\\app\\01_PREPROCESSING\\Utilities\\_handle_HLTB\\HLTB_handle.py:192: FutureWarning: The frame.append method is deprecated and will be removed from pandas in a future version. Use pandas.concat instead.\n",
      "  df_output = df_output.append(\n",
      "d:\\_WS_Developpement\\Equipe3_Scale_Game\\app\\01_PREPROCESSING\\Utilities\\_handle_HLTB\\HLTB_handle.py:192: FutureWarning: The frame.append method is deprecated and will be removed from pandas in a future version. Use pandas.concat instead.\n",
      "  df_output = df_output.append(\n",
      "d:\\_WS_Developpement\\Equipe3_Scale_Game\\app\\01_PREPROCESSING\\Utilities\\_handle_HLTB\\HLTB_handle.py:192: FutureWarning: The frame.append method is deprecated and will be removed from pandas in a future version. Use pandas.concat instead.\n",
      "  df_output = df_output.append(\n",
      "d:\\_WS_Developpement\\Equipe3_Scale_Game\\app\\01_PREPROCESSING\\Utilities\\_handle_HLTB\\HLTB_handle.py:192: FutureWarning: The frame.append method is deprecated and will be removed from pandas in a future version. Use pandas.concat instead.\n",
      "  df_output = df_output.append(\n",
      "d:\\_WS_Developpement\\Equipe3_Scale_Game\\app\\01_PREPROCESSING\\Utilities\\_handle_HLTB\\HLTB_handle.py:192: FutureWarning: The frame.append method is deprecated and will be removed from pandas in a future version. Use pandas.concat instead.\n",
      "  df_output = df_output.append(\n",
      "d:\\_WS_Developpement\\Equipe3_Scale_Game\\app\\01_PREPROCESSING\\Utilities\\_handle_HLTB\\HLTB_handle.py:192: FutureWarning: The frame.append method is deprecated and will be removed from pandas in a future version. Use pandas.concat instead.\n",
      "  df_output = df_output.append(\n",
      "d:\\_WS_Developpement\\Equipe3_Scale_Game\\app\\01_PREPROCESSING\\Utilities\\_handle_HLTB\\HLTB_handle.py:192: FutureWarning: The frame.append method is deprecated and will be removed from pandas in a future version. Use pandas.concat instead.\n",
      "  df_output = df_output.append(\n",
      "d:\\_WS_Developpement\\Equipe3_Scale_Game\\app\\01_PREPROCESSING\\Utilities\\_handle_HLTB\\HLTB_handle.py:192: FutureWarning: The frame.append method is deprecated and will be removed from pandas in a future version. Use pandas.concat instead.\n",
      "  df_output = df_output.append(\n",
      "d:\\_WS_Developpement\\Equipe3_Scale_Game\\app\\01_PREPROCESSING\\Utilities\\_handle_HLTB\\HLTB_handle.py:192: FutureWarning: The frame.append method is deprecated and will be removed from pandas in a future version. Use pandas.concat instead.\n",
      "  df_output = df_output.append(\n",
      "d:\\_WS_Developpement\\Equipe3_Scale_Game\\app\\01_PREPROCESSING\\Utilities\\_handle_HLTB\\HLTB_handle.py:192: FutureWarning: The frame.append method is deprecated and will be removed from pandas in a future version. Use pandas.concat instead.\n",
      "  df_output = df_output.append(\n",
      "d:\\_WS_Developpement\\Equipe3_Scale_Game\\app\\01_PREPROCESSING\\Utilities\\_handle_HLTB\\HLTB_handle.py:192: FutureWarning: The frame.append method is deprecated and will be removed from pandas in a future version. Use pandas.concat instead.\n",
      "  df_output = df_output.append(\n",
      "d:\\_WS_Developpement\\Equipe3_Scale_Game\\app\\01_PREPROCESSING\\Utilities\\_handle_HLTB\\HLTB_handle.py:192: FutureWarning: The frame.append method is deprecated and will be removed from pandas in a future version. Use pandas.concat instead.\n",
      "  df_output = df_output.append(\n",
      "d:\\_WS_Developpement\\Equipe3_Scale_Game\\app\\01_PREPROCESSING\\Utilities\\_handle_HLTB\\HLTB_handle.py:192: FutureWarning: The frame.append method is deprecated and will be removed from pandas in a future version. Use pandas.concat instead.\n",
      "  df_output = df_output.append(\n",
      "d:\\_WS_Developpement\\Equipe3_Scale_Game\\app\\01_PREPROCESSING\\Utilities\\_handle_HLTB\\HLTB_handle.py:192: FutureWarning: The frame.append method is deprecated and will be removed from pandas in a future version. Use pandas.concat instead.\n",
      "  df_output = df_output.append(\n",
      "d:\\_WS_Developpement\\Equipe3_Scale_Game\\app\\01_PREPROCESSING\\Utilities\\_handle_HLTB\\HLTB_handle.py:192: FutureWarning: The frame.append method is deprecated and will be removed from pandas in a future version. Use pandas.concat instead.\n",
      "  df_output = df_output.append(\n",
      "d:\\_WS_Developpement\\Equipe3_Scale_Game\\app\\01_PREPROCESSING\\Utilities\\_handle_HLTB\\HLTB_handle.py:192: FutureWarning: The frame.append method is deprecated and will be removed from pandas in a future version. Use pandas.concat instead.\n",
      "  df_output = df_output.append(\n",
      "d:\\_WS_Developpement\\Equipe3_Scale_Game\\app\\01_PREPROCESSING\\Utilities\\_handle_HLTB\\HLTB_handle.py:192: FutureWarning: The frame.append method is deprecated and will be removed from pandas in a future version. Use pandas.concat instead.\n",
      "  df_output = df_output.append(\n",
      "d:\\_WS_Developpement\\Equipe3_Scale_Game\\app\\01_PREPROCESSING\\Utilities\\_handle_HLTB\\HLTB_handle.py:192: FutureWarning: The frame.append method is deprecated and will be removed from pandas in a future version. Use pandas.concat instead.\n",
      "  df_output = df_output.append(\n",
      "d:\\_WS_Developpement\\Equipe3_Scale_Game\\app\\01_PREPROCESSING\\Utilities\\_handle_HLTB\\HLTB_handle.py:192: FutureWarning: The frame.append method is deprecated and will be removed from pandas in a future version. Use pandas.concat instead.\n",
      "  df_output = df_output.append(\n",
      "d:\\_WS_Developpement\\Equipe3_Scale_Game\\app\\01_PREPROCESSING\\Utilities\\_handle_HLTB\\HLTB_handle.py:192: FutureWarning: The frame.append method is deprecated and will be removed from pandas in a future version. Use pandas.concat instead.\n",
      "  df_output = df_output.append(\n",
      "d:\\_WS_Developpement\\Equipe3_Scale_Game\\app\\01_PREPROCESSING\\Utilities\\_handle_HLTB\\HLTB_handle.py:192: FutureWarning: The frame.append method is deprecated and will be removed from pandas in a future version. Use pandas.concat instead.\n",
      "  df_output = df_output.append(\n",
      "d:\\_WS_Developpement\\Equipe3_Scale_Game\\app\\01_PREPROCESSING\\Utilities\\_handle_HLTB\\HLTB_handle.py:192: FutureWarning: The frame.append method is deprecated and will be removed from pandas in a future version. Use pandas.concat instead.\n",
      "  df_output = df_output.append(\n",
      "d:\\_WS_Developpement\\Equipe3_Scale_Game\\app\\01_PREPROCESSING\\Utilities\\_handle_HLTB\\HLTB_handle.py:192: FutureWarning: The frame.append method is deprecated and will be removed from pandas in a future version. Use pandas.concat instead.\n",
      "  df_output = df_output.append(\n",
      "d:\\_WS_Developpement\\Equipe3_Scale_Game\\app\\01_PREPROCESSING\\Utilities\\_handle_HLTB\\HLTB_handle.py:192: FutureWarning: The frame.append method is deprecated and will be removed from pandas in a future version. Use pandas.concat instead.\n",
      "  df_output = df_output.append(\n",
      "d:\\_WS_Developpement\\Equipe3_Scale_Game\\app\\01_PREPROCESSING\\Utilities\\_handle_HLTB\\HLTB_handle.py:192: FutureWarning: The frame.append method is deprecated and will be removed from pandas in a future version. Use pandas.concat instead.\n",
      "  df_output = df_output.append(\n",
      "d:\\_WS_Developpement\\Equipe3_Scale_Game\\app\\01_PREPROCESSING\\Utilities\\_handle_HLTB\\HLTB_handle.py:192: FutureWarning: The frame.append method is deprecated and will be removed from pandas in a future version. Use pandas.concat instead.\n",
      "  df_output = df_output.append(\n",
      "d:\\_WS_Developpement\\Equipe3_Scale_Game\\app\\01_PREPROCESSING\\Utilities\\_handle_HLTB\\HLTB_handle.py:192: FutureWarning: The frame.append method is deprecated and will be removed from pandas in a future version. Use pandas.concat instead.\n",
      "  df_output = df_output.append(\n",
      "d:\\_WS_Developpement\\Equipe3_Scale_Game\\app\\01_PREPROCESSING\\Utilities\\_handle_HLTB\\HLTB_handle.py:192: FutureWarning: The frame.append method is deprecated and will be removed from pandas in a future version. Use pandas.concat instead.\n",
      "  df_output = df_output.append(\n"
     ]
    },
    {
     "data": {
      "text/plain": [
       "(200, 18)"
      ]
     },
     "execution_count": 5,
     "metadata": {},
     "output_type": "execute_result"
    }
   ],
   "source": [
    "handle_hltb = HLTB_handle.HLTB_handle(True, True, True, True)\n",
    "DF_HLTB = handle_hltb.getDatas(game_list_light, \"Notebook_test_hltb.csv\")\n",
    "DF_HLTB.shape"
   ]
  },
  {
   "cell_type": "code",
   "execution_count": 6,
   "metadata": {},
   "outputs": [
    {
     "name": "stderr",
     "output_type": "stream",
     "text": [
      "  0%|          | 0/200 [00:00<?, ?it/s]"
     ]
    },
    {
     "name": "stdout",
     "output_type": "stream",
     "text": [
      "1/200\n"
     ]
    },
    {
     "name": "stderr",
     "output_type": "stream",
     "text": [
      "  0%|          | 1/200 [00:34<1:54:14, 34.45s/it]"
     ]
    },
    {
     "name": "stdout",
     "output_type": "stream",
     "text": [
      "2/200\n"
     ]
    },
    {
     "name": "stderr",
     "output_type": "stream",
     "text": [
      "  1%|          | 2/200 [00:41<1:00:45, 18.41s/it]"
     ]
    },
    {
     "name": "stdout",
     "output_type": "stream",
     "text": [
      "3/200\n"
     ]
    },
    {
     "name": "stderr",
     "output_type": "stream",
     "text": [
      "  2%|▏         | 3/200 [00:49<45:01, 13.71s/it]  "
     ]
    },
    {
     "name": "stdout",
     "output_type": "stream",
     "text": [
      "4/200\n"
     ]
    },
    {
     "name": "stderr",
     "output_type": "stream",
     "text": [
      "  2%|▏         | 4/200 [00:50<28:27,  8.71s/it]"
     ]
    },
    {
     "name": "stdout",
     "output_type": "stream",
     "text": [
      "5/200\n"
     ]
    },
    {
     "name": "stderr",
     "output_type": "stream",
     "text": [
      "  2%|▎         | 5/200 [00:58<27:04,  8.33s/it]"
     ]
    },
    {
     "name": "stdout",
     "output_type": "stream",
     "text": [
      "6/200\n"
     ]
    },
    {
     "name": "stderr",
     "output_type": "stream",
     "text": [
      "  3%|▎         | 6/200 [00:59<18:25,  5.70s/it]"
     ]
    },
    {
     "name": "stdout",
     "output_type": "stream",
     "text": [
      "7/200\n"
     ]
    },
    {
     "name": "stderr",
     "output_type": "stream",
     "text": [
      "  4%|▎         | 7/200 [00:59<12:40,  3.94s/it]"
     ]
    },
    {
     "name": "stdout",
     "output_type": "stream",
     "text": [
      "8/200\n"
     ]
    },
    {
     "name": "stderr",
     "output_type": "stream",
     "text": [
      "  4%|▍         | 8/200 [01:11<20:32,  6.42s/it]"
     ]
    },
    {
     "name": "stdout",
     "output_type": "stream",
     "text": [
      "9/200\n"
     ]
    },
    {
     "name": "stderr",
     "output_type": "stream",
     "text": [
      "  4%|▍         | 9/200 [01:19<22:23,  7.04s/it]"
     ]
    },
    {
     "name": "stdout",
     "output_type": "stream",
     "text": [
      "10/200\n"
     ]
    },
    {
     "name": "stderr",
     "output_type": "stream",
     "text": [
      "  5%|▌         | 10/200 [01:23<19:36,  6.19s/it]"
     ]
    },
    {
     "name": "stdout",
     "output_type": "stream",
     "text": [
      "11/200\n"
     ]
    },
    {
     "name": "stderr",
     "output_type": "stream",
     "text": [
      "  6%|▌         | 11/200 [01:32<21:41,  6.89s/it]"
     ]
    },
    {
     "name": "stdout",
     "output_type": "stream",
     "text": [
      "12/200\n"
     ]
    },
    {
     "name": "stderr",
     "output_type": "stream",
     "text": [
      "  6%|▌         | 12/200 [01:33<15:53,  5.07s/it]"
     ]
    },
    {
     "name": "stdout",
     "output_type": "stream",
     "text": [
      "13/200\n"
     ]
    },
    {
     "name": "stderr",
     "output_type": "stream",
     "text": [
      "  6%|▋         | 13/200 [01:40<18:00,  5.78s/it]"
     ]
    },
    {
     "name": "stdout",
     "output_type": "stream",
     "text": [
      "14/200\n"
     ]
    },
    {
     "name": "stderr",
     "output_type": "stream",
     "text": [
      "  7%|▋         | 14/200 [01:49<20:48,  6.71s/it]"
     ]
    },
    {
     "name": "stdout",
     "output_type": "stream",
     "text": [
      "15/200\n"
     ]
    },
    {
     "name": "stderr",
     "output_type": "stream",
     "text": [
      "  8%|▊         | 15/200 [01:49<14:47,  4.79s/it]"
     ]
    },
    {
     "name": "stdout",
     "output_type": "stream",
     "text": [
      "16/200\n"
     ]
    },
    {
     "name": "stderr",
     "output_type": "stream",
     "text": [
      "  8%|▊         | 16/200 [01:50<11:16,  3.68s/it]"
     ]
    },
    {
     "name": "stdout",
     "output_type": "stream",
     "text": [
      "17/200\n"
     ]
    },
    {
     "name": "stderr",
     "output_type": "stream",
     "text": [
      "  8%|▊         | 17/200 [01:51<08:23,  2.75s/it]"
     ]
    },
    {
     "name": "stdout",
     "output_type": "stream",
     "text": [
      "18/200\n"
     ]
    },
    {
     "name": "stderr",
     "output_type": "stream",
     "text": [
      "  9%|▉         | 18/200 [02:00<14:03,  4.63s/it]"
     ]
    },
    {
     "name": "stdout",
     "output_type": "stream",
     "text": [
      "19/200\n"
     ]
    },
    {
     "name": "stderr",
     "output_type": "stream",
     "text": [
      " 10%|▉         | 19/200 [02:09<17:32,  5.81s/it]"
     ]
    },
    {
     "name": "stdout",
     "output_type": "stream",
     "text": [
      "20/200\n"
     ]
    },
    {
     "name": "stderr",
     "output_type": "stream",
     "text": [
      " 10%|█         | 20/200 [02:20<22:20,  7.45s/it]"
     ]
    },
    {
     "name": "stdout",
     "output_type": "stream",
     "text": [
      "21/200\n"
     ]
    },
    {
     "name": "stderr",
     "output_type": "stream",
     "text": [
      " 10%|█         | 21/200 [02:22<17:26,  5.85s/it]"
     ]
    },
    {
     "name": "stdout",
     "output_type": "stream",
     "text": [
      "22/200\n"
     ]
    },
    {
     "name": "stderr",
     "output_type": "stream",
     "text": [
      " 11%|█         | 22/200 [02:29<18:45,  6.32s/it]"
     ]
    },
    {
     "name": "stdout",
     "output_type": "stream",
     "text": [
      "23/200\n"
     ]
    },
    {
     "name": "stderr",
     "output_type": "stream",
     "text": [
      " 12%|█▏        | 23/200 [02:30<13:38,  4.62s/it]"
     ]
    },
    {
     "name": "stdout",
     "output_type": "stream",
     "text": [
      "24/200\n"
     ]
    },
    {
     "name": "stderr",
     "output_type": "stream",
     "text": [
      " 12%|█▏        | 24/200 [02:30<09:46,  3.33s/it]"
     ]
    },
    {
     "name": "stdout",
     "output_type": "stream",
     "text": [
      "25/200\n"
     ]
    },
    {
     "name": "stderr",
     "output_type": "stream",
     "text": [
      " 12%|█▎        | 25/200 [02:31<07:17,  2.50s/it]"
     ]
    },
    {
     "name": "stdout",
     "output_type": "stream",
     "text": [
      "26/200\n"
     ]
    },
    {
     "name": "stderr",
     "output_type": "stream",
     "text": [
      " 13%|█▎        | 26/200 [02:32<05:41,  1.96s/it]"
     ]
    },
    {
     "name": "stdout",
     "output_type": "stream",
     "text": [
      "27/200\n"
     ]
    },
    {
     "name": "stderr",
     "output_type": "stream",
     "text": [
      " 14%|█▎        | 27/200 [02:37<08:27,  2.94s/it]"
     ]
    },
    {
     "name": "stdout",
     "output_type": "stream",
     "text": [
      "28/200\n"
     ]
    },
    {
     "name": "stderr",
     "output_type": "stream",
     "text": [
      " 14%|█▍        | 28/200 [02:39<08:01,  2.80s/it]"
     ]
    },
    {
     "name": "stdout",
     "output_type": "stream",
     "text": [
      "29/200\n"
     ]
    },
    {
     "name": "stderr",
     "output_type": "stream",
     "text": [
      " 14%|█▍        | 29/200 [02:40<06:07,  2.15s/it]"
     ]
    },
    {
     "name": "stdout",
     "output_type": "stream",
     "text": [
      "30/200\n"
     ]
    },
    {
     "name": "stderr",
     "output_type": "stream",
     "text": [
      " 15%|█▌        | 30/200 [02:46<09:37,  3.40s/it]"
     ]
    },
    {
     "name": "stdout",
     "output_type": "stream",
     "text": [
      "31/200\n"
     ]
    },
    {
     "name": "stderr",
     "output_type": "stream",
     "text": [
      " 16%|█▌        | 31/200 [02:47<07:11,  2.55s/it]"
     ]
    },
    {
     "name": "stdout",
     "output_type": "stream",
     "text": [
      "32/200\n"
     ]
    },
    {
     "name": "stderr",
     "output_type": "stream",
     "text": [
      " 16%|█▌        | 32/200 [02:55<11:41,  4.17s/it]"
     ]
    },
    {
     "name": "stdout",
     "output_type": "stream",
     "text": [
      "33/200\n"
     ]
    },
    {
     "name": "stderr",
     "output_type": "stream",
     "text": [
      " 16%|█▋        | 33/200 [03:00<12:30,  4.50s/it]"
     ]
    },
    {
     "name": "stdout",
     "output_type": "stream",
     "text": [
      "34/200\n"
     ]
    },
    {
     "name": "stderr",
     "output_type": "stream",
     "text": [
      " 17%|█▋        | 34/200 [03:01<09:11,  3.32s/it]"
     ]
    },
    {
     "name": "stdout",
     "output_type": "stream",
     "text": [
      "35/200\n"
     ]
    },
    {
     "name": "stderr",
     "output_type": "stream",
     "text": [
      " 18%|█▊        | 35/200 [03:01<06:56,  2.52s/it]"
     ]
    },
    {
     "name": "stdout",
     "output_type": "stream",
     "text": [
      "36/200\n"
     ]
    },
    {
     "name": "stderr",
     "output_type": "stream",
     "text": [
      " 18%|█▊        | 36/200 [03:10<11:58,  4.38s/it]"
     ]
    },
    {
     "name": "stdout",
     "output_type": "stream",
     "text": [
      "37/200\n"
     ]
    },
    {
     "name": "stderr",
     "output_type": "stream",
     "text": [
      " 18%|█▊        | 37/200 [03:12<09:53,  3.64s/it]"
     ]
    },
    {
     "name": "stdout",
     "output_type": "stream",
     "text": [
      "38/200\n"
     ]
    },
    {
     "name": "stderr",
     "output_type": "stream",
     "text": [
      " 19%|█▉        | 38/200 [03:12<07:21,  2.73s/it]"
     ]
    },
    {
     "name": "stdout",
     "output_type": "stream",
     "text": [
      "39/200\n"
     ]
    },
    {
     "name": "stderr",
     "output_type": "stream",
     "text": [
      " 20%|█▉        | 39/200 [03:21<12:13,  4.56s/it]"
     ]
    },
    {
     "name": "stdout",
     "output_type": "stream",
     "text": [
      "40/200\n"
     ]
    },
    {
     "name": "stderr",
     "output_type": "stream",
     "text": [
      " 20%|██        | 40/200 [03:23<09:41,  3.64s/it]"
     ]
    },
    {
     "name": "stdout",
     "output_type": "stream",
     "text": [
      "41/200\n"
     ]
    },
    {
     "name": "stderr",
     "output_type": "stream",
     "text": [
      " 20%|██        | 41/200 [03:24<07:59,  3.02s/it]"
     ]
    },
    {
     "name": "stdout",
     "output_type": "stream",
     "text": [
      "42/200\n"
     ]
    },
    {
     "name": "stderr",
     "output_type": "stream",
     "text": [
      " 21%|██        | 42/200 [03:32<11:47,  4.48s/it]"
     ]
    },
    {
     "name": "stdout",
     "output_type": "stream",
     "text": [
      "43/200\n"
     ]
    },
    {
     "name": "stderr",
     "output_type": "stream",
     "text": [
      " 22%|██▏       | 43/200 [03:38<12:47,  4.89s/it]"
     ]
    },
    {
     "name": "stdout",
     "output_type": "stream",
     "text": [
      "44/200\n"
     ]
    },
    {
     "name": "stderr",
     "output_type": "stream",
     "text": [
      " 22%|██▏       | 44/200 [03:38<09:08,  3.51s/it]"
     ]
    },
    {
     "name": "stdout",
     "output_type": "stream",
     "text": [
      "45/200\n"
     ]
    },
    {
     "name": "stderr",
     "output_type": "stream",
     "text": [
      " 22%|██▎       | 45/200 [03:45<11:24,  4.42s/it]"
     ]
    },
    {
     "name": "stdout",
     "output_type": "stream",
     "text": [
      "46/200\n"
     ]
    },
    {
     "name": "stderr",
     "output_type": "stream",
     "text": [
      " 23%|██▎       | 46/200 [03:48<10:33,  4.11s/it]"
     ]
    },
    {
     "name": "stdout",
     "output_type": "stream",
     "text": [
      "47/200\n"
     ]
    },
    {
     "name": "stderr",
     "output_type": "stream",
     "text": [
      " 24%|██▎       | 47/200 [03:56<13:02,  5.11s/it]"
     ]
    },
    {
     "name": "stdout",
     "output_type": "stream",
     "text": [
      "48/200\n"
     ]
    },
    {
     "name": "stderr",
     "output_type": "stream",
     "text": [
      " 24%|██▍       | 48/200 [03:59<11:45,  4.64s/it]"
     ]
    },
    {
     "name": "stdout",
     "output_type": "stream",
     "text": [
      "49/200\n"
     ]
    },
    {
     "name": "stderr",
     "output_type": "stream",
     "text": [
      " 24%|██▍       | 49/200 [04:05<12:06,  4.81s/it]"
     ]
    },
    {
     "name": "stdout",
     "output_type": "stream",
     "text": [
      "50/200\n"
     ]
    },
    {
     "name": "stderr",
     "output_type": "stream",
     "text": [
      " 25%|██▌       | 50/200 [04:11<13:17,  5.32s/it]"
     ]
    },
    {
     "name": "stdout",
     "output_type": "stream",
     "text": [
      "51/200\n"
     ]
    },
    {
     "name": "stderr",
     "output_type": "stream",
     "text": [
      " 26%|██▌       | 51/200 [04:13<10:43,  4.32s/it]"
     ]
    },
    {
     "name": "stdout",
     "output_type": "stream",
     "text": [
      "52/200\n"
     ]
    },
    {
     "name": "stderr",
     "output_type": "stream",
     "text": [
      " 26%|██▌       | 52/200 [04:13<07:40,  3.11s/it]"
     ]
    },
    {
     "name": "stdout",
     "output_type": "stream",
     "text": [
      "53/200\n"
     ]
    },
    {
     "name": "stderr",
     "output_type": "stream",
     "text": [
      " 26%|██▋       | 53/200 [04:23<12:09,  4.96s/it]"
     ]
    },
    {
     "name": "stdout",
     "output_type": "stream",
     "text": [
      "54/200\n"
     ]
    },
    {
     "name": "stderr",
     "output_type": "stream",
     "text": [
      " 27%|██▋       | 54/200 [04:23<08:40,  3.56s/it]"
     ]
    },
    {
     "name": "stdout",
     "output_type": "stream",
     "text": [
      "55/200\n"
     ]
    },
    {
     "name": "stderr",
     "output_type": "stream",
     "text": [
      " 28%|██▊       | 55/200 [04:29<10:18,  4.27s/it]"
     ]
    },
    {
     "name": "stdout",
     "output_type": "stream",
     "text": [
      "56/200\n"
     ]
    },
    {
     "name": "stderr",
     "output_type": "stream",
     "text": [
      " 28%|██▊       | 56/200 [04:36<12:20,  5.14s/it]"
     ]
    },
    {
     "name": "stdout",
     "output_type": "stream",
     "text": [
      "57/200\n"
     ]
    },
    {
     "name": "stderr",
     "output_type": "stream",
     "text": [
      " 28%|██▊       | 57/200 [04:37<08:59,  3.77s/it]"
     ]
    },
    {
     "name": "stdout",
     "output_type": "stream",
     "text": [
      "58/200\n"
     ]
    },
    {
     "name": "stderr",
     "output_type": "stream",
     "text": [
      " 29%|██▉       | 58/200 [04:43<10:39,  4.50s/it]"
     ]
    },
    {
     "name": "stdout",
     "output_type": "stream",
     "text": [
      "59/200\n"
     ]
    },
    {
     "name": "stderr",
     "output_type": "stream",
     "text": [
      " 30%|██▉       | 59/200 [04:51<13:33,  5.77s/it]"
     ]
    },
    {
     "name": "stdout",
     "output_type": "stream",
     "text": [
      "60/200\n"
     ]
    },
    {
     "name": "stderr",
     "output_type": "stream",
     "text": [
      " 30%|███       | 60/200 [05:02<16:51,  7.22s/it]"
     ]
    },
    {
     "name": "stdout",
     "output_type": "stream",
     "text": [
      "61/200\n"
     ]
    },
    {
     "name": "stderr",
     "output_type": "stream",
     "text": [
      " 30%|███       | 61/200 [05:03<12:09,  5.25s/it]"
     ]
    },
    {
     "name": "stdout",
     "output_type": "stream",
     "text": [
      "62/200\n"
     ]
    },
    {
     "name": "stderr",
     "output_type": "stream",
     "text": [
      " 31%|███       | 62/200 [05:04<09:06,  3.96s/it]"
     ]
    },
    {
     "name": "stdout",
     "output_type": "stream",
     "text": [
      "63/200\n"
     ]
    },
    {
     "name": "stderr",
     "output_type": "stream",
     "text": [
      " 32%|███▏      | 63/200 [05:07<08:33,  3.75s/it]"
     ]
    },
    {
     "name": "stdout",
     "output_type": "stream",
     "text": [
      "64/200\n"
     ]
    },
    {
     "name": "stderr",
     "output_type": "stream",
     "text": [
      " 32%|███▏      | 64/200 [05:11<08:55,  3.94s/it]"
     ]
    },
    {
     "name": "stdout",
     "output_type": "stream",
     "text": [
      "65/200\n"
     ]
    },
    {
     "name": "stderr",
     "output_type": "stream",
     "text": [
      " 32%|███▎      | 65/200 [05:12<06:36,  2.94s/it]"
     ]
    },
    {
     "name": "stdout",
     "output_type": "stream",
     "text": [
      "66/200\n"
     ]
    },
    {
     "name": "stderr",
     "output_type": "stream",
     "text": [
      " 33%|███▎      | 66/200 [05:21<10:44,  4.81s/it]"
     ]
    },
    {
     "name": "stdout",
     "output_type": "stream",
     "text": [
      "67/200\n"
     ]
    },
    {
     "name": "stderr",
     "output_type": "stream",
     "text": [
      " 34%|███▎      | 67/200 [05:30<13:03,  5.89s/it]"
     ]
    },
    {
     "name": "stdout",
     "output_type": "stream",
     "text": [
      "68/200\n"
     ]
    },
    {
     "name": "stderr",
     "output_type": "stream",
     "text": [
      " 34%|███▍      | 68/200 [05:35<12:45,  5.80s/it]"
     ]
    },
    {
     "name": "stdout",
     "output_type": "stream",
     "text": [
      "69/200\n"
     ]
    },
    {
     "name": "stderr",
     "output_type": "stream",
     "text": [
      " 34%|███▍      | 69/200 [05:42<13:30,  6.18s/it]"
     ]
    },
    {
     "name": "stdout",
     "output_type": "stream",
     "text": [
      "70/200\n"
     ]
    },
    {
     "name": "stderr",
     "output_type": "stream",
     "text": [
      " 35%|███▌      | 70/200 [05:50<14:09,  6.53s/it]"
     ]
    },
    {
     "name": "stdout",
     "output_type": "stream",
     "text": [
      "71/200\n"
     ]
    },
    {
     "name": "stderr",
     "output_type": "stream",
     "text": [
      " 36%|███▌      | 71/200 [05:50<10:03,  4.68s/it]"
     ]
    },
    {
     "name": "stdout",
     "output_type": "stream",
     "text": [
      "72/200\n"
     ]
    },
    {
     "name": "stderr",
     "output_type": "stream",
     "text": [
      " 36%|███▌      | 72/200 [05:56<10:40,  5.01s/it]"
     ]
    },
    {
     "name": "stdout",
     "output_type": "stream",
     "text": [
      "73/200\n"
     ]
    },
    {
     "name": "stderr",
     "output_type": "stream",
     "text": [
      " 36%|███▋      | 73/200 [05:56<07:50,  3.70s/it]"
     ]
    },
    {
     "name": "stdout",
     "output_type": "stream",
     "text": [
      "74/200\n"
     ]
    },
    {
     "name": "stderr",
     "output_type": "stream",
     "text": [
      " 37%|███▋      | 74/200 [05:57<06:03,  2.88s/it]"
     ]
    },
    {
     "name": "stdout",
     "output_type": "stream",
     "text": [
      "75/200\n"
     ]
    },
    {
     "name": "stderr",
     "output_type": "stream",
     "text": [
      " 38%|███▊      | 75/200 [05:58<04:30,  2.17s/it]"
     ]
    },
    {
     "name": "stdout",
     "output_type": "stream",
     "text": [
      "76/200\n"
     ]
    },
    {
     "name": "stderr",
     "output_type": "stream",
     "text": [
      " 38%|███▊      | 76/200 [06:00<04:20,  2.10s/it]"
     ]
    },
    {
     "name": "stdout",
     "output_type": "stream",
     "text": [
      "77/200\n"
     ]
    },
    {
     "name": "stderr",
     "output_type": "stream",
     "text": [
      " 38%|███▊      | 77/200 [06:09<08:57,  4.37s/it]"
     ]
    },
    {
     "name": "stdout",
     "output_type": "stream",
     "text": [
      "78/200\n"
     ]
    },
    {
     "name": "stderr",
     "output_type": "stream",
     "text": [
      " 39%|███▉      | 78/200 [06:10<06:31,  3.21s/it]"
     ]
    },
    {
     "name": "stdout",
     "output_type": "stream",
     "text": [
      "79/200\n"
     ]
    },
    {
     "name": "stderr",
     "output_type": "stream",
     "text": [
      " 40%|███▉      | 79/200 [06:13<06:30,  3.23s/it]"
     ]
    },
    {
     "name": "stdout",
     "output_type": "stream",
     "text": [
      "80/200\n"
     ]
    },
    {
     "name": "stderr",
     "output_type": "stream",
     "text": [
      " 40%|████      | 80/200 [06:20<08:30,  4.25s/it]"
     ]
    },
    {
     "name": "stdout",
     "output_type": "stream",
     "text": [
      "81/200\n"
     ]
    },
    {
     "name": "stderr",
     "output_type": "stream",
     "text": [
      " 40%|████      | 81/200 [06:26<09:22,  4.73s/it]"
     ]
    },
    {
     "name": "stdout",
     "output_type": "stream",
     "text": [
      "82/200\n"
     ]
    },
    {
     "name": "stderr",
     "output_type": "stream",
     "text": [
      " 41%|████      | 82/200 [06:32<10:27,  5.31s/it]"
     ]
    },
    {
     "name": "stdout",
     "output_type": "stream",
     "text": [
      "83/200\n"
     ]
    },
    {
     "name": "stderr",
     "output_type": "stream",
     "text": [
      " 42%|████▏     | 83/200 [06:34<08:06,  4.16s/it]"
     ]
    },
    {
     "name": "stdout",
     "output_type": "stream",
     "text": [
      "84/200\n"
     ]
    },
    {
     "name": "stderr",
     "output_type": "stream",
     "text": [
      " 42%|████▏     | 84/200 [06:40<09:21,  4.84s/it]"
     ]
    },
    {
     "name": "stdout",
     "output_type": "stream",
     "text": [
      "85/200\n"
     ]
    },
    {
     "name": "stderr",
     "output_type": "stream",
     "text": [
      " 42%|████▎     | 85/200 [06:42<07:40,  4.01s/it]"
     ]
    },
    {
     "name": "stdout",
     "output_type": "stream",
     "text": [
      "86/200\n"
     ]
    },
    {
     "name": "stderr",
     "output_type": "stream",
     "text": [
      " 43%|████▎     | 86/200 [06:43<05:31,  2.90s/it]"
     ]
    },
    {
     "name": "stdout",
     "output_type": "stream",
     "text": [
      "87/200\n"
     ]
    },
    {
     "name": "stderr",
     "output_type": "stream",
     "text": [
      " 44%|████▎     | 87/200 [06:43<03:59,  2.12s/it]"
     ]
    },
    {
     "name": "stdout",
     "output_type": "stream",
     "text": [
      "88/200\n"
     ]
    },
    {
     "name": "stderr",
     "output_type": "stream",
     "text": [
      " 44%|████▍     | 88/200 [06:51<07:02,  3.77s/it]"
     ]
    },
    {
     "name": "stdout",
     "output_type": "stream",
     "text": [
      "89/200\n"
     ]
    },
    {
     "name": "stderr",
     "output_type": "stream",
     "text": [
      " 44%|████▍     | 89/200 [06:51<05:05,  2.75s/it]"
     ]
    },
    {
     "name": "stdout",
     "output_type": "stream",
     "text": [
      "90/200\n"
     ]
    },
    {
     "name": "stderr",
     "output_type": "stream",
     "text": [
      " 45%|████▌     | 90/200 [06:51<03:50,  2.10s/it]"
     ]
    },
    {
     "name": "stdout",
     "output_type": "stream",
     "text": [
      "91/200\n"
     ]
    },
    {
     "name": "stderr",
     "output_type": "stream",
     "text": [
      " 46%|████▌     | 91/200 [06:52<02:53,  1.59s/it]"
     ]
    },
    {
     "name": "stdout",
     "output_type": "stream",
     "text": [
      "92/200\n"
     ]
    },
    {
     "name": "stderr",
     "output_type": "stream",
     "text": [
      " 46%|████▌     | 92/200 [06:59<05:53,  3.27s/it]"
     ]
    },
    {
     "name": "stdout",
     "output_type": "stream",
     "text": [
      "93/200\n"
     ]
    },
    {
     "name": "stderr",
     "output_type": "stream",
     "text": [
      " 46%|████▋     | 93/200 [07:05<07:19,  4.10s/it]"
     ]
    },
    {
     "name": "stdout",
     "output_type": "stream",
     "text": [
      "94/200\n"
     ]
    },
    {
     "name": "stderr",
     "output_type": "stream",
     "text": [
      " 47%|████▋     | 94/200 [07:11<08:23,  4.75s/it]"
     ]
    },
    {
     "name": "stdout",
     "output_type": "stream",
     "text": [
      "95/200\n"
     ]
    },
    {
     "name": "stderr",
     "output_type": "stream",
     "text": [
      " 48%|████▊     | 95/200 [07:12<06:07,  3.50s/it]"
     ]
    },
    {
     "name": "stdout",
     "output_type": "stream",
     "text": [
      "96/200\n"
     ]
    },
    {
     "name": "stderr",
     "output_type": "stream",
     "text": [
      " 48%|████▊     | 96/200 [07:18<07:16,  4.20s/it]"
     ]
    },
    {
     "name": "stdout",
     "output_type": "stream",
     "text": [
      "97/200\n"
     ]
    },
    {
     "name": "stderr",
     "output_type": "stream",
     "text": [
      " 48%|████▊     | 97/200 [07:18<05:22,  3.13s/it]"
     ]
    },
    {
     "name": "stdout",
     "output_type": "stream",
     "text": [
      "98/200\n"
     ]
    },
    {
     "name": "stderr",
     "output_type": "stream",
     "text": [
      " 49%|████▉     | 98/200 [07:19<04:02,  2.37s/it]"
     ]
    },
    {
     "name": "stdout",
     "output_type": "stream",
     "text": [
      "99/200\n"
     ]
    },
    {
     "name": "stderr",
     "output_type": "stream",
     "text": [
      " 50%|████▉     | 99/200 [07:22<04:28,  2.66s/it]"
     ]
    },
    {
     "name": "stdout",
     "output_type": "stream",
     "text": [
      "100/200\n"
     ]
    },
    {
     "name": "stderr",
     "output_type": "stream",
     "text": [
      " 50%|█████     | 100/200 [07:30<07:01,  4.22s/it]"
     ]
    },
    {
     "name": "stdout",
     "output_type": "stream",
     "text": [
      "101/200\n"
     ]
    },
    {
     "name": "stderr",
     "output_type": "stream",
     "text": [
      " 50%|█████     | 101/200 [07:39<09:00,  5.45s/it]"
     ]
    },
    {
     "name": "stdout",
     "output_type": "stream",
     "text": [
      "102/200\n"
     ]
    },
    {
     "name": "stderr",
     "output_type": "stream",
     "text": [
      " 51%|█████     | 102/200 [07:39<06:33,  4.02s/it]"
     ]
    },
    {
     "name": "stdout",
     "output_type": "stream",
     "text": [
      "103/200\n"
     ]
    },
    {
     "name": "stderr",
     "output_type": "stream",
     "text": [
      " 52%|█████▏    | 103/200 [07:48<08:49,  5.46s/it]"
     ]
    },
    {
     "name": "stdout",
     "output_type": "stream",
     "text": [
      "104/200\n"
     ]
    },
    {
     "name": "stderr",
     "output_type": "stream",
     "text": [
      " 52%|█████▏    | 104/200 [07:49<06:36,  4.13s/it]"
     ]
    },
    {
     "name": "stdout",
     "output_type": "stream",
     "text": [
      "105/200\n"
     ]
    },
    {
     "name": "stderr",
     "output_type": "stream",
     "text": [
      " 52%|█████▎    | 105/200 [07:58<08:58,  5.66s/it]"
     ]
    },
    {
     "name": "stdout",
     "output_type": "stream",
     "text": [
      "106/200\n"
     ]
    },
    {
     "name": "stderr",
     "output_type": "stream",
     "text": [
      " 53%|█████▎    | 106/200 [08:00<06:51,  4.37s/it]"
     ]
    },
    {
     "name": "stdout",
     "output_type": "stream",
     "text": [
      "107/200\n"
     ]
    },
    {
     "name": "stderr",
     "output_type": "stream",
     "text": [
      " 54%|█████▎    | 107/200 [08:02<06:00,  3.87s/it]"
     ]
    },
    {
     "name": "stdout",
     "output_type": "stream",
     "text": [
      "108/200\n"
     ]
    },
    {
     "name": "stderr",
     "output_type": "stream",
     "text": [
      " 54%|█████▍    | 108/200 [08:03<04:28,  2.92s/it]"
     ]
    },
    {
     "name": "stdout",
     "output_type": "stream",
     "text": [
      "109/200\n"
     ]
    },
    {
     "name": "stderr",
     "output_type": "stream",
     "text": [
      " 55%|█████▍    | 109/200 [08:06<04:36,  3.04s/it]"
     ]
    },
    {
     "name": "stdout",
     "output_type": "stream",
     "text": [
      "110/200\n"
     ]
    },
    {
     "name": "stderr",
     "output_type": "stream",
     "text": [
      " 55%|█████▌    | 110/200 [08:15<07:02,  4.69s/it]"
     ]
    },
    {
     "name": "stdout",
     "output_type": "stream",
     "text": [
      "111/200\n"
     ]
    },
    {
     "name": "stderr",
     "output_type": "stream",
     "text": [
      " 56%|█████▌    | 111/200 [08:23<08:18,  5.60s/it]"
     ]
    },
    {
     "name": "stdout",
     "output_type": "stream",
     "text": [
      "112/200\n"
     ]
    },
    {
     "name": "stderr",
     "output_type": "stream",
     "text": [
      " 56%|█████▌    | 112/200 [08:31<09:25,  6.43s/it]"
     ]
    },
    {
     "name": "stdout",
     "output_type": "stream",
     "text": [
      "113/200\n"
     ]
    },
    {
     "name": "stderr",
     "output_type": "stream",
     "text": [
      " 56%|█████▋    | 113/200 [08:31<06:39,  4.59s/it]"
     ]
    },
    {
     "name": "stdout",
     "output_type": "stream",
     "text": [
      "114/200\n"
     ]
    },
    {
     "name": "stderr",
     "output_type": "stream",
     "text": [
      " 57%|█████▋    | 114/200 [08:38<07:16,  5.08s/it]"
     ]
    },
    {
     "name": "stdout",
     "output_type": "stream",
     "text": [
      "115/200\n"
     ]
    },
    {
     "name": "stderr",
     "output_type": "stream",
     "text": [
      " 57%|█████▊    | 115/200 [08:38<05:16,  3.72s/it]"
     ]
    },
    {
     "name": "stdout",
     "output_type": "stream",
     "text": [
      "116/200\n"
     ]
    },
    {
     "name": "stderr",
     "output_type": "stream",
     "text": [
      " 58%|█████▊    | 116/200 [08:45<06:37,  4.73s/it]"
     ]
    },
    {
     "name": "stdout",
     "output_type": "stream",
     "text": [
      "117/200\n"
     ]
    },
    {
     "name": "stderr",
     "output_type": "stream",
     "text": [
      " 58%|█████▊    | 117/200 [08:46<04:48,  3.48s/it]"
     ]
    },
    {
     "name": "stdout",
     "output_type": "stream",
     "text": [
      "118/200\n"
     ]
    },
    {
     "name": "stderr",
     "output_type": "stream",
     "text": [
      " 59%|█████▉    | 118/200 [08:46<03:27,  2.53s/it]"
     ]
    },
    {
     "name": "stdout",
     "output_type": "stream",
     "text": [
      "119/200\n"
     ]
    },
    {
     "name": "stderr",
     "output_type": "stream",
     "text": [
      " 60%|█████▉    | 119/200 [08:55<06:09,  4.57s/it]"
     ]
    },
    {
     "name": "stdout",
     "output_type": "stream",
     "text": [
      "120/200\n"
     ]
    },
    {
     "name": "stderr",
     "output_type": "stream",
     "text": [
      " 60%|██████    | 120/200 [09:03<07:17,  5.46s/it]"
     ]
    },
    {
     "name": "stdout",
     "output_type": "stream",
     "text": [
      "121/200\n"
     ]
    },
    {
     "name": "stderr",
     "output_type": "stream",
     "text": [
      " 60%|██████    | 121/200 [09:03<05:10,  3.93s/it]"
     ]
    },
    {
     "name": "stdout",
     "output_type": "stream",
     "text": [
      "122/200\n"
     ]
    },
    {
     "name": "stderr",
     "output_type": "stream",
     "text": [
      " 61%|██████    | 122/200 [09:04<03:43,  2.86s/it]"
     ]
    },
    {
     "name": "stdout",
     "output_type": "stream",
     "text": [
      "123/200\n"
     ]
    },
    {
     "name": "stderr",
     "output_type": "stream",
     "text": [
      " 62%|██████▏   | 123/200 [09:12<05:36,  4.38s/it]"
     ]
    },
    {
     "name": "stdout",
     "output_type": "stream",
     "text": [
      "124/200\n"
     ]
    },
    {
     "name": "stderr",
     "output_type": "stream",
     "text": [
      " 62%|██████▏   | 124/200 [09:12<04:05,  3.23s/it]"
     ]
    },
    {
     "name": "stdout",
     "output_type": "stream",
     "text": [
      "125/200\n"
     ]
    },
    {
     "name": "stderr",
     "output_type": "stream",
     "text": [
      " 62%|██████▎   | 125/200 [09:22<06:32,  5.23s/it]"
     ]
    },
    {
     "name": "stdout",
     "output_type": "stream",
     "text": [
      "126/200\n"
     ]
    },
    {
     "name": "stderr",
     "output_type": "stream",
     "text": [
      " 63%|██████▎   | 126/200 [09:30<07:30,  6.09s/it]"
     ]
    },
    {
     "name": "stdout",
     "output_type": "stream",
     "text": [
      "127/200\n"
     ]
    },
    {
     "name": "stderr",
     "output_type": "stream",
     "text": [
      " 64%|██████▎   | 127/200 [09:36<07:19,  6.03s/it]"
     ]
    },
    {
     "name": "stdout",
     "output_type": "stream",
     "text": [
      "128/200\n"
     ]
    },
    {
     "name": "stderr",
     "output_type": "stream",
     "text": [
      " 64%|██████▍   | 128/200 [09:40<06:20,  5.28s/it]"
     ]
    },
    {
     "name": "stdout",
     "output_type": "stream",
     "text": [
      "129/200\n"
     ]
    },
    {
     "name": "stderr",
     "output_type": "stream",
     "text": [
      " 64%|██████▍   | 129/200 [09:40<04:29,  3.79s/it]"
     ]
    },
    {
     "name": "stdout",
     "output_type": "stream",
     "text": [
      "130/200\n"
     ]
    },
    {
     "name": "stderr",
     "output_type": "stream",
     "text": [
      " 65%|██████▌   | 130/200 [09:40<03:17,  2.82s/it]"
     ]
    },
    {
     "name": "stdout",
     "output_type": "stream",
     "text": [
      "131/200\n"
     ]
    },
    {
     "name": "stderr",
     "output_type": "stream",
     "text": [
      " 66%|██████▌   | 131/200 [09:42<02:39,  2.31s/it]"
     ]
    },
    {
     "name": "stdout",
     "output_type": "stream",
     "text": [
      "132/200\n"
     ]
    },
    {
     "name": "stderr",
     "output_type": "stream",
     "text": [
      " 66%|██████▌   | 132/200 [09:42<02:01,  1.78s/it]"
     ]
    },
    {
     "name": "stdout",
     "output_type": "stream",
     "text": [
      "133/200\n"
     ]
    },
    {
     "name": "stderr",
     "output_type": "stream",
     "text": [
      " 66%|██████▋   | 133/200 [09:49<03:52,  3.46s/it]"
     ]
    },
    {
     "name": "stdout",
     "output_type": "stream",
     "text": [
      "134/200\n"
     ]
    },
    {
     "name": "stderr",
     "output_type": "stream",
     "text": [
      " 67%|██████▋   | 134/200 [09:53<03:45,  3.41s/it]"
     ]
    },
    {
     "name": "stdout",
     "output_type": "stream",
     "text": [
      "135/200\n"
     ]
    },
    {
     "name": "stderr",
     "output_type": "stream",
     "text": [
      " 68%|██████▊   | 135/200 [09:53<02:46,  2.56s/it]"
     ]
    },
    {
     "name": "stdout",
     "output_type": "stream",
     "text": [
      "136/200\n"
     ]
    },
    {
     "name": "stderr",
     "output_type": "stream",
     "text": [
      " 68%|██████▊   | 136/200 [09:59<03:41,  3.46s/it]"
     ]
    },
    {
     "name": "stdout",
     "output_type": "stream",
     "text": [
      "137/200\n"
     ]
    },
    {
     "name": "stderr",
     "output_type": "stream",
     "text": [
      " 68%|██████▊   | 137/200 [09:59<02:43,  2.59s/it]"
     ]
    },
    {
     "name": "stdout",
     "output_type": "stream",
     "text": [
      "138/200\n"
     ]
    },
    {
     "name": "stderr",
     "output_type": "stream",
     "text": [
      " 69%|██████▉   | 138/200 [10:00<02:10,  2.11s/it]"
     ]
    },
    {
     "name": "stdout",
     "output_type": "stream",
     "text": [
      "139/200\n"
     ]
    },
    {
     "name": "stderr",
     "output_type": "stream",
     "text": [
      " 70%|██████▉   | 139/200 [10:08<03:48,  3.75s/it]"
     ]
    },
    {
     "name": "stdout",
     "output_type": "stream",
     "text": [
      "140/200\n"
     ]
    },
    {
     "name": "stderr",
     "output_type": "stream",
     "text": [
      " 70%|███████   | 140/200 [10:18<05:36,  5.61s/it]"
     ]
    },
    {
     "name": "stdout",
     "output_type": "stream",
     "text": [
      "141/200\n"
     ]
    },
    {
     "name": "stderr",
     "output_type": "stream",
     "text": [
      " 70%|███████   | 141/200 [10:26<06:19,  6.44s/it]"
     ]
    },
    {
     "name": "stdout",
     "output_type": "stream",
     "text": [
      "142/200\n"
     ]
    },
    {
     "name": "stderr",
     "output_type": "stream",
     "text": [
      " 71%|███████   | 142/200 [10:27<04:37,  4.79s/it]"
     ]
    },
    {
     "name": "stdout",
     "output_type": "stream",
     "text": [
      "143/200\n"
     ]
    },
    {
     "name": "stderr",
     "output_type": "stream",
     "text": [
      " 72%|███████▏  | 143/200 [10:38<06:21,  6.69s/it]"
     ]
    },
    {
     "name": "stdout",
     "output_type": "stream",
     "text": [
      "144/200\n"
     ]
    },
    {
     "name": "stderr",
     "output_type": "stream",
     "text": [
      " 72%|███████▏  | 144/200 [10:45<06:05,  6.53s/it]"
     ]
    },
    {
     "name": "stdout",
     "output_type": "stream",
     "text": [
      "145/200\n"
     ]
    },
    {
     "name": "stderr",
     "output_type": "stream",
     "text": [
      " 72%|███████▎  | 145/200 [10:45<04:20,  4.74s/it]"
     ]
    },
    {
     "name": "stdout",
     "output_type": "stream",
     "text": [
      "146/200\n"
     ]
    },
    {
     "name": "stderr",
     "output_type": "stream",
     "text": [
      " 73%|███████▎  | 146/200 [10:51<04:29,  5.00s/it]"
     ]
    },
    {
     "name": "stdout",
     "output_type": "stream",
     "text": [
      "147/200\n"
     ]
    },
    {
     "name": "stderr",
     "output_type": "stream",
     "text": [
      " 74%|███████▎  | 147/200 [10:51<03:15,  3.68s/it]"
     ]
    },
    {
     "name": "stdout",
     "output_type": "stream",
     "text": [
      "148/200\n"
     ]
    },
    {
     "name": "stderr",
     "output_type": "stream",
     "text": [
      " 74%|███████▍  | 148/200 [10:52<02:21,  2.73s/it]"
     ]
    },
    {
     "name": "stdout",
     "output_type": "stream",
     "text": [
      "149/200\n"
     ]
    },
    {
     "name": "stderr",
     "output_type": "stream",
     "text": [
      " 74%|███████▍  | 149/200 [11:02<04:12,  4.96s/it]"
     ]
    },
    {
     "name": "stdout",
     "output_type": "stream",
     "text": [
      "150/200\n"
     ]
    },
    {
     "name": "stderr",
     "output_type": "stream",
     "text": [
      " 75%|███████▌  | 150/200 [11:08<04:28,  5.37s/it]"
     ]
    },
    {
     "name": "stdout",
     "output_type": "stream",
     "text": [
      "151/200\n"
     ]
    },
    {
     "name": "stderr",
     "output_type": "stream",
     "text": [
      " 76%|███████▌  | 151/200 [11:13<04:05,  5.01s/it]"
     ]
    },
    {
     "name": "stdout",
     "output_type": "stream",
     "text": [
      "152/200\n"
     ]
    },
    {
     "name": "stderr",
     "output_type": "stream",
     "text": [
      " 76%|███████▌  | 152/200 [11:13<02:52,  3.60s/it]"
     ]
    },
    {
     "name": "stdout",
     "output_type": "stream",
     "text": [
      "153/200\n"
     ]
    },
    {
     "name": "stderr",
     "output_type": "stream",
     "text": [
      " 76%|███████▋  | 153/200 [11:19<03:30,  4.47s/it]"
     ]
    },
    {
     "name": "stdout",
     "output_type": "stream",
     "text": [
      "154/200\n"
     ]
    },
    {
     "name": "stderr",
     "output_type": "stream",
     "text": [
      " 77%|███████▋  | 154/200 [11:26<03:54,  5.09s/it]"
     ]
    },
    {
     "name": "stdout",
     "output_type": "stream",
     "text": [
      "155/200\n"
     ]
    },
    {
     "name": "stderr",
     "output_type": "stream",
     "text": [
      " 78%|███████▊  | 155/200 [11:35<04:39,  6.21s/it]"
     ]
    },
    {
     "name": "stdout",
     "output_type": "stream",
     "text": [
      "156/200\n"
     ]
    },
    {
     "name": "stderr",
     "output_type": "stream",
     "text": [
      " 78%|███████▊  | 156/200 [11:37<03:35,  4.91s/it]"
     ]
    },
    {
     "name": "stdout",
     "output_type": "stream",
     "text": [
      "157/200\n"
     ]
    },
    {
     "name": "stderr",
     "output_type": "stream",
     "text": [
      " 78%|███████▊  | 157/200 [11:37<02:31,  3.53s/it]"
     ]
    },
    {
     "name": "stdout",
     "output_type": "stream",
     "text": [
      "158/200\n"
     ]
    },
    {
     "name": "stderr",
     "output_type": "stream",
     "text": [
      " 79%|███████▉  | 158/200 [11:47<03:49,  5.47s/it]"
     ]
    },
    {
     "name": "stdout",
     "output_type": "stream",
     "text": [
      "159/200\n"
     ]
    },
    {
     "name": "stderr",
     "output_type": "stream",
     "text": [
      " 80%|███████▉  | 159/200 [11:53<03:50,  5.62s/it]"
     ]
    },
    {
     "name": "stdout",
     "output_type": "stream",
     "text": [
      "160/200\n"
     ]
    },
    {
     "name": "stderr",
     "output_type": "stream",
     "text": [
      " 80%|████████  | 160/200 [11:53<02:40,  4.02s/it]"
     ]
    },
    {
     "name": "stdout",
     "output_type": "stream",
     "text": [
      "161/200\n"
     ]
    },
    {
     "name": "stderr",
     "output_type": "stream",
     "text": [
      " 80%|████████  | 161/200 [11:53<01:53,  2.90s/it]"
     ]
    },
    {
     "name": "stdout",
     "output_type": "stream",
     "text": [
      "162/200\n"
     ]
    },
    {
     "name": "stderr",
     "output_type": "stream",
     "text": [
      " 81%|████████  | 162/200 [11:56<01:44,  2.76s/it]"
     ]
    },
    {
     "name": "stdout",
     "output_type": "stream",
     "text": [
      "163/200\n"
     ]
    },
    {
     "name": "stderr",
     "output_type": "stream",
     "text": [
      " 82%|████████▏ | 163/200 [11:57<01:21,  2.21s/it]"
     ]
    },
    {
     "name": "stdout",
     "output_type": "stream",
     "text": [
      "164/200\n"
     ]
    },
    {
     "name": "stderr",
     "output_type": "stream",
     "text": [
      " 82%|████████▏ | 164/200 [11:57<00:59,  1.65s/it]"
     ]
    },
    {
     "name": "stdout",
     "output_type": "stream",
     "text": [
      "165/200\n"
     ]
    },
    {
     "name": "stderr",
     "output_type": "stream",
     "text": [
      " 82%|████████▎ | 165/200 [11:58<00:46,  1.33s/it]"
     ]
    },
    {
     "name": "stdout",
     "output_type": "stream",
     "text": [
      "166/200\n"
     ]
    },
    {
     "name": "stderr",
     "output_type": "stream",
     "text": [
      " 83%|████████▎ | 166/200 [12:04<01:30,  2.67s/it]"
     ]
    },
    {
     "name": "stdout",
     "output_type": "stream",
     "text": [
      "167/200\n"
     ]
    },
    {
     "name": "stderr",
     "output_type": "stream",
     "text": [
      " 84%|████████▎ | 167/200 [12:09<01:54,  3.46s/it]"
     ]
    },
    {
     "name": "stdout",
     "output_type": "stream",
     "text": [
      "168/200\n"
     ]
    },
    {
     "name": "stderr",
     "output_type": "stream",
     "text": [
      " 84%|████████▍ | 168/200 [12:09<01:22,  2.58s/it]"
     ]
    },
    {
     "name": "stdout",
     "output_type": "stream",
     "text": [
      "169/200\n"
     ]
    },
    {
     "name": "stderr",
     "output_type": "stream",
     "text": [
      " 84%|████████▍ | 169/200 [12:16<01:55,  3.72s/it]"
     ]
    },
    {
     "name": "stdout",
     "output_type": "stream",
     "text": [
      "170/200\n"
     ]
    },
    {
     "name": "stderr",
     "output_type": "stream",
     "text": [
      " 85%|████████▌ | 170/200 [12:22<02:13,  4.46s/it]"
     ]
    },
    {
     "name": "stdout",
     "output_type": "stream",
     "text": [
      "171/200\n"
     ]
    },
    {
     "name": "stderr",
     "output_type": "stream",
     "text": [
      " 86%|████████▌ | 171/200 [12:23<01:39,  3.42s/it]"
     ]
    },
    {
     "name": "stdout",
     "output_type": "stream",
     "text": [
      "172/200\n"
     ]
    },
    {
     "name": "stderr",
     "output_type": "stream",
     "text": [
      " 86%|████████▌ | 172/200 [12:23<01:11,  2.57s/it]"
     ]
    },
    {
     "name": "stdout",
     "output_type": "stream",
     "text": [
      "173/200\n"
     ]
    },
    {
     "name": "stderr",
     "output_type": "stream",
     "text": [
      " 86%|████████▋ | 173/200 [12:27<01:15,  2.79s/it]"
     ]
    },
    {
     "name": "stdout",
     "output_type": "stream",
     "text": [
      "174/200\n"
     ]
    },
    {
     "name": "stderr",
     "output_type": "stream",
     "text": [
      " 87%|████████▋ | 174/200 [12:36<02:01,  4.67s/it]"
     ]
    },
    {
     "name": "stdout",
     "output_type": "stream",
     "text": [
      "175/200\n"
     ]
    },
    {
     "name": "stderr",
     "output_type": "stream",
     "text": [
      " 88%|████████▊ | 175/200 [12:36<01:26,  3.46s/it]"
     ]
    },
    {
     "name": "stdout",
     "output_type": "stream",
     "text": [
      "176/200\n"
     ]
    },
    {
     "name": "stderr",
     "output_type": "stream",
     "text": [
      " 88%|████████▊ | 176/200 [12:37<01:00,  2.51s/it]"
     ]
    },
    {
     "name": "stdout",
     "output_type": "stream",
     "text": [
      "177/200\n"
     ]
    },
    {
     "name": "stderr",
     "output_type": "stream",
     "text": [
      " 88%|████████▊ | 177/200 [12:37<00:42,  1.85s/it]"
     ]
    },
    {
     "name": "stdout",
     "output_type": "stream",
     "text": [
      "178/200\n"
     ]
    },
    {
     "name": "stderr",
     "output_type": "stream",
     "text": [
      " 89%|████████▉ | 178/200 [12:37<00:30,  1.39s/it]"
     ]
    },
    {
     "name": "stdout",
     "output_type": "stream",
     "text": [
      "179/200\n"
     ]
    },
    {
     "name": "stderr",
     "output_type": "stream",
     "text": [
      " 90%|████████▉ | 179/200 [12:38<00:23,  1.14s/it]"
     ]
    },
    {
     "name": "stdout",
     "output_type": "stream",
     "text": [
      "180/200\n"
     ]
    },
    {
     "name": "stderr",
     "output_type": "stream",
     "text": [
      " 90%|█████████ | 180/200 [12:44<00:49,  2.50s/it]"
     ]
    },
    {
     "name": "stdout",
     "output_type": "stream",
     "text": [
      "181/200\n"
     ]
    },
    {
     "name": "stderr",
     "output_type": "stream",
     "text": [
      " 90%|█████████ | 181/200 [12:49<01:04,  3.37s/it]"
     ]
    },
    {
     "name": "stdout",
     "output_type": "stream",
     "text": [
      "182/200\n"
     ]
    },
    {
     "name": "stderr",
     "output_type": "stream",
     "text": [
      " 91%|█████████ | 182/200 [12:50<00:45,  2.53s/it]"
     ]
    },
    {
     "name": "stdout",
     "output_type": "stream",
     "text": [
      "183/200\n"
     ]
    },
    {
     "name": "stderr",
     "output_type": "stream",
     "text": [
      " 92%|█████████▏| 183/200 [12:55<00:57,  3.37s/it]"
     ]
    },
    {
     "name": "stdout",
     "output_type": "stream",
     "text": [
      "184/200\n"
     ]
    },
    {
     "name": "stderr",
     "output_type": "stream",
     "text": [
      " 92%|█████████▏| 184/200 [12:57<00:49,  3.06s/it]"
     ]
    },
    {
     "name": "stdout",
     "output_type": "stream",
     "text": [
      "185/200\n"
     ]
    },
    {
     "name": "stderr",
     "output_type": "stream",
     "text": [
      " 92%|█████████▎| 185/200 [12:58<00:34,  2.31s/it]"
     ]
    },
    {
     "name": "stdout",
     "output_type": "stream",
     "text": [
      "186/200\n"
     ]
    },
    {
     "name": "stderr",
     "output_type": "stream",
     "text": [
      " 93%|█████████▎| 186/200 [12:58<00:25,  1.81s/it]"
     ]
    },
    {
     "name": "stdout",
     "output_type": "stream",
     "text": [
      "187/200\n"
     ]
    },
    {
     "name": "stderr",
     "output_type": "stream",
     "text": [
      " 94%|█████████▎| 187/200 [13:03<00:36,  2.77s/it]"
     ]
    },
    {
     "name": "stdout",
     "output_type": "stream",
     "text": [
      "188/200\n"
     ]
    },
    {
     "name": "stderr",
     "output_type": "stream",
     "text": [
      " 94%|█████████▍| 188/200 [13:10<00:46,  3.91s/it]"
     ]
    },
    {
     "name": "stdout",
     "output_type": "stream",
     "text": [
      "189/200\n"
     ]
    },
    {
     "name": "stderr",
     "output_type": "stream",
     "text": [
      " 94%|█████████▍| 189/200 [13:15<00:46,  4.20s/it]"
     ]
    },
    {
     "name": "stdout",
     "output_type": "stream",
     "text": [
      "190/200\n"
     ]
    },
    {
     "name": "stderr",
     "output_type": "stream",
     "text": [
      " 95%|█████████▌| 190/200 [13:21<00:48,  4.86s/it]"
     ]
    },
    {
     "name": "stdout",
     "output_type": "stream",
     "text": [
      "191/200\n"
     ]
    },
    {
     "name": "stderr",
     "output_type": "stream",
     "text": [
      " 96%|█████████▌| 191/200 [13:22<00:32,  3.57s/it]"
     ]
    },
    {
     "name": "stdout",
     "output_type": "stream",
     "text": [
      "192/200\n"
     ]
    },
    {
     "name": "stderr",
     "output_type": "stream",
     "text": [
      " 96%|█████████▌| 192/200 [13:22<00:20,  2.60s/it]"
     ]
    },
    {
     "name": "stdout",
     "output_type": "stream",
     "text": [
      "193/200\n"
     ]
    },
    {
     "name": "stderr",
     "output_type": "stream",
     "text": [
      " 96%|█████████▋| 193/200 [13:23<00:14,  2.01s/it]"
     ]
    },
    {
     "name": "stdout",
     "output_type": "stream",
     "text": [
      "194/200\n"
     ]
    },
    {
     "name": "stderr",
     "output_type": "stream",
     "text": [
      " 97%|█████████▋| 194/200 [13:28<00:17,  2.93s/it]"
     ]
    },
    {
     "name": "stdout",
     "output_type": "stream",
     "text": [
      "195/200\n"
     ]
    },
    {
     "name": "stderr",
     "output_type": "stream",
     "text": [
      " 98%|█████████▊| 195/200 [13:28<00:10,  2.14s/it]"
     ]
    },
    {
     "name": "stdout",
     "output_type": "stream",
     "text": [
      "196/200\n"
     ]
    },
    {
     "name": "stderr",
     "output_type": "stream",
     "text": [
      " 98%|█████████▊| 196/200 [13:29<00:06,  1.67s/it]"
     ]
    },
    {
     "name": "stdout",
     "output_type": "stream",
     "text": [
      "197/200\n"
     ]
    },
    {
     "name": "stderr",
     "output_type": "stream",
     "text": [
      " 98%|█████████▊| 197/200 [13:29<00:04,  1.37s/it]"
     ]
    },
    {
     "name": "stdout",
     "output_type": "stream",
     "text": [
      "198/200\n"
     ]
    },
    {
     "name": "stderr",
     "output_type": "stream",
     "text": [
      " 99%|█████████▉| 198/200 [13:35<00:05,  2.75s/it]"
     ]
    },
    {
     "name": "stdout",
     "output_type": "stream",
     "text": [
      "199/200\n"
     ]
    },
    {
     "name": "stderr",
     "output_type": "stream",
     "text": [
      "100%|█████████▉| 199/200 [13:36<00:02,  2.01s/it]"
     ]
    },
    {
     "name": "stdout",
     "output_type": "stream",
     "text": [
      "200/200\n"
     ]
    },
    {
     "name": "stderr",
     "output_type": "stream",
     "text": [
      "100%|██████████| 200/200 [13:36<00:00,  4.08s/it]\n"
     ]
    },
    {
     "data": {
      "text/plain": [
       "(200, 20)"
      ]
     },
     "execution_count": 6,
     "metadata": {},
     "output_type": "execute_result"
    }
   ],
   "source": [
    "CLIENT_ID = \"ta1dkgd2vk4qh2guo13snd55lc94qc\"\n",
    "CLIENT_KEY = \"6gbxtkoi7m06o8fc7ic806f4bpew71\"\n",
    "handle_igdb = IGDB_handle.IGDB_handle(CLIENT_ID, CLIENT_KEY)\n",
    "DF_IGDB = handle_igdb.dataForGames(game_list_light, \"Notebook_test_igdb.csv\")\n",
    "DF_IGDB.shape"
   ]
  },
  {
   "cell_type": "code",
   "execution_count": 7,
   "metadata": {},
   "outputs": [
    {
     "data": {
      "text/plain": [
       "(115, 37)"
      ]
     },
     "execution_count": 7,
     "metadata": {},
     "output_type": "execute_result"
    }
   ],
   "source": [
    "df_full_api_datas = pd.merge(DF_IGDB ,DF_HLTB, left_on=\"searchingName\", right_on=\"01_game_name\", how=\"inner\")\n",
    "df_full_api_datas.pop('01_game_name')\n",
    "df_full_api_datas.shape"
   ]
  },
  {
   "cell_type": "code",
   "execution_count": null,
   "metadata": {},
   "outputs": [
    {
     "data": {
      "text/plain": [
       "(6203, 40)"
      ]
     },
     "execution_count": 8,
     "metadata": {},
     "output_type": "execute_result"
    }
   ],
   "source": [
    "behavior_output = pd.merge(df_steam_behavior, df_full_api_datas, left_on=\"game_name\", right_on=\"searchingName\", how=\"inner\")\n",
    "behavior_output.shape"
   ]
  },
  {
   "cell_type": "code",
   "execution_count": 9,
   "metadata": {},
   "outputs": [],
   "source": [
    "behavior_output.to_csv(\"sample_output_preprocessing.csv\")"
   ]
  },
  {
   "cell_type": "code",
   "execution_count": 14,
   "metadata": {},
   "outputs": [
    {
     "data": {
      "text/plain": [
       "62990992     38\n",
       "33865373     26\n",
       "30246419     26\n",
       "22301321     22\n",
       "47457723     22\n",
       "             ..\n",
       "97667936      1\n",
       "97303314      1\n",
       "96771844      1\n",
       "96607408      1\n",
       "118838369     1\n",
       "Name: user_id, Length: 2822, dtype: int64"
      ]
     },
     "execution_count": 14,
     "metadata": {},
     "output_type": "execute_result"
    }
   ],
   "source": [
    "behavior_output.columns\n",
    "behavior_output[\"user_id\"].value_counts()"
   ]
  },
  {
   "cell_type": "code",
   "execution_count": null,
   "metadata": {},
   "outputs": [
    {
     "data": {
      "text/plain": [
       "(91, 47)"
      ]
     },
     "execution_count": 66,
     "metadata": {},
     "output_type": "execute_result"
    }
   ],
   "source": [
    "# df_full_api_datas = pd.merge(df_full_api_datas ,df_vg_sales, left_on=\"searchingName\", right_on=\"Name\", how=\"inner\")\n",
    "# df_full_api_datas.pop('Name')\n",
    "# df_full_api_datas.shape"
   ]
  },
  {
   "cell_type": "code",
   "execution_count": 67,
   "metadata": {},
   "outputs": [
    {
     "data": {
      "text/plain": [
       "(21, 47)"
      ]
     },
     "execution_count": 67,
     "metadata": {},
     "output_type": "execute_result"
    }
   ],
   "source": [
    "# df_PC_api_DATA = df_full_api_datas[df_full_api_datas[\"Platform\"]==\"PC\"]\n",
    "# df_PC_api_DATA.shape"
   ]
  },
  {
   "cell_type": "code",
   "execution_count": 69,
   "metadata": {},
   "outputs": [
    {
     "data": {
      "text/plain": [
       "(903, 50)"
      ]
     },
     "execution_count": 69,
     "metadata": {},
     "output_type": "execute_result"
    }
   ],
   "source": [
    "# behavior_output_PC = pd.merge(df_steam_behavior, df_PC_api_DATA, left_on=\"game_name\", right_on=\"searchingName\", how=\"inner\")\n",
    "# behavior_output_PC.shape"
   ]
  },
  {
   "cell_type": "code",
   "execution_count": null,
   "metadata": {},
   "outputs": [],
   "source": []
  }
 ],
 "metadata": {
  "kernelspec": {
   "display_name": "Python 3.8.13 ('ML_2022')",
   "language": "python",
   "name": "python3"
  },
  "language_info": {
   "codemirror_mode": {
    "name": "ipython",
    "version": 3
   },
   "file_extension": ".py",
   "mimetype": "text/x-python",
   "name": "python",
   "nbconvert_exporter": "python",
   "pygments_lexer": "ipython3",
   "version": "3.8.13"
  },
  "orig_nbformat": 4,
  "vscode": {
   "interpreter": {
    "hash": "60c788dbfd97d09c70d4a747e0893c5739449babf9586edc81d2cc78a358610c"
   }
  }
 },
 "nbformat": 4,
 "nbformat_minor": 2
}
