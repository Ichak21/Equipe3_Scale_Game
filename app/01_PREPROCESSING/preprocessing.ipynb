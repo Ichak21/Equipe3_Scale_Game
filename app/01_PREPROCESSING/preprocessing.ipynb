{
 "cells": [
  {
   "cell_type": "code",
   "execution_count": 30,
   "metadata": {},
   "outputs": [],
   "source": [
    "import pandas as pd \n",
    "from Utilities._handle_HLTB import HLTB_handle\n",
    "from Utilities._handle_IGDB import IGDB_handle\n",
    "\n",
    "df_steam_user = pd.read_csv(\"../../DataSet/start_steam-200k.csv\")\n",
    "df_vg_sales = pd.read_csv(\"../../DataSet/start_vgsales.csv\")"
   ]
  },
  {
   "cell_type": "code",
   "execution_count": 49,
   "metadata": {},
   "outputs": [
    {
     "data": {
      "text/plain": [
       "5155"
      ]
     },
     "execution_count": 49,
     "metadata": {},
     "output_type": "execute_result"
    }
   ],
   "source": [
    "df_steam_behavior = df_steam_user.groupby([\"user_id\", \"game_name\"], as_index=False)[\" time_is_play\"].sum()\n",
    "game_list = [*set(df_steam_behavior[\"game_name\"])]"
   ]
  },
  {
   "cell_type": "code",
   "execution_count": null,
   "metadata": {},
   "outputs": [],
   "source": [
    "game_list_light = game_list[0:25]\n",
    "len(game_list)"
   ]
  },
  {
   "cell_type": "code",
   "execution_count": null,
   "metadata": {},
   "outputs": [],
   "source": [
    "handle_hltb = HLTB_handle.HLTB_handle(True, True, True, True)\n",
    "DF_HLTB = handle_hltb.getDatas(game_list_light, \"Notebook_test_hltb.csv\")\n",
    "DF_HLTB.shape"
   ]
  },
  {
   "cell_type": "code",
   "execution_count": null,
   "metadata": {},
   "outputs": [],
   "source": [
    "CLIENT_ID = \"ta1dkgd2vk4qh2guo13snd55lc94qc\"\n",
    "CLIENT_KEY = \"6gbxtkoi7m06o8fc7ic806f4bpew71\"\n",
    "handle_igdb = IGDB_handle.IGDB_handle(CLIENT_ID, CLIENT_KEY)\n",
    "DF_IGDB = handle_igdb.dataForGames(game_list_light, \"Notebook_test_igdb.csv\")\n",
    "DF_IGDB.shape"
   ]
  },
  {
   "cell_type": "code",
   "execution_count": null,
   "metadata": {},
   "outputs": [],
   "source": [
    "df_full_api_datas = pd.merge(DF_IGDB ,DF_HLTB, left_on=\"searchingName\", right_on=\"01_game_name\", how=\"inner\")\n",
    "df_full_api_datas.pop('01_game_name')\n",
    "df_full_api_datas.shape"
   ]
  },
  {
   "cell_type": "code",
   "execution_count": null,
   "metadata": {},
   "outputs": [],
   "source": [
    "df_full_api_datas = pd.merge(df_full_api_datas ,df_vg_sales, left_on=\"searchingName\", right_on=\"Name\", how=\"inner\")\n",
    "df_full_api_datas.pop('Name')\n",
    "df_full_api_datas.shape"
   ]
  },
  {
   "cell_type": "code",
   "execution_count": null,
   "metadata": {},
   "outputs": [],
   "source": [
    "df_PC_api_DATA = df_full_api_datas[df_full_api_datas[\"Platform\"]==\"PC\"]\n",
    "df_PC_api_DATA.shape"
   ]
  },
  {
   "cell_type": "code",
   "execution_count": null,
   "metadata": {},
   "outputs": [],
   "source": [
    "behavior_output = pd.merge(df_steam_behavior, df_full_api_datas, left_on=\"game_name\", right_on=\"searchingName\", how=\"inner\")\n",
    "behavior_output.shape"
   ]
  },
  {
   "cell_type": "code",
   "execution_count": null,
   "metadata": {},
   "outputs": [],
   "source": [
    "behavior_output_PC = pd.merge(df_steam_behavior, df_PC_api_DATA, left_on=\"game_name\", right_on=\"searchingName\", how=\"inner\")\n",
    "behavior_output_PC.shape"
   ]
  }
 ],
 "metadata": {
  "kernelspec": {
   "display_name": "Python 3.8.13 ('ML_2022')",
   "language": "python",
   "name": "python3"
  },
  "language_info": {
   "codemirror_mode": {
    "name": "ipython",
    "version": 3
   },
   "file_extension": ".py",
   "mimetype": "text/x-python",
   "name": "python",
   "nbconvert_exporter": "python",
   "pygments_lexer": "ipython3",
   "version": "3.8.13"
  },
  "orig_nbformat": 4,
  "vscode": {
   "interpreter": {
    "hash": "60c788dbfd97d09c70d4a747e0893c5739449babf9586edc81d2cc78a358610c"
   }
  }
 },
 "nbformat": 4,
 "nbformat_minor": 2
}
