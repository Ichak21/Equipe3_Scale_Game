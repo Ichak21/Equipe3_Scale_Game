{
 "cells": [
  {
   "cell_type": "code",
   "execution_count": 7,
   "metadata": {},
   "outputs": [],
   "source": [
    "from HLTB_handle import HLTB_handle\n",
    "import pandas as pd "
   ]
  },
  {
   "cell_type": "code",
   "execution_count": 8,
   "metadata": {},
   "outputs": [],
   "source": [
    "df_steam_user = pd.read_csv(\"../../DataSet/start_steam-200k.csv\")\n",
    "df_vg_sales = pd.read_csv(\"../../DataSet/start_vgsales.csv\")\n",
    "sets_platform = pd.read_csv(\"../../DataSet/platform_settings.csv\")"
   ]
  },
  {
   "cell_type": "code",
   "execution_count": 9,
   "metadata": {},
   "outputs": [
    {
     "name": "stdout",
     "output_type": "stream",
     "text": [
      "(200000, 5)\n",
      "(960, 11)\n"
     ]
    }
   ],
   "source": [
    "df_vg_sales = df_vg_sales[df_vg_sales[\"Platform\"]==\"PC\"]\n",
    "print(df_steam_user.shape)\n",
    "print(df_vg_sales.shape)"
   ]
  },
  {
   "cell_type": "code",
   "execution_count": 10,
   "metadata": {},
   "outputs": [
    {
     "name": "stdout",
     "output_type": "stream",
     "text": [
      "(29587, 16)\n"
     ]
    }
   ],
   "source": [
    "df_full_dataset = pd.merge(df_steam_user, df_vg_sales, left_on=\"game_name\",right_on=\"Name\")\n",
    "print(df_full_dataset.shape)"
   ]
  },
  {
   "cell_type": "code",
   "execution_count": 22,
   "metadata": {},
   "outputs": [],
   "source": [
    "game_list = [*set(df_full_dataset[\"game_name\"])]"
   ]
  },
  {
   "cell_type": "code",
   "execution_count": 23,
   "metadata": {},
   "outputs": [],
   "source": [
    "handle = HLTB_handle(True, True, True)"
   ]
  },
  {
   "cell_type": "code",
   "execution_count": null,
   "metadata": {},
   "outputs": [],
   "source": [
    "handle.getDatas(game_list, \"time_for_dataset.csv\")"
   ]
  }
 ],
 "metadata": {
  "kernelspec": {
   "display_name": "Python 3.8.13 ('ML_2022')",
   "language": "python",
   "name": "python3"
  },
  "language_info": {
   "codemirror_mode": {
    "name": "ipython",
    "version": 3
   },
   "file_extension": ".py",
   "mimetype": "text/x-python",
   "name": "python",
   "nbconvert_exporter": "python",
   "pygments_lexer": "ipython3",
   "version": "3.8.13"
  },
  "orig_nbformat": 4,
  "vscode": {
   "interpreter": {
    "hash": "60c788dbfd97d09c70d4a747e0893c5739449babf9586edc81d2cc78a358610c"
   }
  }
 },
 "nbformat": 4,
 "nbformat_minor": 2
}
