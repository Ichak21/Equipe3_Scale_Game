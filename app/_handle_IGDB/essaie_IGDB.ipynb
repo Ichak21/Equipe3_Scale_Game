{
 "cells": [
  {
   "cell_type": "code",
   "execution_count": 4,
   "metadata": {},
   "outputs": [
    {
     "name": "stdout",
     "output_type": "stream",
     "text": [
      "(200000, 5)\n",
      "(960, 11)\n",
      "(29587, 16)\n"
     ]
    },
    {
     "data": {
      "text/plain": [
       "275"
      ]
     },
     "execution_count": 4,
     "metadata": {},
     "output_type": "execute_result"
    }
   ],
   "source": [
    "from igdb.wrapper import IGDBWrapper\n",
    "from igdb.igdbapi_pb2 import GameResult\n",
    "from igdb.igdbapi_pb2 import GenreResult\n",
    "import pandas as pd \n",
    "import requests\n",
    "\n",
    "\n",
    "df_steam_user = pd.read_csv(\"../../DataSet/start_steam-200k.csv\")\n",
    "df_vg_sales = pd.read_csv(\"../../DataSet/start_vgsales.csv\")\n",
    "sets_platform = pd.read_csv(\"../../DataSet/platform_settings.csv\")\n",
    "\n",
    "df_vg_sales = df_vg_sales[df_vg_sales[\"Platform\"]==\"PC\"]\n",
    "print(df_steam_user.shape)\n",
    "print(df_vg_sales.shape)\n",
    "\n",
    "df_full_dataset = pd.merge(df_steam_user, df_vg_sales, left_on=\"game_name\",right_on=\"Name\")\n",
    "print(df_full_dataset.shape)\n",
    "\n",
    "game_list = [*set(df_full_dataset[\"game_name\"])]\n",
    "len(game_list)"
   ]
  },
  {
   "cell_type": "code",
   "execution_count": 6,
   "metadata": {},
   "outputs": [],
   "source": [
    "from igdb.wrapper import IGDBWrapper\n",
    "from igdb.igdbapi_pb2 import GameResult\n",
    "from igdb.igdbapi_pb2 import GenreResult\n",
    "import requests\n",
    "\n",
    "CLIENT_ID = \"ta1dkgd2vk4qh2guo13snd55lc94qc\"\n",
    "CLIENT_KEY = \"6gbxtkoi7m06o8fc7ic806f4bpew71\"\n",
    "\n",
    "auth_url = \"https://id.twitch.tv/oauth2/token?client_id=\" + str(CLIENT_ID) + \"&client_secret=\" + str(CLIENT_KEY) + \"&grant_type=client_credentials\"\n",
    "access_token = requests.post(auth_url).json()[\"access_token\"]\n",
    "\n",
    "wrapper = IGDBWrapper(\"ta1dkgd2vk4qh2guo13snd55lc94qc\", access_token)"
   ]
  },
  {
   "cell_type": "code",
   "execution_count": 26,
   "metadata": {},
   "outputs": [
    {
     "name": "stdout",
     "output_type": "stream",
     "text": [
      "['Spore', 'Spore', 'Dragon Age II', 'Rugby League Team Manager 2015', 'Anno 2205', 'Braid', 'Sleeping Dogs', 'Sonic Generations', 'Sonic Generations', 'The Night of the Rabbit', 'Grand Theft Auto III', 'The Testament of Sherlock Holmes', 'Max Payne 3', 'Demigod', \"Tom Clancy's EndWar\", 'KO', 'Street Fighter IV', 'World of Goo', 'Defiance', 'Defiance', 'Post Mortem', 'Tomb Raider', 'Tomb Raider', 'Tomb Raider', 'Tomb Raider', 'Tomb Raider', 'Tomb Raider', 'Tropico 5', 'Ghost Pirates of Vooju Island', 'Blitzkrieg 2 Anthology', 'DiRT 3', 'Far Cry 4', 'Clockwork Empires', 'Ridge Racer Unbounded', 'The Whispered World', 'Emergency 2012', 'Act of Aggression', 'Lost Planet 2', 'NBA 2K16', \"Assassin's Creed II\", \"Assassin's Creed II\", 'Dead Space', 'Dead Space', 'Test Drive Unlimited 2', 'Majesty 2 Collection', 'Fallout 4', 'Sacred 3', 'Left 4 Dead 2', 'LEGO The Lord of the Rings', 'KO', 'KO', 'Venetica', 'Metro 2033', 'Trapped Dead', 'KO', 'Farming Simulator 2013', 'Just Cause 2', '15 Days', 'Titan Quest', 'Titan Quest', 'Knights of Honor', 'Rocket League', 'Sonic & All-Stars Racing Transformed', 'Sonic & All-Stars Racing Transformed', 'Syberia', 'Alter Ego', 'Alter Ego', 'Alter Ego', 'Alter Ego', 'The Secret World', 'Port Royale 2', 'Wildlife Park 3', 'Pro Evolution Soccer 2016', 'Silent Hunter III', 'Cities XL 2011', 'F1 2012', 'The Movies', 'Mount & Blade', 'F1 2011', 'Star Trek Online', 'Fable III', 'Dungeon Defenders', 'Euro Truck Simulator 2', 'Guild Wars', \"Assassin's Creed\", 'East India Company', 'The Void', 'Wolfenstein', 'Rocksmith 2014', 'RACE On', 'Just Cause', \"Clive Barker's Jericho\", 'Duke Nukem Forever', 'Duke Nukem Forever', 'Front Mission Evolved', 'Prey', 'Prey', 'Two Worlds II', 'Rocksmith', 'F1 2015', 'Stronghold Legends', 'Alan Wake', 'Blur', 'Borderlands', 'Cities XL 2012', 'The Cursed Crusade', 'BioShock Infinite', 'Dishonored', 'Singularity', 'Singularity', 'Singularity', 'Men of War', 'Homefront', 'Age of Empires Online', 'Dark Void', 'Football Manager 2011', 'Imperial Glory', 'Oil Rush', 'Terraria', 'TERA', 'Captain Morgane and the Golden Turtle', 'Railroad Tycoon 3', 'Torchlight', 'Still Life 2', 'RollerCoaster Tycoon', 'GT Legends', 'Trine 2', 'Far Cry 2', 'Tropico 4', 'Crysis', 'Hospital Tycoon', 'Hospital Tycoon', 'Goodbye Deponia', 'Street Fighter X Tekken', 'Remember Me', 'Football Manager 2014', 'Dead Space 2', 'Euro Truck Simulator', 'Order of War', 'DarkStar One', 'Take On Helicopters', 'DC Universe Online', 'R.U.S.E.', 'Quake 4', 'The Inner World', 'Fallout 3', 'Stronghold 3', 'Sengoku', 'Sengoku', 'Jack Keane', 'Praetorians', 'Trials Fusion', 'Saints Row IV', 'Sniper Elite', 'DiRT Rally', 'Football Manager 2010', '4 Elements', 'Company of Heroes', 'F.E.A.R. 3', 'NBA 2K13', 'Pro Evolution Soccer 2013', 'Pro Evolution Soccer 2013', 'Pro Evolution Soccer 2013', 'Virtua Tennis 4', 'Crysis 2', 'APB Reloaded', 'Pillars of Eternity', 'TimeShift', 'Championship Manager 2010', 'Deponia', 'F1 2014', 'Overlord II', 'Grand Theft Auto V', 'The Darkness II', 'Dead Rising 2', 'Half-Life 2', 'A Vampyre Story', 'Football Manager 2012', 'Dying Light', 'Breach', 'Breach', 'Breach', 'Breach', 'Mass Effect', 'Mass Effect', \"Sid Meier's Civilization IV\", 'Darkspore', 'Dungeon Siege III', 'Pro Evolution Soccer 2014', 'Pro Evolution Soccer 2014', 'The Last Remnant', 'Unreal Tournament 2004', 'Dead Island', 'Stronghold Kingdoms', 'Borderlands 2', \"Sid Meier's Civilization V\", 'Supreme Commander 2', 'Grand Theft Auto IV', 'Worms Reloaded', 'The First Templar', 'KO', 'Far Cry', 'F1 2010', 'Lara Croft and the Temple of Osiris', 'X Rebirth', 'Damnation', 'Off-Road Drive', 'Split/Second', 'Call of Duty 2', 'Call of Duty 2', 'Bejeweled 3', 'Bejeweled 3', 'BioShock 2', 'Alone in the Dark', 'Alone in the Dark', 'Alone in the Dark', 'Monopoly', 'Monopoly', 'Monopoly', 'Monopoly', 'Monopoly', 'Monopoly', 'Monopoly', 'Monopoly', 'Monopoly', 'Monopoly', 'Portal 2', 'Bejeweled 2 Deluxe', 'Hearts of Iron III', 'Sacred Gold', 'The 7th Guest', 'Machinarium', 'Gray Matter', 'Cities in Motion', 'NBA 2K12', 'KO', 'The Binding of Isaac', 'Mafia II', 'Evil Genius', 'F1 Race Stars', 'Gothic 3', 'The Crew', 'Mafia', 'Mafia', 'World in Conflict', 'Football Manager 2013', 'War for the Overworld', 'Saints Row 2', 'Saints Row 2', 'Bulletstorm', 'Ship Simulator Extremes', 'NBA 2K11', 'The Evil Within', 'Mass Effect 2', 'Darksiders II', 'Mini Ninjas', 'Botanicula', 'Wasteland 2', 'KO', 'Far Cry 3', 'Bejeweled Twist', 'F.E.A.R. Perseus Mandate', \"Assassin's Creed Syndicate\", 'Trine', 'Company of Heroes 2', 'LEGO Jurassic World', \"Assassin's Creed III\", 'KO', 'LEGO The Hobbit', 'Project CARS', 'Section 8', 'KO', 'Lost Planet 3', 'Risen', 'Impossible Creatures', 'Ski Region Simulator', 'Overlord', 'Overlord', 'Overlord', 'Overlord', 'Overlord', \"Mirror's Edge\", 'Left 4 Dead', 'Magicka', 'GTR Evolution', 'Legendary', 'The Book of Unwritten Tales', 'Airline Tycoon 2', 'KO', 'The Longest Journey', 'Football Manager 2016', 'Supreme Commander', 'Farming Simulator 2011', 'Lost Horizon', 'Lost Horizon', 'Call of Juarez', 'Battlefield 2', 'Evolve', 'Football Manager 2015', 'Elven Legacy', 'Mortal Kombat X', 'Contrast', 'Contrast', 'Indigo Prophecy', 'Stormrise', 'Tomb Raider II', 'Anno 2070', 'Devil May Cry 4', 'Just Cause 3', \"Sid Meier's Railroads!\", 'Hotel Giant 2', 'EVE Online', 'Max Payne', 'Max Payne', 'Max Payne', 'GRID', 'Darksiders', 'World of Zoo', 'Peggle Nights', 'Rayman Origins', 'KO', 'Pro Evolution Soccer 2015', 'BioShock', 'BioShock', 'BioShock', 'BioShock', 'Half-Life', 'KO', 'Alpha Protocol']\n",
      "329\n",
      "12\n"
     ]
    }
   ],
   "source": [
    "output_games = []\n",
    "nbrs_ko = 0\n",
    "\n",
    "for row in game_list:\n",
    "    game_request = wrapper.api_request(\n",
    "            'games.pb', # Note the '.pb' suffix at the endpoint\n",
    "            str('fields id, similar_games, name, genres; offset 0; where name=\"') + row + str('\";')\n",
    "          )\n",
    "    game_result = GameResult()\n",
    "    game_result.ParseFromString(game_request)\n",
    "\n",
    "    if game_result.ListFields() != [] : \n",
    "      for game in game_result.games:\n",
    "        output_games.append(game.name)\n",
    "\n",
    "    else:\n",
    "        output_games.append(\"KO\")\n",
    "        nbrs_ko += 1\n",
    "\n",
    "print(output_games)\n",
    "print(len(output_games))\n",
    "print(nbrs_ko)\n"
   ]
  },
  {
   "cell_type": "code",
   "execution_count": null,
   "metadata": {},
   "outputs": [],
   "source": []
  },
  {
   "cell_type": "code",
   "execution_count": 69,
   "metadata": {},
   "outputs": [
    {
     "name": "stdout",
     "output_type": "stream",
     "text": [
      "Pro Evolution Soccer\n",
      "World Soccer: Winning Eleven 6 International\n",
      "Graham Taylors Soccer Challenge\n",
      "Football Manager 2\n",
      "Startup Company\n",
      "TransOcean: The Shipping Company\n",
      "Footballer of the Year 2\n",
      "Anno 1800\n",
      "Mashinky\n",
      "League Challenge\n"
     ]
    }
   ],
   "source": [
    "# Protobuf API request\n",
    "response = wrapper.api_request(\n",
    "            'games.pb', # Note the '.pb' suffix at the endpoint\n",
    "            'fields id, similar_games, name, genres; offset 0; where name=\"Football Manager\";'\n",
    "          )\n",
    "\n",
    "games_response = GameResult()\n",
    "games_response.ParseFromString(response) # Fills the protobuf message object with the response\n",
    "\n",
    "similar = []\n",
    "similar_str =\"(\"\n",
    "\n",
    "for game in games_response.games:\n",
    "  for id_similar in game.similar_games:\n",
    "    similar.append(id_similar.id)\n",
    "    similar_str += str(id_similar.id) + str(\",\")\n",
    "\n",
    "similar_str +=\"*\"\n",
    "similar_str = similar_str.replace(\",*\",\")\")\n",
    "\n",
    "# Protobuf API request\n",
    "sim_games = wrapper.api_request(\n",
    "            'games.pb', # Note the '.pb' suffix at the endpoint\n",
    "            str('fields name, genres; offset 0; where id=') + similar_str + str(';')\n",
    "          )\n",
    "\n",
    "sim_response = GameResult()\n",
    "sim_response.ParseFromString(sim_games) # Fills the protobuf message object with the response\n",
    "\n",
    "for game in sim_response.games:\n",
    "  print(game.name)\n"
   ]
  },
  {
   "cell_type": "code",
   "execution_count": 24,
   "metadata": {},
   "outputs": [
    {
     "name": "stdout",
     "output_type": "stream",
     "text": [
      "games {\n",
      "  id: 205780\n",
      "  genres {\n",
      "    id: 13\n",
      "  }\n",
      "  genres {\n",
      "    id: 14\n",
      "  }\n",
      "  name: \"FIFA 23\"\n",
      "  similar_games {\n",
      "    id: 101573\n",
      "  }\n",
      "  similar_games {\n",
      "    id: 106814\n",
      "  }\n",
      "  similar_games {\n",
      "    id: 109606\n",
      "  }\n",
      "  similar_games {\n",
      "    id: 114285\n",
      "  }\n",
      "  similar_games {\n",
      "    id: 115869\n",
      "  }\n",
      "  similar_games {\n",
      "    id: 116352\n",
      "  }\n",
      "  similar_games {\n",
      "    id: 116353\n",
      "  }\n",
      "  similar_games {\n",
      "    id: 118871\n",
      "  }\n",
      "  similar_games {\n",
      "    id: 119422\n",
      "  }\n",
      "  similar_games {\n",
      "    id: 120126\n",
      "  }\n",
      "}\n",
      "\n",
      "[(<google._upb._message.FieldDescriptor object at 0x000001CC002B9D80>, [id: 205780\n",
      "genres {\n",
      "  id: 13\n",
      "}\n",
      "genres {\n",
      "  id: 14\n",
      "}\n",
      "name: \"FIFA 23\"\n",
      "similar_games {\n",
      "  id: 101573\n",
      "}\n",
      "similar_games {\n",
      "  id: 106814\n",
      "}\n",
      "similar_games {\n",
      "  id: 109606\n",
      "}\n",
      "similar_games {\n",
      "  id: 114285\n",
      "}\n",
      "similar_games {\n",
      "  id: 115869\n",
      "}\n",
      "similar_games {\n",
      "  id: 116352\n",
      "}\n",
      "similar_games {\n",
      "  id: 116353\n",
      "}\n",
      "similar_games {\n",
      "  id: 118871\n",
      "}\n",
      "similar_games {\n",
      "  id: 119422\n",
      "}\n",
      "similar_games {\n",
      "  id: 120126\n",
      "}\n",
      "])]\n",
      "full\n"
     ]
    }
   ],
   "source": [
    "# Protobuf API request\n",
    "response = wrapper.api_request(\n",
    "            'games.pb', # Note the '.pb' suffix at the endpoint\n",
    "            'fields id, similar_games, name, genres; offset 0; where name=\"FIFA 23\";'\n",
    "          )\n",
    "\n",
    "games_response = GameResult()\n",
    "games_response.ParseFromString(response) # Fills the protobuf message object with the response\n",
    "\n",
    "print(games_response)\n",
    "print(games_response.ListFields())\n",
    "\n",
    "if games_response.ListFields() == [] : \n",
    "     print(\"vide\")\n",
    "else:\n",
    "     print(\"full\")"
   ]
  },
  {
   "cell_type": "code",
   "execution_count": null,
   "metadata": {},
   "outputs": [],
   "source": []
  }
 ],
 "metadata": {
  "kernelspec": {
   "display_name": "Python 3.8.13 ('ML_2022')",
   "language": "python",
   "name": "python3"
  },
  "language_info": {
   "codemirror_mode": {
    "name": "ipython",
    "version": 3
   },
   "file_extension": ".py",
   "mimetype": "text/x-python",
   "name": "python",
   "nbconvert_exporter": "python",
   "pygments_lexer": "ipython3",
   "version": "3.8.13"
  },
  "orig_nbformat": 4,
  "vscode": {
   "interpreter": {
    "hash": "60c788dbfd97d09c70d4a747e0893c5739449babf9586edc81d2cc78a358610c"
   }
  }
 },
 "nbformat": 4,
 "nbformat_minor": 2
}
