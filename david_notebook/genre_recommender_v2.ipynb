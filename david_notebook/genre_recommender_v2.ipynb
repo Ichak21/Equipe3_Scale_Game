{
 "cells": [
  {
   "cell_type": "code",
   "execution_count": 1,
   "metadata": {},
   "outputs": [],
   "source": [
    "import pandas as pd"
   ]
  },
  {
   "cell_type": "code",
   "execution_count": 4,
   "metadata": {},
   "outputs": [
    {
     "name": "stderr",
     "output_type": "stream",
     "text": [
      "C:\\Users\\david\\AppData\\Local\\Temp\\ipykernel_12812\\560633259.py:2: DtypeWarning: Columns (0,3) have mixed types. Specify dtype option on import or set low_memory=False.\n",
      "  steam = pd.read_csv(\"../DataSet/start_steam-200k.csv\", header=None).iloc[:,:-1]\n"
     ]
    }
   ],
   "source": [
    "sales = pd.read_csv(\"../DataSet/start_vgsales.csv\")\n",
    "steam = pd.read_csv(\"../DataSet/start_steam-200k.csv\", header=None).iloc[:,:-1]\n",
    "steam.columns = [\"player_id\", \"game_title\", \"type\", \"value\"]"
   ]
  },
  {
   "cell_type": "code",
   "execution_count": 5,
   "metadata": {},
   "outputs": [],
   "source": [
    "steam = steam[steam[\"type\"] == \"purchase\"]"
   ]
  },
  {
   "cell_type": "code",
   "execution_count": 6,
   "metadata": {},
   "outputs": [
    {
     "data": {
      "text/html": [
       "<div>\n",
       "<style scoped>\n",
       "    .dataframe tbody tr th:only-of-type {\n",
       "        vertical-align: middle;\n",
       "    }\n",
       "\n",
       "    .dataframe tbody tr th {\n",
       "        vertical-align: top;\n",
       "    }\n",
       "\n",
       "    .dataframe thead th {\n",
       "        text-align: right;\n",
       "    }\n",
       "</style>\n",
       "<table border=\"1\" class=\"dataframe\">\n",
       "  <thead>\n",
       "    <tr style=\"text-align: right;\">\n",
       "      <th></th>\n",
       "      <th>player_id</th>\n",
       "      <th>game_title</th>\n",
       "      <th>type</th>\n",
       "      <th>value</th>\n",
       "      <th>Rank</th>\n",
       "      <th>Name</th>\n",
       "      <th>Platform</th>\n",
       "      <th>Year</th>\n",
       "      <th>Genre</th>\n",
       "      <th>Publisher</th>\n",
       "      <th>NA_Sales</th>\n",
       "      <th>EU_Sales</th>\n",
       "      <th>JP_Sales</th>\n",
       "      <th>Other_Sales</th>\n",
       "      <th>Global_Sales</th>\n",
       "    </tr>\n",
       "  </thead>\n",
       "  <tbody>\n",
       "    <tr>\n",
       "      <th>0</th>\n",
       "      <td>151603712</td>\n",
       "      <td>Fallout 4</td>\n",
       "      <td>purchase</td>\n",
       "      <td>1.0</td>\n",
       "      <td>110</td>\n",
       "      <td>Fallout 4</td>\n",
       "      <td>PS4</td>\n",
       "      <td>2015.0</td>\n",
       "      <td>Role-Playing</td>\n",
       "      <td>Bethesda Softworks</td>\n",
       "      <td>2.47</td>\n",
       "      <td>3.15</td>\n",
       "      <td>0.24</td>\n",
       "      <td>1.10</td>\n",
       "      <td>6.96</td>\n",
       "    </tr>\n",
       "    <tr>\n",
       "      <th>1</th>\n",
       "      <td>151603712</td>\n",
       "      <td>Fallout 4</td>\n",
       "      <td>purchase</td>\n",
       "      <td>1.0</td>\n",
       "      <td>288</td>\n",
       "      <td>Fallout 4</td>\n",
       "      <td>XOne</td>\n",
       "      <td>2015.0</td>\n",
       "      <td>Role-Playing</td>\n",
       "      <td>Bethesda Softworks</td>\n",
       "      <td>2.45</td>\n",
       "      <td>1.26</td>\n",
       "      <td>0.01</td>\n",
       "      <td>0.37</td>\n",
       "      <td>4.09</td>\n",
       "    </tr>\n",
       "    <tr>\n",
       "      <th>2</th>\n",
       "      <td>151603712</td>\n",
       "      <td>Fallout 4</td>\n",
       "      <td>purchase</td>\n",
       "      <td>1.0</td>\n",
       "      <td>1632</td>\n",
       "      <td>Fallout 4</td>\n",
       "      <td>PC</td>\n",
       "      <td>2015.0</td>\n",
       "      <td>Role-Playing</td>\n",
       "      <td>Bethesda Softworks</td>\n",
       "      <td>0.50</td>\n",
       "      <td>0.63</td>\n",
       "      <td>0.00</td>\n",
       "      <td>0.10</td>\n",
       "      <td>1.23</td>\n",
       "    </tr>\n",
       "    <tr>\n",
       "      <th>3</th>\n",
       "      <td>87445402</td>\n",
       "      <td>Fallout 4</td>\n",
       "      <td>purchase</td>\n",
       "      <td>1.0</td>\n",
       "      <td>110</td>\n",
       "      <td>Fallout 4</td>\n",
       "      <td>PS4</td>\n",
       "      <td>2015.0</td>\n",
       "      <td>Role-Playing</td>\n",
       "      <td>Bethesda Softworks</td>\n",
       "      <td>2.47</td>\n",
       "      <td>3.15</td>\n",
       "      <td>0.24</td>\n",
       "      <td>1.10</td>\n",
       "      <td>6.96</td>\n",
       "    </tr>\n",
       "    <tr>\n",
       "      <th>4</th>\n",
       "      <td>87445402</td>\n",
       "      <td>Fallout 4</td>\n",
       "      <td>purchase</td>\n",
       "      <td>1.0</td>\n",
       "      <td>288</td>\n",
       "      <td>Fallout 4</td>\n",
       "      <td>XOne</td>\n",
       "      <td>2015.0</td>\n",
       "      <td>Role-Playing</td>\n",
       "      <td>Bethesda Softworks</td>\n",
       "      <td>2.45</td>\n",
       "      <td>1.26</td>\n",
       "      <td>0.01</td>\n",
       "      <td>0.37</td>\n",
       "      <td>4.09</td>\n",
       "    </tr>\n",
       "  </tbody>\n",
       "</table>\n",
       "</div>"
      ],
      "text/plain": [
       "   player_id game_title      type value  Rank       Name Platform    Year  \\\n",
       "0  151603712  Fallout 4  purchase   1.0   110  Fallout 4      PS4  2015.0   \n",
       "1  151603712  Fallout 4  purchase   1.0   288  Fallout 4     XOne  2015.0   \n",
       "2  151603712  Fallout 4  purchase   1.0  1632  Fallout 4       PC  2015.0   \n",
       "3   87445402  Fallout 4  purchase   1.0   110  Fallout 4      PS4  2015.0   \n",
       "4   87445402  Fallout 4  purchase   1.0   288  Fallout 4     XOne  2015.0   \n",
       "\n",
       "          Genre           Publisher  NA_Sales  EU_Sales  JP_Sales  \\\n",
       "0  Role-Playing  Bethesda Softworks      2.47      3.15      0.24   \n",
       "1  Role-Playing  Bethesda Softworks      2.45      1.26      0.01   \n",
       "2  Role-Playing  Bethesda Softworks      0.50      0.63      0.00   \n",
       "3  Role-Playing  Bethesda Softworks      2.47      3.15      0.24   \n",
       "4  Role-Playing  Bethesda Softworks      2.45      1.26      0.01   \n",
       "\n",
       "   Other_Sales  Global_Sales  \n",
       "0         1.10          6.96  \n",
       "1         0.37          4.09  \n",
       "2         0.10          1.23  \n",
       "3         1.10          6.96  \n",
       "4         0.37          4.09  "
      ]
     },
     "execution_count": 6,
     "metadata": {},
     "output_type": "execute_result"
    }
   ],
   "source": [
    "df = steam.merge(sales, how='inner',left_on=\"game_title\", right_on=\"Name\")\n",
    "df.head()"
   ]
  },
  {
   "cell_type": "code",
   "execution_count": 7,
   "metadata": {},
   "outputs": [],
   "source": [
    "df2 = df[[\"player_id\", \"Genre\", \"value\"]]\n",
    "df3 = df2.groupby([\"player_id\", \"Genre\"]).count()"
   ]
  },
  {
   "cell_type": "code",
   "execution_count": 8,
   "metadata": {},
   "outputs": [],
   "source": [
    "import tensorflow_recommenders as tfrs\n",
    "import tensorflow as tf\n",
    "import numpy as np"
   ]
  },
  {
   "cell_type": "code",
   "execution_count": 14,
   "metadata": {},
   "outputs": [
    {
     "data": {
      "text/html": [
       "<div>\n",
       "<style scoped>\n",
       "    .dataframe tbody tr th:only-of-type {\n",
       "        vertical-align: middle;\n",
       "    }\n",
       "\n",
       "    .dataframe tbody tr th {\n",
       "        vertical-align: top;\n",
       "    }\n",
       "\n",
       "    .dataframe thead th {\n",
       "        text-align: right;\n",
       "    }\n",
       "</style>\n",
       "<table border=\"1\" class=\"dataframe\">\n",
       "  <thead>\n",
       "    <tr style=\"text-align: right;\">\n",
       "      <th></th>\n",
       "      <th>player_id</th>\n",
       "      <th>Genre</th>\n",
       "      <th>value</th>\n",
       "    </tr>\n",
       "  </thead>\n",
       "  <tbody>\n",
       "    <tr>\n",
       "      <th>0</th>\n",
       "      <td>86540</td>\n",
       "      <td>Action</td>\n",
       "      <td>7</td>\n",
       "    </tr>\n",
       "    <tr>\n",
       "      <th>1</th>\n",
       "      <td>86540</td>\n",
       "      <td>Adventure</td>\n",
       "      <td>2</td>\n",
       "    </tr>\n",
       "    <tr>\n",
       "      <th>2</th>\n",
       "      <td>86540</td>\n",
       "      <td>Racing</td>\n",
       "      <td>5</td>\n",
       "    </tr>\n",
       "    <tr>\n",
       "      <th>3</th>\n",
       "      <td>86540</td>\n",
       "      <td>Shooter</td>\n",
       "      <td>25</td>\n",
       "    </tr>\n",
       "    <tr>\n",
       "      <th>4</th>\n",
       "      <td>86540</td>\n",
       "      <td>Strategy</td>\n",
       "      <td>4</td>\n",
       "    </tr>\n",
       "    <tr>\n",
       "      <th>...</th>\n",
       "      <td>...</td>\n",
       "      <td>...</td>\n",
       "      <td>...</td>\n",
       "    </tr>\n",
       "    <tr>\n",
       "      <th>8953</th>\n",
       "      <td>99723205</td>\n",
       "      <td>Shooter</td>\n",
       "      <td>12</td>\n",
       "    </tr>\n",
       "    <tr>\n",
       "      <th>8954</th>\n",
       "      <td>99723205</td>\n",
       "      <td>Strategy</td>\n",
       "      <td>1</td>\n",
       "    </tr>\n",
       "    <tr>\n",
       "      <th>8955</th>\n",
       "      <td>99766416</td>\n",
       "      <td>Shooter</td>\n",
       "      <td>2</td>\n",
       "    </tr>\n",
       "    <tr>\n",
       "      <th>8956</th>\n",
       "      <td>99812428</td>\n",
       "      <td>Strategy</td>\n",
       "      <td>2</td>\n",
       "    </tr>\n",
       "    <tr>\n",
       "      <th>8957</th>\n",
       "      <td>99992274</td>\n",
       "      <td>Strategy</td>\n",
       "      <td>1</td>\n",
       "    </tr>\n",
       "  </tbody>\n",
       "</table>\n",
       "<p>8958 rows × 3 columns</p>\n",
       "</div>"
      ],
      "text/plain": [
       "      player_id      Genre  value\n",
       "0         86540     Action      7\n",
       "1         86540  Adventure      2\n",
       "2         86540     Racing      5\n",
       "3         86540    Shooter     25\n",
       "4         86540   Strategy      4\n",
       "...         ...        ...    ...\n",
       "8953   99723205    Shooter     12\n",
       "8954   99723205   Strategy      1\n",
       "8955   99766416    Shooter      2\n",
       "8956   99812428   Strategy      2\n",
       "8957   99992274   Strategy      1\n",
       "\n",
       "[8958 rows x 3 columns]"
      ]
     },
     "execution_count": 14,
     "metadata": {},
     "output_type": "execute_result"
    }
   ],
   "source": [
    "users = df3.reset_index()\n",
    "users[\"player_id\"] = np.asarray(users[\"player_id\"]).astype(np.int32)\n",
    "users"
   ]
  },
  {
   "cell_type": "code",
   "execution_count": 15,
   "metadata": {},
   "outputs": [
    {
     "data": {
      "text/plain": [
       "array(['Action', 'Adventure', 'Racing', 'Shooter', 'Strategy',\n",
       "       'Role-Playing', 'Simulation', 'Sports', 'Fighting', 'Misc',\n",
       "       'Puzzle', 'Platform'], dtype=object)"
      ]
     },
     "execution_count": 15,
     "metadata": {},
     "output_type": "execute_result"
    }
   ],
   "source": [
    "genres = users[\"Genre\"].unique()\n",
    "#genres = pd.DataFrame(data=genres, columns=['Genre'])\n",
    "genres"
   ]
  },
  {
   "cell_type": "code",
   "execution_count": 18,
   "metadata": {},
   "outputs": [],
   "source": [
    "tf.random.set_seed(42)\n",
    "users_tensor = tf.data.Dataset.from_tensor_slices(dict(users))\n",
    "users_shuffled = users_tensor.shuffle(seed=42, buffer_size=100_000, reshuffle_each_iteration=False)\n",
    "\n",
    "users_train = users_shuffled.take(8_000)\n",
    "users_test = users_shuffled.skip(8_000).take(8958)"
   ]
  },
  {
   "cell_type": "code",
   "execution_count": 19,
   "metadata": {},
   "outputs": [],
   "source": [
    "genres_tensor = tf.data.Dataset.from_tensor_slices(genres)"
   ]
  },
  {
   "cell_type": "code",
   "execution_count": 20,
   "metadata": {},
   "outputs": [
    {
     "name": "stdout",
     "output_type": "stream",
     "text": [
      "tf.Tensor(b'Action', shape=(), dtype=string)\n",
      "tf.Tensor(b'Adventure', shape=(), dtype=string)\n",
      "tf.Tensor(b'Racing', shape=(), dtype=string)\n",
      "tf.Tensor(b'Shooter', shape=(), dtype=string)\n",
      "tf.Tensor(b'Strategy', shape=(), dtype=string)\n"
     ]
    }
   ],
   "source": [
    "for r in genres_tensor.take(5):\n",
    "    print(r)"
   ]
  },
  {
   "cell_type": "code",
   "execution_count": 21,
   "metadata": {},
   "outputs": [
    {
     "name": "stdout",
     "output_type": "stream",
     "text": [
      "WARNING:tensorflow:From c:\\Users\\david\\miniconda3\\envs\\machine_learning\\lib\\site-packages\\tensorflow\\python\\autograph\\pyct\\static_analysis\\liveness.py:83: Analyzer.lamba_check (from tensorflow.python.autograph.pyct.static_analysis.liveness) is deprecated and will be removed after 2023-09-23.\n",
      "Instructions for updating:\n",
      "Lambda fuctions will be no more assumed to be used in the statement where they are used, or at least in the same block. https://github.com/tensorflow/tensorflow/issues/56089\n"
     ]
    }
   ],
   "source": [
    "user_ids_vocabulary = tf.keras.layers.IntegerLookup(mask_token=None)\n",
    "user_ids_vocabulary.adapt(users_tensor.map(lambda x: x[\"player_id\"]))\n",
    "\n",
    "genres_vocabulary = tf.keras.layers.StringLookup(mask_token=None)\n",
    "genres_vocabulary.adapt(genres_tensor)"
   ]
  },
  {
   "cell_type": "code",
   "execution_count": 22,
   "metadata": {},
   "outputs": [],
   "source": [
    "from typing import Dict, Text\n",
    "class MovieLensModel(tfrs.Model):\n",
    "     # We derive from a custom base class to help reduce boilerplate. Under the hood,\n",
    "     # these are still plain Keras Models.\n",
    "\n",
    "    def __init__(\n",
    "            self,\n",
    "            user_model: tf.keras.Model,\n",
    "            genre_model: tf.keras.Model,\n",
    "            task: tfrs.tasks.Retrieval):\n",
    "        super().__init__()\n",
    "\n",
    "          # Set up user and movie representations.\n",
    "        self.user_model = user_model\n",
    "        self.genre_model = genre_model\n",
    "\n",
    "        # Set up a retrieval task.\n",
    "        self.task = task\n",
    "\n",
    "    def compute_loss(self, features: Dict[Text, tf.Tensor], training=False) -> tf.Tensor:\n",
    "        # Define how the loss is computed.\n",
    "\n",
    "        user_embeddings = self.user_model(features[\"player_id\"])\n",
    "        genre_embeddings = self.genre_model(features[\"Genre\"])\n",
    "\n",
    "        return self.task(user_embeddings, genre_embeddings)"
   ]
  },
  {
   "cell_type": "code",
   "execution_count": 23,
   "metadata": {},
   "outputs": [],
   "source": [
    "user_model = tf.keras.Sequential([\n",
    "    user_ids_vocabulary,\n",
    "    tf.keras.layers.Embedding(user_ids_vocabulary.vocabulary_size(), 10)\n",
    "])\n",
    "genre_model = tf.keras.Sequential([\n",
    "    genres_vocabulary,\n",
    "    tf.keras.layers.Embedding(genres_vocabulary.vocabulary_size(), 10)\n",
    "])\n",
    "\n",
    "# Define your objectives.\n",
    "task = tfrs.tasks.Retrieval(metrics=tfrs.metrics.FactorizedTopK(\n",
    "    genres_tensor.batch(128).map(genre_model)\n",
    "))"
   ]
  },
  {
   "cell_type": "code",
   "execution_count": 24,
   "metadata": {},
   "outputs": [
    {
     "name": "stdout",
     "output_type": "stream",
     "text": [
      "Epoch 1/3\n",
      "2/2 [==============================] - 3s 197ms/step - factorized_top_k/top_1_categorical_accuracy: 0.0344 - factorized_top_k/top_5_categorical_accuracy: 0.3530 - factorized_top_k/top_10_categorical_accuracy: 0.8405 - factorized_top_k/top_50_categorical_accuracy: 1.0000 - factorized_top_k/top_100_categorical_accuracy: 1.0000 - loss: 32873.3945 - regularization_loss: 0.0000e+00 - total_loss: 32873.3945\n",
      "Epoch 2/3\n",
      "2/2 [==============================] - 0s 177ms/step - factorized_top_k/top_1_categorical_accuracy: 0.0279 - factorized_top_k/top_5_categorical_accuracy: 0.2457 - factorized_top_k/top_10_categorical_accuracy: 0.5266 - factorized_top_k/top_50_categorical_accuracy: 1.0000 - factorized_top_k/top_100_categorical_accuracy: 1.0000 - loss: 34221.5742 - regularization_loss: 0.0000e+00 - total_loss: 34221.5742\n",
      "Epoch 3/3\n",
      "2/2 [==============================] - 0s 221ms/step - factorized_top_k/top_1_categorical_accuracy: 0.1119 - factorized_top_k/top_5_categorical_accuracy: 0.6701 - factorized_top_k/top_10_categorical_accuracy: 0.9185 - factorized_top_k/top_50_categorical_accuracy: 1.0000 - factorized_top_k/top_100_categorical_accuracy: 1.0000 - loss: 31038.9010 - regularization_loss: 0.0000e+00 - total_loss: 31038.9010\n",
      "Top 3 recommendations for user 2753525: [b'Misc' b'Sports' b'Puzzle' b'Adventure' b'Role-Playing' b'Platform'\n",
      " b'Action' b'Simulation' b'Fighting' b'Shooter']\n",
      "Scores: [ 1.5489889   1.5377295   1.3313155   1.050106    0.5443888   0.20439672\n",
      "  0.19278775  0.19264364  0.10755801 -0.95724916]\n"
     ]
    }
   ],
   "source": [
    "model = MovieLensModel(user_model, genre_model, task)\n",
    "model.compile(optimizer=tf.keras.optimizers.Adagrad(0.5))\n",
    "\n",
    "# Train for 3 epochs.\n",
    "model.fit(users_train.batch(4096), epochs=3)\n",
    "\n",
    "# Use brute-force search to set up retrieval using the trained representations.\n",
    "index = tfrs.layers.factorized_top_k.BruteForce(model.user_model)\n",
    "index.index_from_dataset(\n",
    "    genres_tensor.batch(100).map(lambda title: (title, model.genre_model(title))))\n",
    "\n",
    "# Get some recommendations.\n",
    "_, titles = index(np.array([2753525]))\n",
    "print(f\"Top 3 recommendations for user 2753525: {titles[0, :10]}\")\n",
    "print(f\"Scores: {_[0, :10]}\")\n"
   ]
  },
  {
   "cell_type": "code",
   "execution_count": 25,
   "metadata": {},
   "outputs": [
    {
     "name": "stdout",
     "output_type": "stream",
     "text": [
      "WARNING:tensorflow:Model was constructed with shape (None,) for input KerasTensor(type_spec=TensorSpec(shape=(None,), dtype=tf.int32, name='integer_lookup_input'), name='integer_lookup_input', description=\"created by layer 'integer_lookup_input'\"), but it was called on an input with incompatible shape ().\n",
      "WARNING:tensorflow:Model was constructed with shape (None,) for input KerasTensor(type_spec=TensorSpec(shape=(None,), dtype=tf.string, name='string_lookup_input'), name='string_lookup_input', description=\"created by layer 'string_lookup_input'\"), but it was called on an input with incompatible shape ().\n"
     ]
    },
    {
     "ename": "ValueError",
     "evalue": "in user code:\n\n    File \"c:\\Users\\david\\miniconda3\\envs\\machine_learning\\lib\\site-packages\\keras\\engine\\training.py\", line 1820, in test_function  *\n        return step_function(self, iterator)\n    File \"c:\\Users\\david\\miniconda3\\envs\\machine_learning\\lib\\site-packages\\keras\\engine\\training.py\", line 1804, in step_function  **\n        outputs = model.distribute_strategy.run(run_step, args=(data,))\n    File \"c:\\Users\\david\\miniconda3\\envs\\machine_learning\\lib\\site-packages\\keras\\engine\\training.py\", line 1792, in run_step  **\n        outputs = model.test_step(data)\n    File \"c:\\Users\\david\\miniconda3\\envs\\machine_learning\\lib\\site-packages\\tensorflow_recommenders\\models\\base.py\", line 88, in test_step\n        loss = self.compute_loss(inputs, training=False)\n    File \"C:\\Users\\david\\AppData\\Local\\Temp\\ipykernel_12812\\2414308280.py\", line 26, in compute_loss\n        return self.task(user_embeddings, genre_embeddings)\n    File \"c:\\Users\\david\\miniconda3\\envs\\machine_learning\\lib\\site-packages\\keras\\utils\\traceback_utils.py\", line 70, in error_handler\n        raise e.with_traceback(filtered_tb) from None\n    File \"C:\\Users\\david\\AppData\\Local\\Temp\\__autograph_generated_filed9czt08_.py\", line 38, in tf__call\n        scores = ag__.converted_call(ag__.ld(tf).linalg.matmul, (ag__.ld(query_embeddings), ag__.ld(candidate_embeddings)), dict(transpose_b=True), fscope)\n\n    ValueError: Exception encountered when calling layer 'retrieval' (type Retrieval).\n    \n    in user code:\n    \n        File \"c:\\Users\\david\\miniconda3\\envs\\machine_learning\\lib\\site-packages\\tensorflow_recommenders\\tasks\\retrieval.py\", line 141, in call  *\n            scores = tf.linalg.matmul(\n    \n        ValueError: Shape must be rank 2 but is rank 1 for '{{node retrieval/MatMul}} = MatMul[T=DT_FLOAT, transpose_a=false, transpose_b=true](sequential/embedding/embedding_lookup/Identity_1, sequential_1/embedding_1/embedding_lookup/Identity_1)' with input shapes: [10], [10].\n    \n    \n    Call arguments received by layer 'retrieval' (type Retrieval):\n      • query_embeddings=tf.Tensor(shape=(10,), dtype=float32)\n      • candidate_embeddings=tf.Tensor(shape=(10,), dtype=float32)\n      • sample_weight=None\n      • candidate_sampling_probability=None\n      • candidate_ids=None\n      • compute_metrics=True\n      • compute_batch_metrics=True\n",
     "output_type": "error",
     "traceback": [
      "\u001b[1;31m---------------------------------------------------------------------------\u001b[0m",
      "\u001b[1;31mValueError\u001b[0m                                Traceback (most recent call last)",
      "Cell \u001b[1;32mIn [25], line 1\u001b[0m\n\u001b[1;32m----> 1\u001b[0m model\u001b[39m.\u001b[39;49mevaluate(users_test, return_dict\u001b[39m=\u001b[39;49m\u001b[39mTrue\u001b[39;49;00m)\n",
      "File \u001b[1;32mc:\\Users\\david\\miniconda3\\envs\\machine_learning\\lib\\site-packages\\keras\\utils\\traceback_utils.py:70\u001b[0m, in \u001b[0;36mfilter_traceback.<locals>.error_handler\u001b[1;34m(*args, **kwargs)\u001b[0m\n\u001b[0;32m     67\u001b[0m     filtered_tb \u001b[39m=\u001b[39m _process_traceback_frames(e\u001b[39m.\u001b[39m__traceback__)\n\u001b[0;32m     68\u001b[0m     \u001b[39m# To get the full stack trace, call:\u001b[39;00m\n\u001b[0;32m     69\u001b[0m     \u001b[39m# `tf.debugging.disable_traceback_filtering()`\u001b[39;00m\n\u001b[1;32m---> 70\u001b[0m     \u001b[39mraise\u001b[39;00m e\u001b[39m.\u001b[39mwith_traceback(filtered_tb) \u001b[39mfrom\u001b[39;00m \u001b[39mNone\u001b[39m\n\u001b[0;32m     71\u001b[0m \u001b[39mfinally\u001b[39;00m:\n\u001b[0;32m     72\u001b[0m     \u001b[39mdel\u001b[39;00m filtered_tb\n",
      "File \u001b[1;32m~\\AppData\\Local\\Temp\\__autograph_generated_filej10idez_.py:15\u001b[0m, in \u001b[0;36mouter_factory.<locals>.inner_factory.<locals>.tf__test_function\u001b[1;34m(iterator)\u001b[0m\n\u001b[0;32m     13\u001b[0m \u001b[39mtry\u001b[39;00m:\n\u001b[0;32m     14\u001b[0m     do_return \u001b[39m=\u001b[39m \u001b[39mTrue\u001b[39;00m\n\u001b[1;32m---> 15\u001b[0m     retval_ \u001b[39m=\u001b[39m ag__\u001b[39m.\u001b[39mconverted_call(ag__\u001b[39m.\u001b[39mld(step_function), (ag__\u001b[39m.\u001b[39mld(\u001b[39mself\u001b[39m), ag__\u001b[39m.\u001b[39mld(iterator)), \u001b[39mNone\u001b[39;00m, fscope)\n\u001b[0;32m     16\u001b[0m \u001b[39mexcept\u001b[39;00m:\n\u001b[0;32m     17\u001b[0m     do_return \u001b[39m=\u001b[39m \u001b[39mFalse\u001b[39;00m\n",
      "File \u001b[1;32mc:\\Users\\david\\miniconda3\\envs\\machine_learning\\lib\\site-packages\\tensorflow_recommenders\\models\\base.py:88\u001b[0m, in \u001b[0;36mModel.test_step\u001b[1;34m(self, inputs)\u001b[0m\n\u001b[0;32m     85\u001b[0m \u001b[39mdef\u001b[39;00m \u001b[39mtest_step\u001b[39m(\u001b[39mself\u001b[39m, inputs):\n\u001b[0;32m     86\u001b[0m   \u001b[39m\"\"\"Custom test step using the `compute_loss` method.\"\"\"\u001b[39;00m\n\u001b[1;32m---> 88\u001b[0m   loss \u001b[39m=\u001b[39m \u001b[39mself\u001b[39;49m\u001b[39m.\u001b[39;49mcompute_loss(inputs, training\u001b[39m=\u001b[39;49m\u001b[39mFalse\u001b[39;49;00m)\n\u001b[0;32m     90\u001b[0m   \u001b[39m# Handle regularization losses as well.\u001b[39;00m\n\u001b[0;32m     91\u001b[0m   regularization_loss \u001b[39m=\u001b[39m \u001b[39msum\u001b[39m(\u001b[39mself\u001b[39m\u001b[39m.\u001b[39mlosses)\n",
      "Cell \u001b[1;32mIn [22], line 26\u001b[0m, in \u001b[0;36mMovieLensModel.compute_loss\u001b[1;34m(self, features, training)\u001b[0m\n\u001b[0;32m     23\u001b[0m user_embeddings \u001b[39m=\u001b[39m \u001b[39mself\u001b[39m\u001b[39m.\u001b[39muser_model(features[\u001b[39m\"\u001b[39m\u001b[39mplayer_id\u001b[39m\u001b[39m\"\u001b[39m])\n\u001b[0;32m     24\u001b[0m genre_embeddings \u001b[39m=\u001b[39m \u001b[39mself\u001b[39m\u001b[39m.\u001b[39mgenre_model(features[\u001b[39m\"\u001b[39m\u001b[39mGenre\u001b[39m\u001b[39m\"\u001b[39m])\n\u001b[1;32m---> 26\u001b[0m \u001b[39mreturn\u001b[39;00m \u001b[39mself\u001b[39;49m\u001b[39m.\u001b[39;49mtask(user_embeddings, genre_embeddings)\n",
      "File \u001b[1;32m~\\AppData\\Local\\Temp\\__autograph_generated_filed9czt08_.py:38\u001b[0m, in \u001b[0;36mouter_factory.<locals>.inner_factory.<locals>.tf__call\u001b[1;34m(self, query_embeddings, candidate_embeddings, sample_weight, candidate_sampling_probability, candidate_ids, compute_metrics, compute_batch_metrics)\u001b[0m\n\u001b[0;32m     36\u001b[0m do_return \u001b[39m=\u001b[39m \u001b[39mFalse\u001b[39;00m\n\u001b[0;32m     37\u001b[0m retval_ \u001b[39m=\u001b[39m ag__\u001b[39m.\u001b[39mUndefinedReturnValue()\n\u001b[1;32m---> 38\u001b[0m scores \u001b[39m=\u001b[39m ag__\u001b[39m.\u001b[39;49mconverted_call(ag__\u001b[39m.\u001b[39;49mld(tf)\u001b[39m.\u001b[39;49mlinalg\u001b[39m.\u001b[39;49mmatmul, (ag__\u001b[39m.\u001b[39;49mld(query_embeddings), ag__\u001b[39m.\u001b[39;49mld(candidate_embeddings)), \u001b[39mdict\u001b[39;49m(transpose_b\u001b[39m=\u001b[39;49m\u001b[39mTrue\u001b[39;49;00m), fscope)\n\u001b[0;32m     39\u001b[0m num_queries \u001b[39m=\u001b[39m ag__\u001b[39m.\u001b[39mconverted_call(ag__\u001b[39m.\u001b[39mld(tf)\u001b[39m.\u001b[39mshape, (ag__\u001b[39m.\u001b[39mld(scores),), \u001b[39mNone\u001b[39;00m, fscope)[\u001b[39m0\u001b[39m]\n\u001b[0;32m     40\u001b[0m num_candidates \u001b[39m=\u001b[39m ag__\u001b[39m.\u001b[39mconverted_call(ag__\u001b[39m.\u001b[39mld(tf)\u001b[39m.\u001b[39mshape, (ag__\u001b[39m.\u001b[39mld(scores),), \u001b[39mNone\u001b[39;00m, fscope)[\u001b[39m1\u001b[39m]\n",
      "\u001b[1;31mValueError\u001b[0m: in user code:\n\n    File \"c:\\Users\\david\\miniconda3\\envs\\machine_learning\\lib\\site-packages\\keras\\engine\\training.py\", line 1820, in test_function  *\n        return step_function(self, iterator)\n    File \"c:\\Users\\david\\miniconda3\\envs\\machine_learning\\lib\\site-packages\\keras\\engine\\training.py\", line 1804, in step_function  **\n        outputs = model.distribute_strategy.run(run_step, args=(data,))\n    File \"c:\\Users\\david\\miniconda3\\envs\\machine_learning\\lib\\site-packages\\keras\\engine\\training.py\", line 1792, in run_step  **\n        outputs = model.test_step(data)\n    File \"c:\\Users\\david\\miniconda3\\envs\\machine_learning\\lib\\site-packages\\tensorflow_recommenders\\models\\base.py\", line 88, in test_step\n        loss = self.compute_loss(inputs, training=False)\n    File \"C:\\Users\\david\\AppData\\Local\\Temp\\ipykernel_12812\\2414308280.py\", line 26, in compute_loss\n        return self.task(user_embeddings, genre_embeddings)\n    File \"c:\\Users\\david\\miniconda3\\envs\\machine_learning\\lib\\site-packages\\keras\\utils\\traceback_utils.py\", line 70, in error_handler\n        raise e.with_traceback(filtered_tb) from None\n    File \"C:\\Users\\david\\AppData\\Local\\Temp\\__autograph_generated_filed9czt08_.py\", line 38, in tf__call\n        scores = ag__.converted_call(ag__.ld(tf).linalg.matmul, (ag__.ld(query_embeddings), ag__.ld(candidate_embeddings)), dict(transpose_b=True), fscope)\n\n    ValueError: Exception encountered when calling layer 'retrieval' (type Retrieval).\n    \n    in user code:\n    \n        File \"c:\\Users\\david\\miniconda3\\envs\\machine_learning\\lib\\site-packages\\tensorflow_recommenders\\tasks\\retrieval.py\", line 141, in call  *\n            scores = tf.linalg.matmul(\n    \n        ValueError: Shape must be rank 2 but is rank 1 for '{{node retrieval/MatMul}} = MatMul[T=DT_FLOAT, transpose_a=false, transpose_b=true](sequential/embedding/embedding_lookup/Identity_1, sequential_1/embedding_1/embedding_lookup/Identity_1)' with input shapes: [10], [10].\n    \n    \n    Call arguments received by layer 'retrieval' (type Retrieval):\n      • query_embeddings=tf.Tensor(shape=(10,), dtype=float32)\n      • candidate_embeddings=tf.Tensor(shape=(10,), dtype=float32)\n      • sample_weight=None\n      • candidate_sampling_probability=None\n      • candidate_ids=None\n      • compute_metrics=True\n      • compute_batch_metrics=True\n"
     ]
    }
   ],
   "source": [
    "model.evaluate(users_test, return_dict=True)"
   ]
  },
  {
   "cell_type": "code",
   "execution_count": null,
   "metadata": {},
   "outputs": [],
   "source": []
  }
 ],
 "metadata": {
  "kernelspec": {
   "display_name": "Python 3.11.0 ('machine_learning')",
   "language": "python",
   "name": "python3"
  },
  "language_info": {
   "codemirror_mode": {
    "name": "ipython",
    "version": 3
   },
   "file_extension": ".py",
   "mimetype": "text/x-python",
   "name": "python",
   "nbconvert_exporter": "python",
   "pygments_lexer": "ipython3",
   "version": "3.10.8"
  },
  "orig_nbformat": 4,
  "vscode": {
   "interpreter": {
    "hash": "fdbc08bfd552fcfa063499972d029a466b90d059d13051b4162412532b8230c9"
   }
  }
 },
 "nbformat": 4,
 "nbformat_minor": 2
}
