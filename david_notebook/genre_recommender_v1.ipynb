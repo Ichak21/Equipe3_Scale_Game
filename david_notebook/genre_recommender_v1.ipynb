{
 "cells": [
  {
   "cell_type": "code",
   "execution_count": 2,
   "metadata": {},
   "outputs": [],
   "source": [
    "import pandas as pd"
   ]
  },
  {
   "cell_type": "code",
   "execution_count": 3,
   "metadata": {},
   "outputs": [
    {
     "name": "stderr",
     "output_type": "stream",
     "text": [
      "C:\\Users\\david\\AppData\\Local\\Temp\\ipykernel_8100\\560633259.py:2: DtypeWarning: Columns (0,3) have mixed types. Specify dtype option on import or set low_memory=False.\n",
      "  steam = pd.read_csv(\"../DataSet/start_steam-200k.csv\", header=None).iloc[:,:-1]\n"
     ]
    }
   ],
   "source": [
    "sales = pd.read_csv(\"../DataSet/start_vgsales.csv\")\n",
    "steam = pd.read_csv(\"../DataSet/start_steam-200k.csv\", header=None).iloc[:,:-1]\n",
    "steam.columns = [\"player_id\", \"game_title\", \"type\", \"value\"]"
   ]
  },
  {
   "cell_type": "code",
   "execution_count": 4,
   "metadata": {},
   "outputs": [],
   "source": [
    "steam = steam[steam[\"type\"] == \"purchase\"]"
   ]
  },
  {
   "cell_type": "code",
   "execution_count": 5,
   "metadata": {},
   "outputs": [
    {
     "data": {
      "text/html": [
       "<div>\n",
       "<style scoped>\n",
       "    .dataframe tbody tr th:only-of-type {\n",
       "        vertical-align: middle;\n",
       "    }\n",
       "\n",
       "    .dataframe tbody tr th {\n",
       "        vertical-align: top;\n",
       "    }\n",
       "\n",
       "    .dataframe thead th {\n",
       "        text-align: right;\n",
       "    }\n",
       "</style>\n",
       "<table border=\"1\" class=\"dataframe\">\n",
       "  <thead>\n",
       "    <tr style=\"text-align: right;\">\n",
       "      <th></th>\n",
       "      <th>player_id</th>\n",
       "      <th>game_title</th>\n",
       "      <th>type</th>\n",
       "      <th>value</th>\n",
       "      <th>Rank</th>\n",
       "      <th>Name</th>\n",
       "      <th>Platform</th>\n",
       "      <th>Year</th>\n",
       "      <th>Genre</th>\n",
       "      <th>Publisher</th>\n",
       "      <th>NA_Sales</th>\n",
       "      <th>EU_Sales</th>\n",
       "      <th>JP_Sales</th>\n",
       "      <th>Other_Sales</th>\n",
       "      <th>Global_Sales</th>\n",
       "    </tr>\n",
       "  </thead>\n",
       "  <tbody>\n",
       "    <tr>\n",
       "      <th>0</th>\n",
       "      <td>151603712</td>\n",
       "      <td>Fallout 4</td>\n",
       "      <td>purchase</td>\n",
       "      <td>1.0</td>\n",
       "      <td>110</td>\n",
       "      <td>Fallout 4</td>\n",
       "      <td>PS4</td>\n",
       "      <td>2015.0</td>\n",
       "      <td>Role-Playing</td>\n",
       "      <td>Bethesda Softworks</td>\n",
       "      <td>2.47</td>\n",
       "      <td>3.15</td>\n",
       "      <td>0.24</td>\n",
       "      <td>1.10</td>\n",
       "      <td>6.96</td>\n",
       "    </tr>\n",
       "    <tr>\n",
       "      <th>1</th>\n",
       "      <td>151603712</td>\n",
       "      <td>Fallout 4</td>\n",
       "      <td>purchase</td>\n",
       "      <td>1.0</td>\n",
       "      <td>288</td>\n",
       "      <td>Fallout 4</td>\n",
       "      <td>XOne</td>\n",
       "      <td>2015.0</td>\n",
       "      <td>Role-Playing</td>\n",
       "      <td>Bethesda Softworks</td>\n",
       "      <td>2.45</td>\n",
       "      <td>1.26</td>\n",
       "      <td>0.01</td>\n",
       "      <td>0.37</td>\n",
       "      <td>4.09</td>\n",
       "    </tr>\n",
       "    <tr>\n",
       "      <th>2</th>\n",
       "      <td>151603712</td>\n",
       "      <td>Fallout 4</td>\n",
       "      <td>purchase</td>\n",
       "      <td>1.0</td>\n",
       "      <td>1632</td>\n",
       "      <td>Fallout 4</td>\n",
       "      <td>PC</td>\n",
       "      <td>2015.0</td>\n",
       "      <td>Role-Playing</td>\n",
       "      <td>Bethesda Softworks</td>\n",
       "      <td>0.50</td>\n",
       "      <td>0.63</td>\n",
       "      <td>0.00</td>\n",
       "      <td>0.10</td>\n",
       "      <td>1.23</td>\n",
       "    </tr>\n",
       "    <tr>\n",
       "      <th>3</th>\n",
       "      <td>87445402</td>\n",
       "      <td>Fallout 4</td>\n",
       "      <td>purchase</td>\n",
       "      <td>1.0</td>\n",
       "      <td>110</td>\n",
       "      <td>Fallout 4</td>\n",
       "      <td>PS4</td>\n",
       "      <td>2015.0</td>\n",
       "      <td>Role-Playing</td>\n",
       "      <td>Bethesda Softworks</td>\n",
       "      <td>2.47</td>\n",
       "      <td>3.15</td>\n",
       "      <td>0.24</td>\n",
       "      <td>1.10</td>\n",
       "      <td>6.96</td>\n",
       "    </tr>\n",
       "    <tr>\n",
       "      <th>4</th>\n",
       "      <td>87445402</td>\n",
       "      <td>Fallout 4</td>\n",
       "      <td>purchase</td>\n",
       "      <td>1.0</td>\n",
       "      <td>288</td>\n",
       "      <td>Fallout 4</td>\n",
       "      <td>XOne</td>\n",
       "      <td>2015.0</td>\n",
       "      <td>Role-Playing</td>\n",
       "      <td>Bethesda Softworks</td>\n",
       "      <td>2.45</td>\n",
       "      <td>1.26</td>\n",
       "      <td>0.01</td>\n",
       "      <td>0.37</td>\n",
       "      <td>4.09</td>\n",
       "    </tr>\n",
       "  </tbody>\n",
       "</table>\n",
       "</div>"
      ],
      "text/plain": [
       "   player_id game_title      type value  Rank       Name Platform    Year  \\\n",
       "0  151603712  Fallout 4  purchase   1.0   110  Fallout 4      PS4  2015.0   \n",
       "1  151603712  Fallout 4  purchase   1.0   288  Fallout 4     XOne  2015.0   \n",
       "2  151603712  Fallout 4  purchase   1.0  1632  Fallout 4       PC  2015.0   \n",
       "3   87445402  Fallout 4  purchase   1.0   110  Fallout 4      PS4  2015.0   \n",
       "4   87445402  Fallout 4  purchase   1.0   288  Fallout 4     XOne  2015.0   \n",
       "\n",
       "          Genre           Publisher  NA_Sales  EU_Sales  JP_Sales  \\\n",
       "0  Role-Playing  Bethesda Softworks      2.47      3.15      0.24   \n",
       "1  Role-Playing  Bethesda Softworks      2.45      1.26      0.01   \n",
       "2  Role-Playing  Bethesda Softworks      0.50      0.63      0.00   \n",
       "3  Role-Playing  Bethesda Softworks      2.47      3.15      0.24   \n",
       "4  Role-Playing  Bethesda Softworks      2.45      1.26      0.01   \n",
       "\n",
       "   Other_Sales  Global_Sales  \n",
       "0         1.10          6.96  \n",
       "1         0.37          4.09  \n",
       "2         0.10          1.23  \n",
       "3         1.10          6.96  \n",
       "4         0.37          4.09  "
      ]
     },
     "execution_count": 5,
     "metadata": {},
     "output_type": "execute_result"
    }
   ],
   "source": [
    "df = steam.merge(sales, how='inner',left_on=\"game_title\", right_on=\"Name\")\n",
    "df.head()"
   ]
  },
  {
   "cell_type": "code",
   "execution_count": 6,
   "metadata": {},
   "outputs": [],
   "source": [
    "df2 = df[[\"player_id\", \"Genre\", \"value\"]]\n",
    "df3 = df2.groupby([\"player_id\", \"Genre\"]).count()"
   ]
  },
  {
   "cell_type": "code",
   "execution_count": 7,
   "metadata": {},
   "outputs": [],
   "source": [
    "import tensorflow_recommenders as tfrs\n",
    "import tensorflow as tf\n",
    "import numpy as np"
   ]
  },
  {
   "cell_type": "code",
   "execution_count": 8,
   "metadata": {},
   "outputs": [
    {
     "data": {
      "text/html": [
       "<div>\n",
       "<style scoped>\n",
       "    .dataframe tbody tr th:only-of-type {\n",
       "        vertical-align: middle;\n",
       "    }\n",
       "\n",
       "    .dataframe tbody tr th {\n",
       "        vertical-align: top;\n",
       "    }\n",
       "\n",
       "    .dataframe thead th {\n",
       "        text-align: right;\n",
       "    }\n",
       "</style>\n",
       "<table border=\"1\" class=\"dataframe\">\n",
       "  <thead>\n",
       "    <tr style=\"text-align: right;\">\n",
       "      <th></th>\n",
       "      <th>player_id</th>\n",
       "      <th>Genre</th>\n",
       "    </tr>\n",
       "  </thead>\n",
       "  <tbody>\n",
       "    <tr>\n",
       "      <th>0</th>\n",
       "      <td>86540</td>\n",
       "      <td>Action</td>\n",
       "    </tr>\n",
       "    <tr>\n",
       "      <th>1</th>\n",
       "      <td>86540</td>\n",
       "      <td>Adventure</td>\n",
       "    </tr>\n",
       "    <tr>\n",
       "      <th>2</th>\n",
       "      <td>86540</td>\n",
       "      <td>Racing</td>\n",
       "    </tr>\n",
       "    <tr>\n",
       "      <th>3</th>\n",
       "      <td>86540</td>\n",
       "      <td>Shooter</td>\n",
       "    </tr>\n",
       "    <tr>\n",
       "      <th>4</th>\n",
       "      <td>86540</td>\n",
       "      <td>Strategy</td>\n",
       "    </tr>\n",
       "    <tr>\n",
       "      <th>...</th>\n",
       "      <td>...</td>\n",
       "      <td>...</td>\n",
       "    </tr>\n",
       "    <tr>\n",
       "      <th>8953</th>\n",
       "      <td>99723205</td>\n",
       "      <td>Shooter</td>\n",
       "    </tr>\n",
       "    <tr>\n",
       "      <th>8954</th>\n",
       "      <td>99723205</td>\n",
       "      <td>Strategy</td>\n",
       "    </tr>\n",
       "    <tr>\n",
       "      <th>8955</th>\n",
       "      <td>99766416</td>\n",
       "      <td>Shooter</td>\n",
       "    </tr>\n",
       "    <tr>\n",
       "      <th>8956</th>\n",
       "      <td>99812428</td>\n",
       "      <td>Strategy</td>\n",
       "    </tr>\n",
       "    <tr>\n",
       "      <th>8957</th>\n",
       "      <td>99992274</td>\n",
       "      <td>Strategy</td>\n",
       "    </tr>\n",
       "  </tbody>\n",
       "</table>\n",
       "<p>8958 rows × 2 columns</p>\n",
       "</div>"
      ],
      "text/plain": [
       "      player_id      Genre\n",
       "0         86540     Action\n",
       "1         86540  Adventure\n",
       "2         86540     Racing\n",
       "3         86540    Shooter\n",
       "4         86540   Strategy\n",
       "...         ...        ...\n",
       "8953   99723205    Shooter\n",
       "8954   99723205   Strategy\n",
       "8955   99766416    Shooter\n",
       "8956   99812428   Strategy\n",
       "8957   99992274   Strategy\n",
       "\n",
       "[8958 rows x 2 columns]"
      ]
     },
     "execution_count": 8,
     "metadata": {},
     "output_type": "execute_result"
    }
   ],
   "source": [
    "users = df3.reset_index().drop(columns=\"value\")\n",
    "users[\"player_id\"] = np.asarray(users[\"player_id\"]).astype(np.int32)\n",
    "unique_user_ids = users[\"player_id\"].unique()\n",
    "users"
   ]
  },
  {
   "cell_type": "code",
   "execution_count": 9,
   "metadata": {},
   "outputs": [
    {
     "data": {
      "text/plain": [
       "array(['Action', 'Adventure', 'Racing', 'Shooter', 'Strategy',\n",
       "       'Role-Playing', 'Simulation', 'Sports', 'Fighting', 'Misc',\n",
       "       'Puzzle', 'Platform'], dtype=object)"
      ]
     },
     "execution_count": 9,
     "metadata": {},
     "output_type": "execute_result"
    }
   ],
   "source": [
    "genres = users[\"Genre\"].unique()\n",
    "#genres = pd.DataFrame(data=genres, columns=['Genre'])\n",
    "unique_genres = genres\n",
    "genres"
   ]
  },
  {
   "cell_type": "code",
   "execution_count": 10,
   "metadata": {},
   "outputs": [],
   "source": [
    "tf.random.set_seed(42)\n",
    "users_tensor = tf.data.Dataset.from_tensor_slices(dict(users))\n",
    "users_shuffled = users_tensor.shuffle(seed=42, buffer_size=100_000, reshuffle_each_iteration=False)\n",
    "\n",
    "users_train = users_shuffled.take(8_000)\n",
    "users_test = users_shuffled.skip(8_000).take(8958)"
   ]
  },
  {
   "cell_type": "code",
   "execution_count": 11,
   "metadata": {},
   "outputs": [],
   "source": [
    "genres_tensor = tf.data.Dataset.from_tensor_slices(genres)"
   ]
  },
  {
   "cell_type": "code",
   "execution_count": 12,
   "metadata": {},
   "outputs": [
    {
     "name": "stdout",
     "output_type": "stream",
     "text": [
      "tf.Tensor(b'Action', shape=(), dtype=string)\n",
      "tf.Tensor(b'Adventure', shape=(), dtype=string)\n",
      "tf.Tensor(b'Racing', shape=(), dtype=string)\n",
      "tf.Tensor(b'Shooter', shape=(), dtype=string)\n",
      "tf.Tensor(b'Strategy', shape=(), dtype=string)\n"
     ]
    }
   ],
   "source": [
    "for r in genres_tensor.take(5):\n",
    "    print(r)"
   ]
  },
  {
   "cell_type": "code",
   "execution_count": 13,
   "metadata": {},
   "outputs": [],
   "source": [
    "from typing import Dict, Text\n",
    "class MovieLensModel(tfrs.Model):\n",
    "     # We derive from a custom base class to help reduce boilerplate. Under the hood,\n",
    "     # these are still plain Keras Models.\n",
    "\n",
    "    def __init__(\n",
    "            self,\n",
    "            user_model: tf.keras.Model,\n",
    "            genre_model: tf.keras.Model,\n",
    "            task: tfrs.tasks.Retrieval):\n",
    "        super().__init__()\n",
    "\n",
    "          # Set up user and movie representations.\n",
    "        self.user_model = user_model\n",
    "        self.genre_model = genre_model\n",
    "\n",
    "        # Set up a retrieval task.\n",
    "        self.task = task\n",
    "\n",
    "    def compute_loss(self, features: Dict[Text, tf.Tensor], training=False) -> tf.Tensor:\n",
    "        # Define how the loss is computed.\n",
    "\n",
    "        user_embeddings = self.user_model(features[\"player_id\"])\n",
    "        genre_embeddings = self.genre_model(features[\"Genre\"])\n",
    "\n",
    "        return self.task(user_embeddings, genre_embeddings)"
   ]
  },
  {
   "cell_type": "code",
   "execution_count": 43,
   "metadata": {},
   "outputs": [],
   "source": [
    "user_model = tf.keras.Sequential([\n",
    "    tf.keras.layers.IntegerLookup(mask_token=None, vocabulary=unique_user_ids),\n",
    "    tf.keras.layers.Embedding(len(unique_user_ids) + 1, 10)\n",
    "])\n",
    "genre_model = tf.keras.Sequential([\n",
    "    tf.keras.layers.StringLookup(mask_token=None, vocabulary=unique_genres),\n",
    "    tf.keras.layers.Embedding(len(unique_genres) + 1, 10)\n",
    "])\n",
    "\n",
    "# Define your objectives.\n",
    "task = tfrs.tasks.Retrieval(\n",
    "    metrics=tfrs.metrics.FactorizedTopK(\n",
    "        candidates = genres_tensor.batch(128).map(genre_model)\n",
    "    ),\n",
    ")"
   ]
  },
  {
   "cell_type": "code",
   "execution_count": 44,
   "metadata": {},
   "outputs": [],
   "source": [
    "cached_train = users_train.shuffle(100_000).batch(8192).cache()\n",
    "cached_test = users_test.batch(4096).cache()"
   ]
  },
  {
   "cell_type": "code",
   "execution_count": 45,
   "metadata": {},
   "outputs": [
    {
     "name": "stdout",
     "output_type": "stream",
     "text": [
      "Epoch 1/3\n",
      "1/1 [==============================] - 3s 3s/step - factorized_top_k/top_1_categorical_accuracy: 0.0634 - factorized_top_k/top_5_categorical_accuracy: 0.3890 - factorized_top_k/top_10_categorical_accuracy: 0.8090 - factorized_top_k/top_50_categorical_accuracy: 1.0000 - factorized_top_k/top_100_categorical_accuracy: 1.0000 - loss: 71897.5391 - regularization_loss: 0.0000e+00 - total_loss: 71897.5391\n",
      "Epoch 2/3\n",
      "1/1 [==============================] - 1s 722ms/step - factorized_top_k/top_1_categorical_accuracy: 0.1166 - factorized_top_k/top_5_categorical_accuracy: 0.4819 - factorized_top_k/top_10_categorical_accuracy: 0.8185 - factorized_top_k/top_50_categorical_accuracy: 1.0000 - factorized_top_k/top_100_categorical_accuracy: 1.0000 - loss: 71883.0469 - regularization_loss: 0.0000e+00 - total_loss: 71883.0469\n",
      "Epoch 3/3\n",
      "1/1 [==============================] - 1s 864ms/step - factorized_top_k/top_1_categorical_accuracy: 0.3217 - factorized_top_k/top_5_categorical_accuracy: 0.7651 - factorized_top_k/top_10_categorical_accuracy: 0.9252 - factorized_top_k/top_50_categorical_accuracy: 1.0000 - factorized_top_k/top_100_categorical_accuracy: 1.0000 - loss: 71695.4766 - regularization_loss: 0.0000e+00 - total_loss: 71695.4766\n"
     ]
    },
    {
     "data": {
      "text/plain": [
       "<keras.callbacks.History at 0x2108f735e70>"
      ]
     },
     "execution_count": 45,
     "metadata": {},
     "output_type": "execute_result"
    }
   ],
   "source": [
    "model = MovieLensModel(user_model, genre_model, task)\n",
    "model.compile(optimizer=tf.keras.optimizers.Adagrad(learning_rate = 0.1))\n",
    "\n",
    "# Train for 3 epochs.\n",
    "model.fit(cached_train, epochs=3)\n"
   ]
  },
  {
   "cell_type": "code",
   "execution_count": 33,
   "metadata": {},
   "outputs": [
    {
     "name": "stdout",
     "output_type": "stream",
     "text": [
      "Top 3 recommendations for user 97782908: [b'Misc' b'Sports' b'Strategy' b'Role-Playing' b'Adventure' b'Platform'\n",
      " b'Shooter' b'Fighting' b'Action' b'Puzzle']\n",
      "Scores: [ 4.8108348e-03  4.5780106e-03  3.3074105e-03  2.3549767e-03\n",
      "  1.4150678e-03  8.6006959e-04  3.3108619e-04 -8.8091096e-05\n",
      " -8.5499755e-04 -1.3946217e-03]\n"
     ]
    }
   ],
   "source": [
    "# Use brute-force search to set up retrieval using the trained representations.\n",
    "index = tfrs.layers.factorized_top_k.BruteForce(model.user_model)\n",
    "index.index_from_dataset(\n",
    "    genres_tensor.batch(100).map(lambda title: (title, model.genre_model(title))))\n",
    "\n",
    "# Get some recommendations.\n",
    "_, titles = index(np.array([97782908]))\n",
    "print(f\"Top 3 recommendations for user 97782908: {titles[0, :10]}\")\n",
    "print(f\"Scores: {_[0, :10]}\")"
   ]
  },
  {
   "cell_type": "code",
   "execution_count": 16,
   "metadata": {},
   "outputs": [
    {
     "name": "stdout",
     "output_type": "stream",
     "text": [
      "1/1 [==============================] - 1s 629ms/step - factorized_top_k/top_1_categorical_accuracy: 0.0292 - factorized_top_k/top_5_categorical_accuracy: 0.2453 - factorized_top_k/top_10_categorical_accuracy: 0.6378 - factorized_top_k/top_50_categorical_accuracy: 1.0000 - factorized_top_k/top_100_categorical_accuracy: 1.0000 - loss: 7932.0552 - regularization_loss: 0.0000e+00 - total_loss: 7932.0552\n"
     ]
    },
    {
     "data": {
      "text/plain": [
       "{'factorized_top_k/top_1_categorical_accuracy': 0.02922755666077137,\n",
       " 'factorized_top_k/top_5_categorical_accuracy': 0.2453027069568634,\n",
       " 'factorized_top_k/top_10_categorical_accuracy': 0.6377870440483093,\n",
       " 'factorized_top_k/top_50_categorical_accuracy': 1.0,\n",
       " 'factorized_top_k/top_100_categorical_accuracy': 1.0,\n",
       " 'loss': 7932.05517578125,\n",
       " 'regularization_loss': 0,\n",
       " 'total_loss': 7932.05517578125}"
      ]
     },
     "execution_count": 16,
     "metadata": {},
     "output_type": "execute_result"
    }
   ],
   "source": [
    "model.evaluate(cached_test, return_dict=True)"
   ]
  },
  {
   "cell_type": "code",
   "execution_count": null,
   "metadata": {},
   "outputs": [],
   "source": []
  }
 ],
 "metadata": {
  "kernelspec": {
   "display_name": "Python 3.11.0 ('machine_learning')",
   "language": "python",
   "name": "python3"
  },
  "language_info": {
   "codemirror_mode": {
    "name": "ipython",
    "version": 3
   },
   "file_extension": ".py",
   "mimetype": "text/x-python",
   "name": "python",
   "nbconvert_exporter": "python",
   "pygments_lexer": "ipython3",
   "version": "3.10.8"
  },
  "orig_nbformat": 4,
  "vscode": {
   "interpreter": {
    "hash": "fdbc08bfd552fcfa063499972d029a466b90d059d13051b4162412532b8230c9"
   }
  }
 },
 "nbformat": 4,
 "nbformat_minor": 2
}
