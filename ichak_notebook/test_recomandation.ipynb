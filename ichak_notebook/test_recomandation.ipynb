{
 "cells": [
  {
   "cell_type": "code",
   "execution_count": 21,
   "metadata": {},
   "outputs": [],
   "source": [
    "import pandas as pd\n",
    "import numpy as np\n",
    "import pandas as pd\n",
    "import matplotlib.pyplot as plt\n",
    "import os\n",
    "\n",
    "df_full_user = pd.read_csv(\"../preprosscedDataSet.csv\")\n",
    "df_games = pd.read_csv(\"../full_api_preprocessing.csv\")"
   ]
  },
  {
   "cell_type": "code",
   "execution_count": 33,
   "metadata": {},
   "outputs": [
    {
     "data": {
      "text/plain": [
       "(108435, 4)"
      ]
     },
     "execution_count": 33,
     "metadata": {},
     "output_type": "execute_result"
    }
   ],
   "source": [
    "df_user = pd.DataFrame(df_full_user[[\"user_id\",\"03_hltb_id\",\" time_is_play\", \"06_time_100\"]])\n",
    "df_user.shape"
   ]
  },
  {
   "cell_type": "code",
   "execution_count": 40,
   "metadata": {},
   "outputs": [
    {
     "name": "stderr",
     "output_type": "stream",
     "text": [
      "C:\\Users\\ichak\\AppData\\Local\\Temp\\ipykernel_18280\\4185542749.py:1: SettingWithCopyWarning: \n",
      "A value is trying to be set on a copy of a slice from a DataFrame.\n",
      "Try using .loc[row_indexer,col_indexer] = value instead\n",
      "\n",
      "See the caveats in the documentation: https://pandas.pydata.org/pandas-docs/stable/user_guide/indexing.html#returning-a-view-versus-a-copy\n",
      "  df_user[\"rating_reco\"] = df_user[\" time_is_play\"]/df_user[\"06_time_100\"]\n",
      "C:\\Users\\ichak\\AppData\\Local\\Temp\\ipykernel_18280\\4185542749.py:2: SettingWithCopyWarning: \n",
      "A value is trying to be set on a copy of a slice from a DataFrame.\n",
      "Try using .loc[row_indexer,col_indexer] = value instead\n",
      "\n",
      "See the caveats in the documentation: https://pandas.pydata.org/pandas-docs/stable/user_guide/indexing.html#returning-a-view-versus-a-copy\n",
      "  df_user[\"rating_reco\"] = df_user[\"rating_reco\"].replace(-np.inf,0)\n",
      "C:\\Users\\ichak\\AppData\\Local\\Temp\\ipykernel_18280\\4185542749.py:3: SettingWithCopyWarning: \n",
      "A value is trying to be set on a copy of a slice from a DataFrame.\n",
      "Try using .loc[row_indexer,col_indexer] = value instead\n",
      "\n",
      "See the caveats in the documentation: https://pandas.pydata.org/pandas-docs/stable/user_guide/indexing.html#returning-a-view-versus-a-copy\n",
      "  df_user[\"rating_reco\"] = df_user[\"rating_reco\"].replace(np.inf,0)\n"
     ]
    },
    {
     "data": {
      "text/plain": [
       "(97924, 3)"
      ]
     },
     "execution_count": 40,
     "metadata": {},
     "output_type": "execute_result"
    }
   ],
   "source": [
    "df_user[\"rating_reco\"] = df_user[\" time_is_play\"]/df_user[\"06_time_100\"]\n",
    "df_user[\"rating_reco\"] = df_user[\"rating_reco\"].replace(-np.inf,0)\n",
    "df_user[\"rating_reco\"] = df_user[\"rating_reco\"].replace(np.inf,0)\n",
    "df_user.pop(\" time_is_play\")\n",
    "df_user.pop(\"06_time_100\")\n",
    "df_user = df_user.dropna()\n",
    "df_user.shape"
   ]
  },
  {
   "cell_type": "code",
   "execution_count": 41,
   "metadata": {},
   "outputs": [
    {
     "data": {
      "text/html": [
       "<div>\n",
       "<style scoped>\n",
       "    .dataframe tbody tr th:only-of-type {\n",
       "        vertical-align: middle;\n",
       "    }\n",
       "\n",
       "    .dataframe tbody tr th {\n",
       "        vertical-align: top;\n",
       "    }\n",
       "\n",
       "    .dataframe thead th {\n",
       "        text-align: right;\n",
       "    }\n",
       "</style>\n",
       "<table border=\"1\" class=\"dataframe\">\n",
       "  <thead>\n",
       "    <tr style=\"text-align: right;\">\n",
       "      <th></th>\n",
       "      <th>user_id</th>\n",
       "      <th>03_hltb_id</th>\n",
       "      <th>rating_reco</th>\n",
       "    </tr>\n",
       "  </thead>\n",
       "  <tbody>\n",
       "    <tr>\n",
       "      <th>0</th>\n",
       "      <td>5250</td>\n",
       "      <td>368.0</td>\n",
       "      <td>0.000108</td>\n",
       "    </tr>\n",
       "    <tr>\n",
       "      <th>1</th>\n",
       "      <td>76767</td>\n",
       "      <td>368.0</td>\n",
       "      <td>0.000033</td>\n",
       "    </tr>\n",
       "    <tr>\n",
       "      <th>2</th>\n",
       "      <td>298950</td>\n",
       "      <td>368.0</td>\n",
       "      <td>0.000048</td>\n",
       "    </tr>\n",
       "    <tr>\n",
       "      <th>3</th>\n",
       "      <td>975449</td>\n",
       "      <td>368.0</td>\n",
       "      <td>0.000198</td>\n",
       "    </tr>\n",
       "    <tr>\n",
       "      <th>4</th>\n",
       "      <td>1364546</td>\n",
       "      <td>368.0</td>\n",
       "      <td>0.000035</td>\n",
       "    </tr>\n",
       "    <tr>\n",
       "      <th>...</th>\n",
       "      <td>...</td>\n",
       "      <td>...</td>\n",
       "      <td>...</td>\n",
       "    </tr>\n",
       "    <tr>\n",
       "      <th>108427</th>\n",
       "      <td>242325247</td>\n",
       "      <td>21210.0</td>\n",
       "      <td>0.000000</td>\n",
       "    </tr>\n",
       "    <tr>\n",
       "      <th>108430</th>\n",
       "      <td>243664576</td>\n",
       "      <td>28069.0</td>\n",
       "      <td>0.000000</td>\n",
       "    </tr>\n",
       "    <tr>\n",
       "      <th>108431</th>\n",
       "      <td>245314153</td>\n",
       "      <td>13305.0</td>\n",
       "      <td>0.000000</td>\n",
       "    </tr>\n",
       "    <tr>\n",
       "      <th>108433</th>\n",
       "      <td>247464119</td>\n",
       "      <td>18591.0</td>\n",
       "      <td>0.000000</td>\n",
       "    </tr>\n",
       "    <tr>\n",
       "      <th>108434</th>\n",
       "      <td>307846753</td>\n",
       "      <td>28006.0</td>\n",
       "      <td>0.000000</td>\n",
       "    </tr>\n",
       "  </tbody>\n",
       "</table>\n",
       "<p>97924 rows × 3 columns</p>\n",
       "</div>"
      ],
      "text/plain": [
       "          user_id  03_hltb_id  rating_reco\n",
       "0            5250       368.0     0.000108\n",
       "1           76767       368.0     0.000033\n",
       "2          298950       368.0     0.000048\n",
       "3          975449       368.0     0.000198\n",
       "4         1364546       368.0     0.000035\n",
       "...           ...         ...          ...\n",
       "108427  242325247     21210.0     0.000000\n",
       "108430  243664576     28069.0     0.000000\n",
       "108431  245314153     13305.0     0.000000\n",
       "108433  247464119     18591.0     0.000000\n",
       "108434  307846753     28006.0     0.000000\n",
       "\n",
       "[97924 rows x 3 columns]"
      ]
     },
     "execution_count": 41,
     "metadata": {},
     "output_type": "execute_result"
    }
   ],
   "source": [
    "df_user"
   ]
  },
  {
   "cell_type": "code",
   "execution_count": null,
   "metadata": {},
   "outputs": [],
   "source": []
  }
 ],
 "metadata": {
  "kernelspec": {
   "display_name": "Python 3.10.6 ('ML_2022')",
   "language": "python",
   "name": "python3"
  },
  "language_info": {
   "codemirror_mode": {
    "name": "ipython",
    "version": 3
   },
   "file_extension": ".py",
   "mimetype": "text/x-python",
   "name": "python",
   "nbconvert_exporter": "python",
   "pygments_lexer": "ipython3",
   "version": "3.10.6"
  },
  "orig_nbformat": 4,
  "vscode": {
   "interpreter": {
    "hash": "7bc7bb59cfc1d39269e3c298a588e1415dd10d31ac39e9054ebb30e54e15bf2c"
   }
  }
 },
 "nbformat": 4,
 "nbformat_minor": 2
}
