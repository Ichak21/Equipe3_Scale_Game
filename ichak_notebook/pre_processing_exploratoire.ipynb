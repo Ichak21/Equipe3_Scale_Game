{
 "cells": [
  {
   "cell_type": "code",
   "execution_count": 1,
   "metadata": {},
   "outputs": [],
   "source": [
    "import pandas as pd\n",
    "from howlongtobeatpy import HowLongToBeat, HowLongToBeatEntry"
   ]
  },
  {
   "cell_type": "code",
   "execution_count": 134,
   "metadata": {},
   "outputs": [
    {
     "data": {
      "text/plain": [
       "{'count': 3,\n",
       " 'game_id': 9854,\n",
       " 'game_name': 'The Elder Scrolls IV: Oblivion',\n",
       " 'game_name_date': 0,\n",
       " 'game_alias': '',\n",
       " 'game_type': 'game',\n",
       " 'game_image': '256px-The_Elder_Scrolls_IV_Oblivion_cover.png',\n",
       " 'comp_lvl_combine': 0,\n",
       " 'comp_lvl_sp': 1,\n",
       " 'comp_lvl_co': 1,\n",
       " 'comp_lvl_mp': 1,\n",
       " 'comp_lvl_spd': 1,\n",
       " 'comp_main': 98447,\n",
       " 'comp_plus': 307458,\n",
       " 'comp_100': 662369,\n",
       " 'comp_all': 288901,\n",
       " 'comp_main_count': 272,\n",
       " 'comp_plus_count': 459,\n",
       " 'comp_100_count': 167,\n",
       " 'comp_all_count': 898,\n",
       " 'invested_co': 0,\n",
       " 'invested_mp': 0,\n",
       " 'invested_co_count': 0,\n",
       " 'invested_mp_count': 0,\n",
       " 'count_comp': 3258,\n",
       " 'count_speedrun': 10,\n",
       " 'count_backlog': 5539,\n",
       " 'count_review': 846,\n",
       " 'review_score': 83,\n",
       " 'count_playing': 55,\n",
       " 'count_retired': 826,\n",
       " 'profile_dev': 'Bethesda Game Studios, 4J Studios',\n",
       " 'profile_popular': 310,\n",
       " 'profile_steam': 0,\n",
       " 'profile_platform': 'PC, PlayStation 3, Xbox 360',\n",
       " 'release_world': 2006}"
      ]
     },
     "execution_count": 134,
     "metadata": {},
     "output_type": "execute_result"
    }
   ],
   "source": [
    "test = HowLongToBeat().search(\"The Elder Scrolls oblivion\")\n",
    "best_element = max(test, key=lambda element: element.similarity)\n",
    "best_element.json_content"
   ]
  },
  {
   "cell_type": "code",
   "execution_count": 132,
   "metadata": {},
   "outputs": [],
   "source": [
    "import json"
   ]
  },
  {
   "cell_type": "code",
   "execution_count": 138,
   "metadata": {},
   "outputs": [],
   "source": [
    "json_object = json.dumps(best_element.json_content, indent = 4) "
   ]
  },
  {
   "cell_type": "code",
   "execution_count": 142,
   "metadata": {},
   "outputs": [
    {
     "data": {
      "text/plain": [
       "'{\\n    \"count\": 3,\\n    \"game_id\": 9854,\\n    \"game_name\": \"the elder scrolls iv: oblivion\",\\n    \"game_name_date\": 0,\\n    \"game_alias\": \"\",\\n    \"game_type\": \"game\",\\n    \"game_image\": \"256px-the_elder_scrolls_iv_oblivion_cover.png\",\\n    \"comp_lvl_combine\": 0,\\n    \"comp_lvl_sp\": 1,\\n    \"comp_lvl_co\": 1,\\n    \"comp_lvl_mp\": 1,\\n    \"comp_lvl_spd\": 1,\\n    \"comp_main\": 98447,\\n    \"comp_plus\": 307458,\\n    \"comp_100\": 662369,\\n    \"comp_all\": 288901,\\n    \"comp_main_count\": 272,\\n    \"comp_plus_count\": 459,\\n    \"comp_100_count\": 167,\\n    \"comp_all_count\": 898,\\n    \"invested_co\": 0,\\n    \"invested_mp\": 0,\\n    \"invested_co_count\": 0,\\n    \"invested_mp_count\": 0,\\n    \"count_comp\": 3258,\\n    \"count_speedrun\": 10,\\n    \"count_backlog\": 5539,\\n    \"count_review\": 846,\\n    \"review_score\": 83,\\n    \"count_playing\": 55,\\n    \"count_retired\": 826,\\n    \"profile_dev\": \"bethesda game studios, 4j studios\",\\n    \"profile_popular\": 310,\\n    \"profile_steam\": 0,\\n    \"profile_platform\": \"pc, playstation 3, xbox 360\",\\n    \"release_world\": 2006\\n}'"
      ]
     },
     "execution_count": 142,
     "metadata": {},
     "output_type": "execute_result"
    }
   ],
   "source": [
    "json_object.capitalize()"
   ]
  },
  {
   "cell_type": "code",
   "execution_count": 144,
   "metadata": {},
   "outputs": [],
   "source": [
    "myjson = json.loads(json_object.capitalize())"
   ]
  },
  {
   "cell_type": "code",
   "execution_count": 145,
   "metadata": {},
   "outputs": [
    {
     "data": {
      "text/plain": [
       "846"
      ]
     },
     "execution_count": 145,
     "metadata": {},
     "output_type": "execute_result"
    }
   ],
   "source": [
    "myjson[\"count_review\"]"
   ]
  },
  {
   "cell_type": "code",
   "execution_count": 124,
   "metadata": {},
   "outputs": [
    {
     "ename": "SyntaxError",
     "evalue": "invalid syntax (107916393.py, line 1)",
     "output_type": "error",
     "traceback": [
      "\u001b[1;36m  Input \u001b[1;32mIn [124]\u001b[1;36m\u001b[0m\n\u001b[1;33m    print(\"lol\" if best_element.game_id > 0 )\u001b[0m\n\u001b[1;37m                                            ^\u001b[0m\n\u001b[1;31mSyntaxError\u001b[0m\u001b[1;31m:\u001b[0m invalid syntax\n"
     ]
    }
   ],
   "source": [
    "print(\"lol\" if best_element.game_id > 0 )"
   ]
  },
  {
   "cell_type": "code",
   "execution_count": 125,
   "metadata": {},
   "outputs": [],
   "source": [
    "l1 = []"
   ]
  },
  {
   "cell_type": "code",
   "execution_count": 130,
   "metadata": {},
   "outputs": [],
   "source": [
    "l1.append(1) if l1 == [] else l1.append(0)"
   ]
  },
  {
   "cell_type": "code",
   "execution_count": 131,
   "metadata": {},
   "outputs": [
    {
     "data": {
      "text/plain": [
       "[1, 0, 0]"
      ]
     },
     "execution_count": 131,
     "metadata": {},
     "output_type": "execute_result"
    }
   ],
   "source": [
    "l1"
   ]
  },
  {
   "cell_type": "code",
   "execution_count": null,
   "metadata": {},
   "outputs": [],
   "source": []
  },
  {
   "cell_type": "code",
   "execution_count": 8,
   "metadata": {},
   "outputs": [
    {
     "data": {
      "text/plain": [
       "27.35"
      ]
     },
     "execution_count": 8,
     "metadata": {},
     "output_type": "execute_result"
    }
   ],
   "source": [
    "best_element.main_extra\n",
    "best_element.main_story"
   ]
  },
  {
   "cell_type": "code",
   "execution_count": null,
   "metadata": {},
   "outputs": [],
   "source": [
    "dftest = pd.DataFrame(columns="
   ]
  },
  {
   "cell_type": "code",
   "execution_count": 25,
   "metadata": {},
   "outputs": [
    {
     "data": {
      "text/plain": [
       "['att1', 'att2', 'att3', 'att4']"
      ]
     },
     "execution_count": 25,
     "metadata": {},
     "output_type": "execute_result"
    }
   ],
   "source": [
    "from itertools import compress\n",
    "OUTPUT= [\"att1\", \"att2\", \"att3\", \"att4\"]\n",
    "OUTPUT"
   ]
  },
  {
   "cell_type": "code",
   "execution_count": 23,
   "metadata": {},
   "outputs": [
    {
     "data": {
      "text/plain": [
       "[True, True, False, False]"
      ]
     },
     "execution_count": 23,
     "metadata": {},
     "output_type": "execute_result"
    }
   ],
   "source": [
    "MASK = [True, True, False, False ]\n",
    "MASK"
   ]
  },
  {
   "cell_type": "code",
   "execution_count": 31,
   "metadata": {},
   "outputs": [
    {
     "data": {
      "text/html": [
       "<div>\n",
       "<style scoped>\n",
       "    .dataframe tbody tr th:only-of-type {\n",
       "        vertical-align: middle;\n",
       "    }\n",
       "\n",
       "    .dataframe tbody tr th {\n",
       "        vertical-align: top;\n",
       "    }\n",
       "\n",
       "    .dataframe thead th {\n",
       "        text-align: right;\n",
       "    }\n",
       "</style>\n",
       "<table border=\"1\" class=\"dataframe\">\n",
       "  <thead>\n",
       "    <tr style=\"text-align: right;\">\n",
       "      <th></th>\n",
       "      <th>att1</th>\n",
       "      <th>att2</th>\n",
       "    </tr>\n",
       "  </thead>\n",
       "  <tbody>\n",
       "  </tbody>\n",
       "</table>\n",
       "</div>"
      ],
      "text/plain": [
       "Empty DataFrame\n",
       "Columns: [att1, att2]\n",
       "Index: []"
      ]
     },
     "execution_count": 31,
     "metadata": {},
     "output_type": "execute_result"
    }
   ],
   "source": [
    "df=pd.DataFrame(columns=[*compress(OUTPUT, MASK)])\n",
    "df.add([\"lol\",\"loled\"])\n",
    "df\n"
   ]
  },
  {
   "cell_type": "code",
   "execution_count": 39,
   "metadata": {},
   "outputs": [],
   "source": [
    "df[[*compress(OUTPUT, MASK)]] = [\"lol\",\"lol\"]"
   ]
  },
  {
   "cell_type": "code",
   "execution_count": 49,
   "metadata": {},
   "outputs": [
    {
     "ename": "TypeError",
     "evalue": "Index(...) must be called with a collection of some kind, False was passed",
     "output_type": "error",
     "traceback": [
      "\u001b[1;31m---------------------------------------------------------------------------\u001b[0m",
      "\u001b[1;31mTypeError\u001b[0m                                 Traceback (most recent call last)",
      "\u001b[1;32md:\\_WS_Developpement\\Equipe3_Scale_Game\\ichak_notebook\\pre_processing_exploratoire.ipynb Cellule 9\u001b[0m in \u001b[0;36m<cell line: 1>\u001b[1;34m()\u001b[0m\n\u001b[1;32m----> <a href='vscode-notebook-cell:/d%3A/_WS_Developpement/Equipe3_Scale_Game/ichak_notebook/pre_processing_exploratoire.ipynb#X51sZmlsZQ%3D%3D?line=0'>1</a>\u001b[0m temps \u001b[39m=\u001b[39m pd\u001b[39m.\u001b[39;49mDataFrame([\u001b[39m\"\u001b[39;49m\u001b[39mlool\u001b[39;49m\u001b[39m\"\u001b[39;49m, \u001b[39m\"\u001b[39;49m\u001b[39mloooooooool\u001b[39;49m\u001b[39m\"\u001b[39;49m], columns\u001b[39m=\u001b[39;49m[\u001b[39m*\u001b[39;49mcompress(OUTPUT, MASK)], index\u001b[39m=\u001b[39;49m\u001b[39mFalse\u001b[39;49;00m)\n",
      "File \u001b[1;32mc:\\ProgramData\\Miniconda3\\envs\\ML_2022\\lib\\site-packages\\pandas\\core\\frame.py:737\u001b[0m, in \u001b[0;36mDataFrame.__init__\u001b[1;34m(self, data, index, columns, dtype, copy)\u001b[0m\n\u001b[0;32m    729\u001b[0m         mgr \u001b[39m=\u001b[39m arrays_to_mgr(\n\u001b[0;32m    730\u001b[0m             arrays,\n\u001b[0;32m    731\u001b[0m             columns,\n\u001b[1;32m   (...)\u001b[0m\n\u001b[0;32m    734\u001b[0m             typ\u001b[39m=\u001b[39mmanager,\n\u001b[0;32m    735\u001b[0m         )\n\u001b[0;32m    736\u001b[0m     \u001b[39melse\u001b[39;00m:\n\u001b[1;32m--> 737\u001b[0m         mgr \u001b[39m=\u001b[39m ndarray_to_mgr(\n\u001b[0;32m    738\u001b[0m             data,\n\u001b[0;32m    739\u001b[0m             index,\n\u001b[0;32m    740\u001b[0m             columns,\n\u001b[0;32m    741\u001b[0m             dtype\u001b[39m=\u001b[39;49mdtype,\n\u001b[0;32m    742\u001b[0m             copy\u001b[39m=\u001b[39;49mcopy,\n\u001b[0;32m    743\u001b[0m             typ\u001b[39m=\u001b[39;49mmanager,\n\u001b[0;32m    744\u001b[0m         )\n\u001b[0;32m    745\u001b[0m \u001b[39melse\u001b[39;00m:\n\u001b[0;32m    746\u001b[0m     mgr \u001b[39m=\u001b[39m dict_to_mgr(\n\u001b[0;32m    747\u001b[0m         {},\n\u001b[0;32m    748\u001b[0m         index,\n\u001b[1;32m   (...)\u001b[0m\n\u001b[0;32m    751\u001b[0m         typ\u001b[39m=\u001b[39mmanager,\n\u001b[0;32m    752\u001b[0m     )\n",
      "File \u001b[1;32mc:\\ProgramData\\Miniconda3\\envs\\ML_2022\\lib\\site-packages\\pandas\\core\\internals\\construction.py:347\u001b[0m, in \u001b[0;36mndarray_to_mgr\u001b[1;34m(values, index, columns, dtype, copy, typ)\u001b[0m\n\u001b[0;32m    344\u001b[0m     values \u001b[39m=\u001b[39m values\u001b[39m.\u001b[39mreshape(shape)\n\u001b[0;32m    346\u001b[0m \u001b[39m# _prep_ndarray ensures that values.ndim == 2 at this point\u001b[39;00m\n\u001b[1;32m--> 347\u001b[0m index, columns \u001b[39m=\u001b[39m _get_axes(\n\u001b[0;32m    348\u001b[0m     values\u001b[39m.\u001b[39;49mshape[\u001b[39m0\u001b[39;49m], values\u001b[39m.\u001b[39;49mshape[\u001b[39m1\u001b[39;49m], index\u001b[39m=\u001b[39;49mindex, columns\u001b[39m=\u001b[39;49mcolumns\n\u001b[0;32m    349\u001b[0m )\n\u001b[0;32m    351\u001b[0m _check_values_indices_shape_match(values, index, columns)\n\u001b[0;32m    353\u001b[0m \u001b[39mif\u001b[39;00m typ \u001b[39m==\u001b[39m \u001b[39m\"\u001b[39m\u001b[39marray\u001b[39m\u001b[39m\"\u001b[39m:\n",
      "File \u001b[1;32mc:\\ProgramData\\Miniconda3\\envs\\ML_2022\\lib\\site-packages\\pandas\\core\\internals\\construction.py:756\u001b[0m, in \u001b[0;36m_get_axes\u001b[1;34m(N, K, index, columns)\u001b[0m\n\u001b[0;32m    754\u001b[0m     index \u001b[39m=\u001b[39m default_index(N)\n\u001b[0;32m    755\u001b[0m \u001b[39melse\u001b[39;00m:\n\u001b[1;32m--> 756\u001b[0m     index \u001b[39m=\u001b[39m ensure_index(index)\n\u001b[0;32m    758\u001b[0m \u001b[39mif\u001b[39;00m columns \u001b[39mis\u001b[39;00m \u001b[39mNone\u001b[39;00m:\n\u001b[0;32m    759\u001b[0m     columns \u001b[39m=\u001b[39m default_index(K)\n",
      "File \u001b[1;32mc:\\ProgramData\\Miniconda3\\envs\\ML_2022\\lib\\site-packages\\pandas\\core\\indexes\\base.py:7060\u001b[0m, in \u001b[0;36mensure_index\u001b[1;34m(index_like, copy)\u001b[0m\n\u001b[0;32m   7058\u001b[0m         \u001b[39mreturn\u001b[39;00m Index\u001b[39m.\u001b[39m_with_infer(index_like, copy\u001b[39m=\u001b[39mcopy, tupleize_cols\u001b[39m=\u001b[39m\u001b[39mFalse\u001b[39;00m)\n\u001b[0;32m   7059\u001b[0m \u001b[39melse\u001b[39;00m:\n\u001b[1;32m-> 7060\u001b[0m     \u001b[39mreturn\u001b[39;00m Index\u001b[39m.\u001b[39;49m_with_infer(index_like, copy\u001b[39m=\u001b[39;49mcopy)\n",
      "File \u001b[1;32mc:\\ProgramData\\Miniconda3\\envs\\ML_2022\\lib\\site-packages\\pandas\\core\\indexes\\base.py:680\u001b[0m, in \u001b[0;36mIndex._with_infer\u001b[1;34m(cls, *args, **kwargs)\u001b[0m\n\u001b[0;32m    678\u001b[0m \u001b[39mwith\u001b[39;00m warnings\u001b[39m.\u001b[39mcatch_warnings():\n\u001b[0;32m    679\u001b[0m     warnings\u001b[39m.\u001b[39mfilterwarnings(\u001b[39m\"\u001b[39m\u001b[39mignore\u001b[39m\u001b[39m\"\u001b[39m, \u001b[39m\"\u001b[39m\u001b[39m.*the Index constructor\u001b[39m\u001b[39m\"\u001b[39m, \u001b[39mFutureWarning\u001b[39;00m)\n\u001b[1;32m--> 680\u001b[0m     result \u001b[39m=\u001b[39m \u001b[39mcls\u001b[39;49m(\u001b[39m*\u001b[39;49margs, \u001b[39m*\u001b[39;49m\u001b[39m*\u001b[39;49mkwargs)\n\u001b[0;32m    682\u001b[0m \u001b[39mif\u001b[39;00m result\u001b[39m.\u001b[39mdtype \u001b[39m==\u001b[39m _dtype_obj \u001b[39mand\u001b[39;00m \u001b[39mnot\u001b[39;00m result\u001b[39m.\u001b[39m_is_multi:\n\u001b[0;32m    683\u001b[0m     \u001b[39m# error: Argument 1 to \"maybe_convert_objects\" has incompatible type\u001b[39;00m\n\u001b[0;32m    684\u001b[0m     \u001b[39m# \"Union[ExtensionArray, ndarray[Any, Any]]\"; expected\u001b[39;00m\n\u001b[0;32m    685\u001b[0m     \u001b[39m# \"ndarray[Any, Any]\"\u001b[39;00m\n\u001b[0;32m    686\u001b[0m     values \u001b[39m=\u001b[39m lib\u001b[39m.\u001b[39mmaybe_convert_objects(result\u001b[39m.\u001b[39m_values)  \u001b[39m# type: ignore[arg-type]\u001b[39;00m\n",
      "File \u001b[1;32mc:\\ProgramData\\Miniconda3\\envs\\ML_2022\\lib\\site-packages\\pandas\\core\\indexes\\base.py:508\u001b[0m, in \u001b[0;36mIndex.__new__\u001b[1;34m(cls, data, dtype, copy, name, tupleize_cols, **kwargs)\u001b[0m\n\u001b[0;32m    505\u001b[0m     \u001b[39mreturn\u001b[39;00m klass\u001b[39m.\u001b[39m_simple_new(arr, name)\n\u001b[0;32m    507\u001b[0m \u001b[39melif\u001b[39;00m is_scalar(data):\n\u001b[1;32m--> 508\u001b[0m     \u001b[39mraise\u001b[39;00m \u001b[39mcls\u001b[39m\u001b[39m.\u001b[39m_scalar_data_error(data)\n\u001b[0;32m    509\u001b[0m \u001b[39melif\u001b[39;00m \u001b[39mhasattr\u001b[39m(data, \u001b[39m\"\u001b[39m\u001b[39m__array__\u001b[39m\u001b[39m\"\u001b[39m):\n\u001b[0;32m    510\u001b[0m     \u001b[39mreturn\u001b[39;00m Index(np\u001b[39m.\u001b[39masarray(data), dtype\u001b[39m=\u001b[39mdtype, copy\u001b[39m=\u001b[39mcopy, name\u001b[39m=\u001b[39mname, \u001b[39m*\u001b[39m\u001b[39m*\u001b[39mkwargs)\n",
      "\u001b[1;31mTypeError\u001b[0m: Index(...) must be called with a collection of some kind, False was passed"
     ]
    }
   ],
   "source": [
    "temps = pd.DataFrame([\"lool\", \"loooooooool\"], columns=[*compress(OUTPUT, MASK)])"
   ]
  },
  {
   "cell_type": "code",
   "execution_count": 43,
   "metadata": {},
   "outputs": [],
   "source": [
    "df[\"att2\"] = 7"
   ]
  },
  {
   "cell_type": "code",
   "execution_count": 9,
   "metadata": {},
   "outputs": [],
   "source": [
    "df_test = pd.read_csv(\"out.csv\")"
   ]
  },
  {
   "cell_type": "code",
   "execution_count": 36,
   "metadata": {},
   "outputs": [
    {
     "ename": "TypeError",
     "evalue": "unhashable type: 'list'",
     "output_type": "error",
     "traceback": [
      "\u001b[1;31m---------------------------------------------------------------------------\u001b[0m",
      "\u001b[1;31mTypeError\u001b[0m                                 Traceback (most recent call last)",
      "\u001b[1;32md:\\_WS_Developpement\\Equipe3_Scale_Game\\ichak_notebook\\pre_processing_exploratoire.ipynb Cellule 9\u001b[0m in \u001b[0;36m<cell line: 1>\u001b[1;34m()\u001b[0m\n\u001b[1;32m----> <a href='vscode-notebook-cell:/d%3A/_WS_Developpement/Equipe3_Scale_Game/ichak_notebook/pre_processing_exploratoire.ipynb#X44sZmlsZQ%3D%3D?line=0'>1</a>\u001b[0m dico \u001b[39m=\u001b[39m {[\u001b[39m*\u001b[39mcompress(OUTPUT, MASK)]}\n",
      "\u001b[1;31mTypeError\u001b[0m: unhashable type: 'list'"
     ]
    }
   ],
   "source": [
    "dico = {keys = [*compress(OUTPUT, MASK)]}"
   ]
  },
  {
   "cell_type": "code",
   "execution_count": 35,
   "metadata": {},
   "outputs": [
    {
     "ename": "AttributeError",
     "evalue": "'dict' object attribute 'keys' is read-only",
     "output_type": "error",
     "traceback": [
      "\u001b[1;31m---------------------------------------------------------------------------\u001b[0m",
      "\u001b[1;31mAttributeError\u001b[0m                            Traceback (most recent call last)",
      "\u001b[1;32md:\\_WS_Developpement\\Equipe3_Scale_Game\\ichak_notebook\\pre_processing_exploratoire.ipynb Cellule 10\u001b[0m in \u001b[0;36m<cell line: 1>\u001b[1;34m()\u001b[0m\n\u001b[1;32m----> <a href='vscode-notebook-cell:/d%3A/_WS_Developpement/Equipe3_Scale_Game/ichak_notebook/pre_processing_exploratoire.ipynb#X45sZmlsZQ%3D%3D?line=0'>1</a>\u001b[0m dico\u001b[39m.\u001b[39mkeys \u001b[39m=\u001b[39m [\u001b[39m*\u001b[39mcompress(OUTPUT, MASK)]\n",
      "\u001b[1;31mAttributeError\u001b[0m: 'dict' object attribute 'keys' is read-only"
     ]
    }
   ],
   "source": [
    "dico.keys = [*compress(OUTPUT, MASK)]"
   ]
  },
  {
   "cell_type": "code",
   "execution_count": null,
   "metadata": {},
   "outputs": [],
   "source": []
  },
  {
   "cell_type": "code",
   "execution_count": 14,
   "metadata": {},
   "outputs": [
    {
     "data": {
      "text/plain": [
       "(67059, 242)"
      ]
     },
     "execution_count": 14,
     "metadata": {},
     "output_type": "execute_result"
    }
   ],
   "source": [
    "df_test.shape"
   ]
  },
  {
   "cell_type": "code",
   "execution_count": 11,
   "metadata": {},
   "outputs": [],
   "source": [
    "list=[]"
   ]
  },
  {
   "cell_type": "markdown",
   "metadata": {},
   "source": []
  },
  {
   "cell_type": "code",
   "execution_count": 12,
   "metadata": {},
   "outputs": [],
   "source": [
    "list = df_test[\"game_name\"]"
   ]
  },
  {
   "cell_type": "code",
   "execution_count": 13,
   "metadata": {},
   "outputs": [
    {
     "data": {
      "text/plain": [
       "0              Fallout 4\n",
       "1              Fallout 4\n",
       "2              Fallout 4\n",
       "3              Fallout 4\n",
       "4              Fallout 4\n",
       "              ...       \n",
       "67054    LEGO The Hobbit\n",
       "67055    LEGO The Hobbit\n",
       "67056    LEGO The Hobbit\n",
       "67057    LEGO The Hobbit\n",
       "67058    LEGO The Hobbit\n",
       "Name: game_name, Length: 67059, dtype: object"
      ]
     },
     "execution_count": 13,
     "metadata": {},
     "output_type": "execute_result"
    }
   ],
   "source": [
    "list"
   ]
  },
  {
   "cell_type": "code",
   "execution_count": 16,
   "metadata": {},
   "outputs": [],
   "source": [
    "list = [*set(list)]"
   ]
  },
  {
   "cell_type": "code",
   "execution_count": 17,
   "metadata": {},
   "outputs": [
    {
     "data": {
      "text/plain": [
       "['F1 2011',\n",
       " 'War for the Overworld',\n",
       " 'Republique',\n",
       " 'Rocket League',\n",
       " 'Sengoku',\n",
       " 'Football Manager 2016',\n",
       " 'NBA 2K10',\n",
       " 'Assetto Corsa',\n",
       " 'Sniper Elite',\n",
       " 'MX vs. ATV Reflex',\n",
       " 'APB Reloaded',\n",
       " \"Assassin's Creed III\",\n",
       " 'Far Cry 2',\n",
       " 'Tomb Raider',\n",
       " 'The Whispered World',\n",
       " 'Cities in Motion',\n",
       " 'Borderlands',\n",
       " 'Prince of Persia',\n",
       " \"Assassin's Creed II\",\n",
       " 'LEGO The Hobbit',\n",
       " 'Ridge Racer Unbounded',\n",
       " 'DarkStar One',\n",
       " 'Magicka',\n",
       " 'Binary Domain',\n",
       " 'Braid',\n",
       " 'Post Mortem',\n",
       " 'Titan Quest',\n",
       " 'Bejeweled 2 Deluxe',\n",
       " \"Tom Clancy's EndWar\",\n",
       " 'Company of Heroes 2',\n",
       " 'Oil Rush',\n",
       " 'DiRT',\n",
       " 'Imperial Glory',\n",
       " 'World in Conflict',\n",
       " 'Dead Space 2',\n",
       " 'Legendary',\n",
       " 'Cities XL 2011',\n",
       " 'LEGO Jurassic World',\n",
       " 'Blur',\n",
       " 'Euro Truck Simulator 2',\n",
       " 'Pro Evolution Soccer 2013',\n",
       " 'Devil May Cry 4',\n",
       " 'Sacred Gold',\n",
       " 'GTR Evolution',\n",
       " 'Dragon Age II',\n",
       " 'Fallout 3',\n",
       " 'Damnation',\n",
       " 'Lost Planet 3',\n",
       " 'Act of Aggression',\n",
       " 'F1 2013',\n",
       " 'Ultra Street Fighter IV',\n",
       " 'Spore Galactic Adventures',\n",
       " 'Spore',\n",
       " 'Pro Evolution Soccer 2015',\n",
       " 'Order of War',\n",
       " 'Child of Light',\n",
       " \"Sid Meier's Railroads!\",\n",
       " 'Trine',\n",
       " 'LEGO The Lord of the Rings',\n",
       " 'Off-Road Drive',\n",
       " 'The Secret World',\n",
       " 'NBA 2K15',\n",
       " 'Elven Legacy',\n",
       " 'Contrast',\n",
       " 'Monopoly',\n",
       " 'BioShock',\n",
       " 'Dying Light',\n",
       " 'DiRT 3',\n",
       " 'Men of War',\n",
       " 'Shovel Knight',\n",
       " 'Might & Magic Heroes VI',\n",
       " 'Dishonored',\n",
       " 'Defiance',\n",
       " 'Velvet Assassin',\n",
       " 'The Talos Principle',\n",
       " 'Just Cause',\n",
       " 'Grand Theft Auto V',\n",
       " 'Impossible Creatures',\n",
       " 'RIFT',\n",
       " 'BioShock Infinite',\n",
       " 'Major League Baseball 2K9',\n",
       " \"Assassin's Creed Syndicate\",\n",
       " 'Mass Effect 2',\n",
       " 'The Book of Unwritten Tales 2',\n",
       " 'Dark Sector',\n",
       " 'The Next BIG Thing',\n",
       " '4 Elements',\n",
       " 'GRID Autosport',\n",
       " 'Stronghold Legends',\n",
       " 'This War of Mine',\n",
       " 'Saints Row 2',\n",
       " 'R.U.S.E.',\n",
       " 'Hospital Tycoon',\n",
       " 'Prison Architect',\n",
       " 'Tomb Raider Chronicles',\n",
       " 'The Longest Journey',\n",
       " 'RACE On',\n",
       " 'Sacred 3',\n",
       " 'Dark Void',\n",
       " 'Worms Reloaded',\n",
       " 'The Darkness II',\n",
       " 'Battlefield 2',\n",
       " 'TimeShift',\n",
       " \"Tom Clancy's Ghost Recon Advanced Warfighter 2\",\n",
       " 'Max Payne 3',\n",
       " 'Deadpool',\n",
       " 'Metro 2033',\n",
       " 'World of Zoo',\n",
       " 'Botanicula',\n",
       " 'Dawn of Discovery',\n",
       " 'Dead Rising 2',\n",
       " 'Worldwide Soccer Manager 2009',\n",
       " 'Rogue Warrior',\n",
       " 'Worms',\n",
       " 'F.E.A.R.',\n",
       " 'Football Manager 2011',\n",
       " 'RollerCoaster Tycoon',\n",
       " 'The Inner World',\n",
       " 'Mass Effect',\n",
       " 'Mafia',\n",
       " 'F1 2012',\n",
       " 'Zombie Army Trilogy',\n",
       " 'Knights of Honor',\n",
       " 'DiRT Showdown',\n",
       " 'Terraria',\n",
       " \"NASCAR '14\",\n",
       " 'The Last Remnant',\n",
       " '15 Days',\n",
       " 'F.E.A.R. Perseus Mandate',\n",
       " 'The 7th Guest',\n",
       " 'Descent',\n",
       " 'Torchlight',\n",
       " 'Emergency 2012',\n",
       " 'Grand Theft Auto 2',\n",
       " 'NBA 2K11',\n",
       " 'DiRT Rally',\n",
       " 'Split/Second',\n",
       " 'The Book of Unwritten Tales',\n",
       " 'Euro Truck Simulator',\n",
       " 'Ghost Pirates of Vooju Island',\n",
       " 'Guild Wars Trilogy',\n",
       " 'Call of Duty 2',\n",
       " 'The Binding of Isaac',\n",
       " 'Far Cry',\n",
       " 'Half-Life',\n",
       " 'Sonic Generations',\n",
       " 'NBA 2K12',\n",
       " 'Singularity',\n",
       " 'Don Bradman Cricket 14',\n",
       " 'Enemy Front',\n",
       " 'Left 4 Dead',\n",
       " 'F.E.A.R. 3',\n",
       " 'The Testament of Sherlock Holmes',\n",
       " 'Football Manager 2010',\n",
       " 'Two Worlds II',\n",
       " 'Lost Planet 2',\n",
       " 'Stronghold Kingdoms',\n",
       " 'NBA 2K13',\n",
       " 'The Golf Club',\n",
       " 'Cities XL 2012',\n",
       " 'Guild Wars',\n",
       " 'Peggle Nights',\n",
       " 'Shadow Man',\n",
       " 'Pro Evolution Soccer 2016',\n",
       " 'Championship Manager 2010',\n",
       " 'Alpha Protocol',\n",
       " 'Risen',\n",
       " 'Supreme Commander',\n",
       " 'Goodbye Deponia',\n",
       " 'Prey',\n",
       " 'The Movies',\n",
       " 'Terminator Salvation',\n",
       " 'Bound By Flame',\n",
       " 'Football Manager 2015',\n",
       " 'Football Manager 2012',\n",
       " 'Alter Ego',\n",
       " 'Anno 2205',\n",
       " 'Borderlands 2',\n",
       " 'NBA 2K14',\n",
       " 'Darksiders II',\n",
       " \"Tom Clancy's Ghost Recon Advanced Warfighter\",\n",
       " 'The Club',\n",
       " 'Ship Simulator Extremes',\n",
       " 'Front Mission Evolved',\n",
       " 'The Evil Within',\n",
       " 'Anno 2070',\n",
       " 'Overlord II',\n",
       " 'Age of Empires Online',\n",
       " 'Alan Wake',\n",
       " 'Airline Tycoon 2',\n",
       " 'Far Cry 3',\n",
       " 'Remember Me',\n",
       " 'Max Payne',\n",
       " 'Ski Region Simulator',\n",
       " 'Darkstone',\n",
       " 'Company of Heroes',\n",
       " 'Quake 4',\n",
       " 'Breach',\n",
       " 'Port Royale 2',\n",
       " 'Railroad Tycoon 3',\n",
       " 'A Vampyre Story',\n",
       " 'Virtua Tennis 4',\n",
       " 'Mafia II',\n",
       " 'Unreal Tournament 2004',\n",
       " 'Still Life 2',\n",
       " 'Fable III',\n",
       " 'Grand Theft Auto IV',\n",
       " 'Evil Genius',\n",
       " 'Portal 2',\n",
       " 'Supreme Commander 2',\n",
       " 'Colin McRae Rally',\n",
       " 'The Wolf Among Us',\n",
       " 'NBA 2K16',\n",
       " 'Mega Man Legacy Collection',\n",
       " 'Dungeon Defenders',\n",
       " 'GRID',\n",
       " 'The Cursed Crusade',\n",
       " 'Alone in the Dark',\n",
       " 'Rocksmith',\n",
       " 'Bionic Commando',\n",
       " 'Overlord',\n",
       " 'MDK',\n",
       " 'Farming Simulator 2013',\n",
       " 'F1 2015',\n",
       " 'Majesty 2 Collection',\n",
       " 'Port Royale 3',\n",
       " 'Evolve',\n",
       " 'Just Cause 3',\n",
       " 'Stormrise',\n",
       " '7 Days to Die',\n",
       " 'DC Universe Online',\n",
       " 'Venetica',\n",
       " 'The Night of the Rabbit',\n",
       " 'Bulletstorm',\n",
       " 'Homeworld Remastered Collection',\n",
       " 'Crysis 2',\n",
       " 'Mechanic Escape',\n",
       " 'Rayman Legends',\n",
       " 'Lara Croft and the Temple of Osiris',\n",
       " 'Quake II',\n",
       " 'Just Cause 2',\n",
       " 'Rocksmith 2014',\n",
       " 'Test Drive Unlimited 2',\n",
       " 'Deponia',\n",
       " 'Rayman Origins',\n",
       " \"Clive Barker's Jericho\",\n",
       " 'Jack Keane',\n",
       " 'L.A. Noire',\n",
       " 'Syberia',\n",
       " 'The First Templar',\n",
       " 'World of Goo',\n",
       " 'Worms Armageddon',\n",
       " 'WWE 2K15',\n",
       " 'Valkyria Chronicles',\n",
       " 'Street Fighter IV',\n",
       " 'Urban Chaos',\n",
       " 'Far Cry 4',\n",
       " 'Darksiders',\n",
       " \"Sid Meier's Civilization IV\",\n",
       " 'Sniper Elite V2',\n",
       " 'X Rebirth',\n",
       " 'Mount & Blade',\n",
       " 'Football Manager 2013',\n",
       " 'EVE Online',\n",
       " 'Take On Helicopters',\n",
       " 'MLB Front Office Manager',\n",
       " 'Captain Morgane and the Golden Turtle',\n",
       " 'Saints Row IV',\n",
       " \"Sid Meier's Civilization V\",\n",
       " 'Tropico 5',\n",
       " \"Mirror's Edge\",\n",
       " 'Bejeweled Twist',\n",
       " 'Demigod',\n",
       " 'GRID 2',\n",
       " 'Lost Horizon',\n",
       " 'Trials Fusion',\n",
       " 'Wildlife Park 3',\n",
       " 'Tales of Zestiria',\n",
       " 'F1 Race Stars',\n",
       " 'GT Legends',\n",
       " 'Sleeping Dogs',\n",
       " 'Dead Space',\n",
       " 'F1 2010',\n",
       " 'Stronghold 3',\n",
       " 'East India Company',\n",
       " 'Football Manager 2014',\n",
       " 'Clockwork Empires',\n",
       " 'Gothic 3',\n",
       " 'DiRT 2',\n",
       " 'Silent Hunter III',\n",
       " 'Blitzkrieg 2 Anthology',\n",
       " 'Trapped Dead',\n",
       " 'Tropico 4',\n",
       " 'Machinarium',\n",
       " 'Trine 2',\n",
       " 'Duke Nukem Forever',\n",
       " 'Section 8',\n",
       " 'Pro Evolution Soccer 2014',\n",
       " 'Tomb Raider II',\n",
       " 'Grand Theft Auto III',\n",
       " 'Bejeweled 3',\n",
       " 'F1 2014',\n",
       " 'Homefront',\n",
       " 'Project CARS',\n",
       " 'Hotel Giant 2',\n",
       " 'Hearts of Iron III',\n",
       " 'Rugby League Team Manager 2015',\n",
       " 'Star Trek Online',\n",
       " 'Grand Theft Auto',\n",
       " 'Escape Dead Island',\n",
       " 'X-Blades',\n",
       " 'Mortal Kombat X',\n",
       " 'Pillars of Eternity',\n",
       " 'Praetorians',\n",
       " 'Street Fighter X Tekken',\n",
       " \"Assassin's Creed\",\n",
       " 'NBA 2K9',\n",
       " 'Gray Matter',\n",
       " 'Darkspore',\n",
       " 'Sniper Elite 3',\n",
       " 'BioShock 2',\n",
       " 'Wolfenstein',\n",
       " 'The Crew',\n",
       " 'Mini Ninjas',\n",
       " 'Half-Life 2',\n",
       " 'MX vs. ATV Supercross Encore',\n",
       " 'Dungeon Siege III',\n",
       " 'Crysis',\n",
       " 'Killer is Dead',\n",
       " 'Sonic & All-Stars Racing Transformed',\n",
       " 'Farming Simulator 2011',\n",
       " 'Indigo Prophecy',\n",
       " 'Wasteland 2',\n",
       " 'Fallout 4',\n",
       " 'The Void',\n",
       " 'Blades of Time',\n",
       " 'Call of Juarez',\n",
       " 'Left 4 Dead 2',\n",
       " 'Dead Island',\n",
       " 'TERA']"
      ]
     },
     "execution_count": 17,
     "metadata": {},
     "output_type": "execute_result"
    }
   ],
   "source": [
    "list"
   ]
  },
  {
   "cell_type": "code",
   "execution_count": null,
   "metadata": {},
   "outputs": [],
   "source": []
  },
  {
   "cell_type": "code",
   "execution_count": null,
   "metadata": {},
   "outputs": [],
   "source": [
    "story_time = []\n",
    "extra_time = []\n",
    "\n",
    "finish = df_full_dataset.shape[1]\n",
    "current = 1\n",
    "\n",
    "for game in df_full_dataset[\"Name\"]:\n",
    "    results = HowLongToBeat().search(game)\n",
    "\n",
    "    if results is not None and len(results) > 0:\n",
    "        best_element = max(results, key=lambda element: element.similarity)\n",
    "        story_time.append(best_element.main_story)\n",
    "        extra_time.append(best_element.main_extra)\n",
    "    else:\n",
    "        story_time.append(0)\n",
    "        extra_time.append(0)\n",
    "print(str(current) + str(finish))\n",
    "current += 1\n",
    "\n",
    "df_full_dataset[\"story_time\"] = story_time\n",
    "df_full_dataset[\"extra_time\"] = extra_time\n",
    "\n",
    "df_full_dataset"
   ]
  },
  {
   "cell_type": "code",
   "execution_count": null,
   "metadata": {},
   "outputs": [],
   "source": []
  },
  {
   "cell_type": "code",
   "execution_count": null,
   "metadata": {},
   "outputs": [],
   "source": []
  },
  {
   "cell_type": "code",
   "execution_count": 195,
   "metadata": {},
   "outputs": [],
   "source": [
    "df_steam_user = pd.read_csv(\"../DataSet/start_steam-200k.csv\")\n",
    "df_vg_sales = pd.read_csv(\"../DataSet/start_vgsales.csv\")\n",
    "sets_platform = pd.read_csv(\"./setting_ressource/platform_settings.csv\")"
   ]
  },
  {
   "cell_type": "code",
   "execution_count": 196,
   "metadata": {},
   "outputs": [
    {
     "name": "stdout",
     "output_type": "stream",
     "text": [
      "(200000, 5)\n",
      "(16598, 11)\n"
     ]
    }
   ],
   "source": [
    "# df_vg_sales = df_vg_sales[df_vg_sales[\"Platform\"]==\"PC\"]\n",
    "print(df_steam_user.shape)\n",
    "print(df_vg_sales.shape)"
   ]
  },
  {
   "cell_type": "code",
   "execution_count": 197,
   "metadata": {},
   "outputs": [
    {
     "name": "stdout",
     "output_type": "stream",
     "text": [
      "(85414, 16)\n"
     ]
    }
   ],
   "source": [
    "df_full_dataset = pd.merge(df_steam_user, df_vg_sales, left_on=\"game_name\",right_on=\"Name\")\n",
    "print(df_full_dataset.shape)"
   ]
  },
  {
   "cell_type": "code",
   "execution_count": 198,
   "metadata": {},
   "outputs": [
    {
     "data": {
      "text/plain": [
       "0        PS4\n",
       "1        PS4\n",
       "2        PS4\n",
       "3        PS4\n",
       "4        PS4\n",
       "        ... \n",
       "82248     DC\n",
       "82249     DC\n",
       "82250     DC\n",
       "82251     DC\n",
       "82252     DC\n",
       "Name: platform, Length: 82253, dtype: object"
      ]
     },
     "execution_count": 198,
     "metadata": {},
     "output_type": "execute_result"
    }
   ],
   "source": [
    "df_full_dataset = pd.merge(df_full_dataset, sets_platform, left_on=\"Platform\", right_on=\"platform\", how=\"inner\")\n",
    "df_full_dataset.pop(\"platform\")"
   ]
  },
  {
   "cell_type": "code",
   "execution_count": 199,
   "metadata": {},
   "outputs": [],
   "source": [
    "YEAR_MIN = df_full_dataset[\"Year\"].min()\n",
    "YEAR_MAX = df_full_dataset[\"Year\"].max()\n",
    "PERIODE = YEAR_MAX-YEAR_MIN\n",
    "\n",
    "gen_rate = []\n",
    "\n",
    "for year in df_full_dataset[\"Year\"]:\n",
    "    if year - PERIODE <= 0 :\n",
    "        gen_rate.append(0)\n",
    "    if year - PERIODE > YEAR_MAX :\n",
    "        gen_rate.append(1)\n",
    "    else:\n",
    "        gen_rate.append((year-YEAR_MIN)/PERIODE)\n",
    "\n",
    "df_full_dataset[\"gen_rate\"] = gen_rate"
   ]
  },
  {
   "cell_type": "code",
   "execution_count": 201,
   "metadata": {},
   "outputs": [
    {
     "data": {
      "text/plain": [
       "count    80853.000000\n",
       "mean         0.819222\n",
       "std          0.123055\n",
       "min          0.000000\n",
       "25%          0.774194\n",
       "50%          0.838710\n",
       "75%          0.903226\n",
       "max          1.000000\n",
       "Name: gen_rate, dtype: float64"
      ]
     },
     "execution_count": 201,
     "metadata": {},
     "output_type": "execute_result"
    }
   ],
   "source": [
    "df_full_dataset[\"gen_rate\"].describe()"
   ]
  },
  {
   "cell_type": "code",
   "execution_count": 235,
   "metadata": {},
   "outputs": [
    {
     "ename": "KeyboardInterrupt",
     "evalue": "",
     "output_type": "error",
     "traceback": [
      "\u001b[1;31m---------------------------------------------------------------------------\u001b[0m",
      "\u001b[1;31mKeyboardInterrupt\u001b[0m                         Traceback (most recent call last)",
      "Cell \u001b[1;32mIn [235], line 8\u001b[0m\n\u001b[0;32m      5\u001b[0m current \u001b[39m=\u001b[39m \u001b[39m1\u001b[39m\n\u001b[0;32m      7\u001b[0m \u001b[39mfor\u001b[39;00m game \u001b[39min\u001b[39;00m df_full_dataset[\u001b[39m\"\u001b[39m\u001b[39mName\u001b[39m\u001b[39m\"\u001b[39m]:\n\u001b[1;32m----> 8\u001b[0m     results \u001b[39m=\u001b[39m HowLongToBeat()\u001b[39m.\u001b[39;49msearch(game)\n\u001b[0;32m     10\u001b[0m     \u001b[39mif\u001b[39;00m results \u001b[39mis\u001b[39;00m \u001b[39mnot\u001b[39;00m \u001b[39mNone\u001b[39;00m \u001b[39mand\u001b[39;00m \u001b[39mlen\u001b[39m(results) \u001b[39m>\u001b[39m \u001b[39m0\u001b[39m:\n\u001b[0;32m     11\u001b[0m         best_element \u001b[39m=\u001b[39m \u001b[39mmax\u001b[39m(results, key\u001b[39m=\u001b[39m\u001b[39mlambda\u001b[39;00m element: element\u001b[39m.\u001b[39msimilarity)\n",
      "File \u001b[1;32mc:\\Users\\ichak\\.conda\\envs\\ML_2022\\lib\\site-packages\\howlongtobeatpy\\HowLongToBeat.py:58\u001b[0m, in \u001b[0;36mHowLongToBeat.search\u001b[1;34m(self, game_name, search_modifiers, similarity_case_sensitive)\u001b[0m\n\u001b[0;32m     56\u001b[0m \u001b[39mif\u001b[39;00m game_name \u001b[39mis\u001b[39;00m \u001b[39mNone\u001b[39;00m \u001b[39mor\u001b[39;00m \u001b[39mlen\u001b[39m(game_name) \u001b[39m==\u001b[39m \u001b[39m0\u001b[39m:\n\u001b[0;32m     57\u001b[0m     \u001b[39mreturn\u001b[39;00m \u001b[39mNone\u001b[39;00m\n\u001b[1;32m---> 58\u001b[0m html_result \u001b[39m=\u001b[39m HTMLRequests\u001b[39m.\u001b[39;49msend_web_request(game_name, search_modifiers)\n\u001b[0;32m     59\u001b[0m \u001b[39mif\u001b[39;00m html_result \u001b[39mis\u001b[39;00m \u001b[39mnot\u001b[39;00m \u001b[39mNone\u001b[39;00m:\n\u001b[0;32m     60\u001b[0m     \u001b[39mreturn\u001b[39;00m \u001b[39mself\u001b[39m\u001b[39m.\u001b[39m__parse_web_result(game_name, html_result, \u001b[39mNone\u001b[39;00m, similarity_case_sensitive)\n",
      "File \u001b[1;32mc:\\Users\\ichak\\.conda\\envs\\ML_2022\\lib\\site-packages\\howlongtobeatpy\\HTMLRequests.py:98\u001b[0m, in \u001b[0;36mHTMLRequests.send_web_request\u001b[1;34m(game_name, search_modifiers, page)\u001b[0m\n\u001b[0;32m     96\u001b[0m payload \u001b[39m=\u001b[39m HTMLRequests\u001b[39m.\u001b[39mget_search_request_data(game_name, search_modifiers, page)\n\u001b[0;32m     97\u001b[0m \u001b[39m# Make the post request and return the result if is valid\u001b[39;00m\n\u001b[1;32m---> 98\u001b[0m resp \u001b[39m=\u001b[39m requests\u001b[39m.\u001b[39;49mpost(HTMLRequests\u001b[39m.\u001b[39;49mSEARCH_URL, headers\u001b[39m=\u001b[39;49mheaders, data\u001b[39m=\u001b[39;49mpayload)\n\u001b[0;32m     99\u001b[0m \u001b[39mif\u001b[39;00m resp\u001b[39m.\u001b[39mstatus_code \u001b[39m==\u001b[39m \u001b[39m200\u001b[39m:\n\u001b[0;32m    100\u001b[0m     \u001b[39mreturn\u001b[39;00m resp\u001b[39m.\u001b[39mtext\n",
      "File \u001b[1;32mc:\\Users\\ichak\\.conda\\envs\\ML_2022\\lib\\site-packages\\requests\\api.py:115\u001b[0m, in \u001b[0;36mpost\u001b[1;34m(url, data, json, **kwargs)\u001b[0m\n\u001b[0;32m    103\u001b[0m \u001b[39mdef\u001b[39;00m \u001b[39mpost\u001b[39m(url, data\u001b[39m=\u001b[39m\u001b[39mNone\u001b[39;00m, json\u001b[39m=\u001b[39m\u001b[39mNone\u001b[39;00m, \u001b[39m*\u001b[39m\u001b[39m*\u001b[39mkwargs):\n\u001b[0;32m    104\u001b[0m     \u001b[39mr\u001b[39m\u001b[39m\"\"\"Sends a POST request.\u001b[39;00m\n\u001b[0;32m    105\u001b[0m \n\u001b[0;32m    106\u001b[0m \u001b[39m    :param url: URL for the new :class:`Request` object.\u001b[39;00m\n\u001b[1;32m   (...)\u001b[0m\n\u001b[0;32m    112\u001b[0m \u001b[39m    :rtype: requests.Response\u001b[39;00m\n\u001b[0;32m    113\u001b[0m \u001b[39m    \"\"\"\u001b[39;00m\n\u001b[1;32m--> 115\u001b[0m     \u001b[39mreturn\u001b[39;00m request(\u001b[39m\"\u001b[39m\u001b[39mpost\u001b[39m\u001b[39m\"\u001b[39m, url, data\u001b[39m=\u001b[39mdata, json\u001b[39m=\u001b[39mjson, \u001b[39m*\u001b[39m\u001b[39m*\u001b[39mkwargs)\n",
      "File \u001b[1;32mc:\\Users\\ichak\\.conda\\envs\\ML_2022\\lib\\site-packages\\requests\\api.py:59\u001b[0m, in \u001b[0;36mrequest\u001b[1;34m(method, url, **kwargs)\u001b[0m\n\u001b[0;32m     55\u001b[0m \u001b[39m# By using the 'with' statement we are sure the session is closed, thus we\u001b[39;00m\n\u001b[0;32m     56\u001b[0m \u001b[39m# avoid leaving sockets open which can trigger a ResourceWarning in some\u001b[39;00m\n\u001b[0;32m     57\u001b[0m \u001b[39m# cases, and look like a memory leak in others.\u001b[39;00m\n\u001b[0;32m     58\u001b[0m \u001b[39mwith\u001b[39;00m sessions\u001b[39m.\u001b[39mSession() \u001b[39mas\u001b[39;00m session:\n\u001b[1;32m---> 59\u001b[0m     \u001b[39mreturn\u001b[39;00m session\u001b[39m.\u001b[39mrequest(method\u001b[39m=\u001b[39mmethod, url\u001b[39m=\u001b[39murl, \u001b[39m*\u001b[39m\u001b[39m*\u001b[39mkwargs)\n",
      "File \u001b[1;32mc:\\Users\\ichak\\.conda\\envs\\ML_2022\\lib\\site-packages\\requests\\sessions.py:587\u001b[0m, in \u001b[0;36mSession.request\u001b[1;34m(self, method, url, params, data, headers, cookies, files, auth, timeout, allow_redirects, proxies, hooks, stream, verify, cert, json)\u001b[0m\n\u001b[0;32m    582\u001b[0m send_kwargs \u001b[39m=\u001b[39m {\n\u001b[0;32m    583\u001b[0m     \u001b[39m\"\u001b[39m\u001b[39mtimeout\u001b[39m\u001b[39m\"\u001b[39m: timeout,\n\u001b[0;32m    584\u001b[0m     \u001b[39m\"\u001b[39m\u001b[39mallow_redirects\u001b[39m\u001b[39m\"\u001b[39m: allow_redirects,\n\u001b[0;32m    585\u001b[0m }\n\u001b[0;32m    586\u001b[0m send_kwargs\u001b[39m.\u001b[39mupdate(settings)\n\u001b[1;32m--> 587\u001b[0m resp \u001b[39m=\u001b[39m \u001b[39mself\u001b[39m\u001b[39m.\u001b[39msend(prep, \u001b[39m*\u001b[39m\u001b[39m*\u001b[39msend_kwargs)\n\u001b[0;32m    589\u001b[0m \u001b[39mreturn\u001b[39;00m resp\n",
      "File \u001b[1;32mc:\\Users\\ichak\\.conda\\envs\\ML_2022\\lib\\site-packages\\requests\\sessions.py:701\u001b[0m, in \u001b[0;36mSession.send\u001b[1;34m(self, request, **kwargs)\u001b[0m\n\u001b[0;32m    698\u001b[0m start \u001b[39m=\u001b[39m preferred_clock()\n\u001b[0;32m    700\u001b[0m \u001b[39m# Send the request\u001b[39;00m\n\u001b[1;32m--> 701\u001b[0m r \u001b[39m=\u001b[39m adapter\u001b[39m.\u001b[39msend(request, \u001b[39m*\u001b[39m\u001b[39m*\u001b[39mkwargs)\n\u001b[0;32m    703\u001b[0m \u001b[39m# Total elapsed time of the request (approximately)\u001b[39;00m\n\u001b[0;32m    704\u001b[0m elapsed \u001b[39m=\u001b[39m preferred_clock() \u001b[39m-\u001b[39m start\n",
      "File \u001b[1;32mc:\\Users\\ichak\\.conda\\envs\\ML_2022\\lib\\site-packages\\requests\\adapters.py:489\u001b[0m, in \u001b[0;36mHTTPAdapter.send\u001b[1;34m(self, request, stream, timeout, verify, cert, proxies)\u001b[0m\n\u001b[0;32m    487\u001b[0m \u001b[39mtry\u001b[39;00m:\n\u001b[0;32m    488\u001b[0m     \u001b[39mif\u001b[39;00m \u001b[39mnot\u001b[39;00m chunked:\n\u001b[1;32m--> 489\u001b[0m         resp \u001b[39m=\u001b[39m conn\u001b[39m.\u001b[39;49murlopen(\n\u001b[0;32m    490\u001b[0m             method\u001b[39m=\u001b[39;49mrequest\u001b[39m.\u001b[39;49mmethod,\n\u001b[0;32m    491\u001b[0m             url\u001b[39m=\u001b[39;49murl,\n\u001b[0;32m    492\u001b[0m             body\u001b[39m=\u001b[39;49mrequest\u001b[39m.\u001b[39;49mbody,\n\u001b[0;32m    493\u001b[0m             headers\u001b[39m=\u001b[39;49mrequest\u001b[39m.\u001b[39;49mheaders,\n\u001b[0;32m    494\u001b[0m             redirect\u001b[39m=\u001b[39;49m\u001b[39mFalse\u001b[39;49;00m,\n\u001b[0;32m    495\u001b[0m             assert_same_host\u001b[39m=\u001b[39;49m\u001b[39mFalse\u001b[39;49;00m,\n\u001b[0;32m    496\u001b[0m             preload_content\u001b[39m=\u001b[39;49m\u001b[39mFalse\u001b[39;49;00m,\n\u001b[0;32m    497\u001b[0m             decode_content\u001b[39m=\u001b[39;49m\u001b[39mFalse\u001b[39;49;00m,\n\u001b[0;32m    498\u001b[0m             retries\u001b[39m=\u001b[39;49m\u001b[39mself\u001b[39;49m\u001b[39m.\u001b[39;49mmax_retries,\n\u001b[0;32m    499\u001b[0m             timeout\u001b[39m=\u001b[39;49mtimeout,\n\u001b[0;32m    500\u001b[0m         )\n\u001b[0;32m    502\u001b[0m     \u001b[39m# Send the request.\u001b[39;00m\n\u001b[0;32m    503\u001b[0m     \u001b[39melse\u001b[39;00m:\n\u001b[0;32m    504\u001b[0m         \u001b[39mif\u001b[39;00m \u001b[39mhasattr\u001b[39m(conn, \u001b[39m\"\u001b[39m\u001b[39mproxy_pool\u001b[39m\u001b[39m\"\u001b[39m):\n",
      "File \u001b[1;32mc:\\Users\\ichak\\.conda\\envs\\ML_2022\\lib\\site-packages\\urllib3\\connectionpool.py:703\u001b[0m, in \u001b[0;36mHTTPConnectionPool.urlopen\u001b[1;34m(self, method, url, body, headers, retries, redirect, assert_same_host, timeout, pool_timeout, release_conn, chunked, body_pos, **response_kw)\u001b[0m\n\u001b[0;32m    700\u001b[0m     \u001b[39mself\u001b[39m\u001b[39m.\u001b[39m_prepare_proxy(conn)\n\u001b[0;32m    702\u001b[0m \u001b[39m# Make the request on the httplib connection object.\u001b[39;00m\n\u001b[1;32m--> 703\u001b[0m httplib_response \u001b[39m=\u001b[39m \u001b[39mself\u001b[39;49m\u001b[39m.\u001b[39;49m_make_request(\n\u001b[0;32m    704\u001b[0m     conn,\n\u001b[0;32m    705\u001b[0m     method,\n\u001b[0;32m    706\u001b[0m     url,\n\u001b[0;32m    707\u001b[0m     timeout\u001b[39m=\u001b[39;49mtimeout_obj,\n\u001b[0;32m    708\u001b[0m     body\u001b[39m=\u001b[39;49mbody,\n\u001b[0;32m    709\u001b[0m     headers\u001b[39m=\u001b[39;49mheaders,\n\u001b[0;32m    710\u001b[0m     chunked\u001b[39m=\u001b[39;49mchunked,\n\u001b[0;32m    711\u001b[0m )\n\u001b[0;32m    713\u001b[0m \u001b[39m# If we're going to release the connection in ``finally:``, then\u001b[39;00m\n\u001b[0;32m    714\u001b[0m \u001b[39m# the response doesn't need to know about the connection. Otherwise\u001b[39;00m\n\u001b[0;32m    715\u001b[0m \u001b[39m# it will also try to release it and we'll have a double-release\u001b[39;00m\n\u001b[0;32m    716\u001b[0m \u001b[39m# mess.\u001b[39;00m\n\u001b[0;32m    717\u001b[0m response_conn \u001b[39m=\u001b[39m conn \u001b[39mif\u001b[39;00m \u001b[39mnot\u001b[39;00m release_conn \u001b[39melse\u001b[39;00m \u001b[39mNone\u001b[39;00m\n",
      "File \u001b[1;32mc:\\Users\\ichak\\.conda\\envs\\ML_2022\\lib\\site-packages\\urllib3\\connectionpool.py:449\u001b[0m, in \u001b[0;36mHTTPConnectionPool._make_request\u001b[1;34m(self, conn, method, url, timeout, chunked, **httplib_request_kw)\u001b[0m\n\u001b[0;32m    444\u001b[0m             httplib_response \u001b[39m=\u001b[39m conn\u001b[39m.\u001b[39mgetresponse()\n\u001b[0;32m    445\u001b[0m         \u001b[39mexcept\u001b[39;00m \u001b[39mBaseException\u001b[39;00m \u001b[39mas\u001b[39;00m e:\n\u001b[0;32m    446\u001b[0m             \u001b[39m# Remove the TypeError from the exception chain in\u001b[39;00m\n\u001b[0;32m    447\u001b[0m             \u001b[39m# Python 3 (including for exceptions like SystemExit).\u001b[39;00m\n\u001b[0;32m    448\u001b[0m             \u001b[39m# Otherwise it looks like a bug in the code.\u001b[39;00m\n\u001b[1;32m--> 449\u001b[0m             six\u001b[39m.\u001b[39;49mraise_from(e, \u001b[39mNone\u001b[39;49;00m)\n\u001b[0;32m    450\u001b[0m \u001b[39mexcept\u001b[39;00m (SocketTimeout, BaseSSLError, SocketError) \u001b[39mas\u001b[39;00m e:\n\u001b[0;32m    451\u001b[0m     \u001b[39mself\u001b[39m\u001b[39m.\u001b[39m_raise_timeout(err\u001b[39m=\u001b[39me, url\u001b[39m=\u001b[39murl, timeout_value\u001b[39m=\u001b[39mread_timeout)\n",
      "File \u001b[1;32m<string>:3\u001b[0m, in \u001b[0;36mraise_from\u001b[1;34m(value, from_value)\u001b[0m\n",
      "File \u001b[1;32mc:\\Users\\ichak\\.conda\\envs\\ML_2022\\lib\\site-packages\\urllib3\\connectionpool.py:444\u001b[0m, in \u001b[0;36mHTTPConnectionPool._make_request\u001b[1;34m(self, conn, method, url, timeout, chunked, **httplib_request_kw)\u001b[0m\n\u001b[0;32m    441\u001b[0m \u001b[39mexcept\u001b[39;00m \u001b[39mTypeError\u001b[39;00m:\n\u001b[0;32m    442\u001b[0m     \u001b[39m# Python 3\u001b[39;00m\n\u001b[0;32m    443\u001b[0m     \u001b[39mtry\u001b[39;00m:\n\u001b[1;32m--> 444\u001b[0m         httplib_response \u001b[39m=\u001b[39m conn\u001b[39m.\u001b[39;49mgetresponse()\n\u001b[0;32m    445\u001b[0m     \u001b[39mexcept\u001b[39;00m \u001b[39mBaseException\u001b[39;00m \u001b[39mas\u001b[39;00m e:\n\u001b[0;32m    446\u001b[0m         \u001b[39m# Remove the TypeError from the exception chain in\u001b[39;00m\n\u001b[0;32m    447\u001b[0m         \u001b[39m# Python 3 (including for exceptions like SystemExit).\u001b[39;00m\n\u001b[0;32m    448\u001b[0m         \u001b[39m# Otherwise it looks like a bug in the code.\u001b[39;00m\n\u001b[0;32m    449\u001b[0m         six\u001b[39m.\u001b[39mraise_from(e, \u001b[39mNone\u001b[39;00m)\n",
      "File \u001b[1;32mc:\\Users\\ichak\\.conda\\envs\\ML_2022\\lib\\http\\client.py:1374\u001b[0m, in \u001b[0;36mHTTPConnection.getresponse\u001b[1;34m(self)\u001b[0m\n\u001b[0;32m   1372\u001b[0m \u001b[39mtry\u001b[39;00m:\n\u001b[0;32m   1373\u001b[0m     \u001b[39mtry\u001b[39;00m:\n\u001b[1;32m-> 1374\u001b[0m         response\u001b[39m.\u001b[39;49mbegin()\n\u001b[0;32m   1375\u001b[0m     \u001b[39mexcept\u001b[39;00m \u001b[39mConnectionError\u001b[39;00m:\n\u001b[0;32m   1376\u001b[0m         \u001b[39mself\u001b[39m\u001b[39m.\u001b[39mclose()\n",
      "File \u001b[1;32mc:\\Users\\ichak\\.conda\\envs\\ML_2022\\lib\\http\\client.py:318\u001b[0m, in \u001b[0;36mHTTPResponse.begin\u001b[1;34m(self)\u001b[0m\n\u001b[0;32m    316\u001b[0m \u001b[39m# read until we get a non-100 response\u001b[39;00m\n\u001b[0;32m    317\u001b[0m \u001b[39mwhile\u001b[39;00m \u001b[39mTrue\u001b[39;00m:\n\u001b[1;32m--> 318\u001b[0m     version, status, reason \u001b[39m=\u001b[39m \u001b[39mself\u001b[39;49m\u001b[39m.\u001b[39;49m_read_status()\n\u001b[0;32m    319\u001b[0m     \u001b[39mif\u001b[39;00m status \u001b[39m!=\u001b[39m CONTINUE:\n\u001b[0;32m    320\u001b[0m         \u001b[39mbreak\u001b[39;00m\n",
      "File \u001b[1;32mc:\\Users\\ichak\\.conda\\envs\\ML_2022\\lib\\http\\client.py:279\u001b[0m, in \u001b[0;36mHTTPResponse._read_status\u001b[1;34m(self)\u001b[0m\n\u001b[0;32m    278\u001b[0m \u001b[39mdef\u001b[39;00m \u001b[39m_read_status\u001b[39m(\u001b[39mself\u001b[39m):\n\u001b[1;32m--> 279\u001b[0m     line \u001b[39m=\u001b[39m \u001b[39mstr\u001b[39m(\u001b[39mself\u001b[39;49m\u001b[39m.\u001b[39;49mfp\u001b[39m.\u001b[39;49mreadline(_MAXLINE \u001b[39m+\u001b[39;49m \u001b[39m1\u001b[39;49m), \u001b[39m\"\u001b[39m\u001b[39miso-8859-1\u001b[39m\u001b[39m\"\u001b[39m)\n\u001b[0;32m    280\u001b[0m     \u001b[39mif\u001b[39;00m \u001b[39mlen\u001b[39m(line) \u001b[39m>\u001b[39m _MAXLINE:\n\u001b[0;32m    281\u001b[0m         \u001b[39mraise\u001b[39;00m LineTooLong(\u001b[39m\"\u001b[39m\u001b[39mstatus line\u001b[39m\u001b[39m\"\u001b[39m)\n",
      "File \u001b[1;32mc:\\Users\\ichak\\.conda\\envs\\ML_2022\\lib\\socket.py:705\u001b[0m, in \u001b[0;36mSocketIO.readinto\u001b[1;34m(self, b)\u001b[0m\n\u001b[0;32m    703\u001b[0m \u001b[39mwhile\u001b[39;00m \u001b[39mTrue\u001b[39;00m:\n\u001b[0;32m    704\u001b[0m     \u001b[39mtry\u001b[39;00m:\n\u001b[1;32m--> 705\u001b[0m         \u001b[39mreturn\u001b[39;00m \u001b[39mself\u001b[39;49m\u001b[39m.\u001b[39;49m_sock\u001b[39m.\u001b[39;49mrecv_into(b)\n\u001b[0;32m    706\u001b[0m     \u001b[39mexcept\u001b[39;00m timeout:\n\u001b[0;32m    707\u001b[0m         \u001b[39mself\u001b[39m\u001b[39m.\u001b[39m_timeout_occurred \u001b[39m=\u001b[39m \u001b[39mTrue\u001b[39;00m\n",
      "File \u001b[1;32mc:\\Users\\ichak\\.conda\\envs\\ML_2022\\lib\\ssl.py:1274\u001b[0m, in \u001b[0;36mSSLSocket.recv_into\u001b[1;34m(self, buffer, nbytes, flags)\u001b[0m\n\u001b[0;32m   1270\u001b[0m     \u001b[39mif\u001b[39;00m flags \u001b[39m!=\u001b[39m \u001b[39m0\u001b[39m:\n\u001b[0;32m   1271\u001b[0m         \u001b[39mraise\u001b[39;00m \u001b[39mValueError\u001b[39;00m(\n\u001b[0;32m   1272\u001b[0m           \u001b[39m\"\u001b[39m\u001b[39mnon-zero flags not allowed in calls to recv_into() on \u001b[39m\u001b[39m%s\u001b[39;00m\u001b[39m\"\u001b[39m \u001b[39m%\u001b[39m\n\u001b[0;32m   1273\u001b[0m           \u001b[39mself\u001b[39m\u001b[39m.\u001b[39m\u001b[39m__class__\u001b[39m)\n\u001b[1;32m-> 1274\u001b[0m     \u001b[39mreturn\u001b[39;00m \u001b[39mself\u001b[39;49m\u001b[39m.\u001b[39;49mread(nbytes, buffer)\n\u001b[0;32m   1275\u001b[0m \u001b[39melse\u001b[39;00m:\n\u001b[0;32m   1276\u001b[0m     \u001b[39mreturn\u001b[39;00m \u001b[39msuper\u001b[39m()\u001b[39m.\u001b[39mrecv_into(buffer, nbytes, flags)\n",
      "File \u001b[1;32mc:\\Users\\ichak\\.conda\\envs\\ML_2022\\lib\\ssl.py:1130\u001b[0m, in \u001b[0;36mSSLSocket.read\u001b[1;34m(self, len, buffer)\u001b[0m\n\u001b[0;32m   1128\u001b[0m \u001b[39mtry\u001b[39;00m:\n\u001b[0;32m   1129\u001b[0m     \u001b[39mif\u001b[39;00m buffer \u001b[39mis\u001b[39;00m \u001b[39mnot\u001b[39;00m \u001b[39mNone\u001b[39;00m:\n\u001b[1;32m-> 1130\u001b[0m         \u001b[39mreturn\u001b[39;00m \u001b[39mself\u001b[39;49m\u001b[39m.\u001b[39;49m_sslobj\u001b[39m.\u001b[39;49mread(\u001b[39mlen\u001b[39;49m, buffer)\n\u001b[0;32m   1131\u001b[0m     \u001b[39melse\u001b[39;00m:\n\u001b[0;32m   1132\u001b[0m         \u001b[39mreturn\u001b[39;00m \u001b[39mself\u001b[39m\u001b[39m.\u001b[39m_sslobj\u001b[39m.\u001b[39mread(\u001b[39mlen\u001b[39m)\n",
      "\u001b[1;31mKeyboardInterrupt\u001b[0m: "
     ]
    }
   ],
   "source": [
    "story_time = []\n",
    "extra_time = []\n",
    "\n",
    "finish = df_full_dataset.shape[1]\n",
    "current = 1\n",
    "\n",
    "for game in df_full_dataset[\"Name\"]:\n",
    "    results = HowLongToBeat().search(game)\n",
    "\n",
    "    if results is not None and len(results) > 0:\n",
    "        best_element = max(results, key=lambda element: element.similarity)\n",
    "        story_time.append(best_element.main_story)\n",
    "        extra_time.append(best_element.main_extra)\n",
    "    else:\n",
    "        story_time.append(0)\n",
    "        extra_time.append(0)\n",
    "print(str(current) + str(finish))\n",
    "current += 1\n",
    "\n",
    "df_full_dataset[\"story_time\"] = story_time\n",
    "df_full_dataset[\"extra_time\"] = extra_time\n",
    "\n",
    "df_full_dataset"
   ]
  },
  {
   "cell_type": "code",
   "execution_count": 240,
   "metadata": {},
   "outputs": [
    {
     "data": {
      "text/plain": [
       "ShooterTake-Two Interactive        9148\n",
       "Action505 Games                    5736\n",
       "ActionTake-Two Interactive         5121\n",
       "ShooterElectronic Arts             4361\n",
       "ShooterValve Software              3746\n",
       "                                   ... \n",
       "PuzzleD3Publisher                     2\n",
       "Racing1C Company                      1\n",
       "FightingUbisoft                       1\n",
       "AdventureZoo Digital Publishing       1\n",
       "AdventureCrimson Cow                  1\n",
       "Name: genre-pub, Length: 221, dtype: int64"
      ]
     },
     "execution_count": 240,
     "metadata": {},
     "output_type": "execute_result"
    }
   ],
   "source": [
    "from sklearn.decomposition import PCA\n",
    "\n",
    "df_full_dataset[\"genre-pub\"] = df_full_dataset[\"Genre\"] + df_full_dataset[\"Publisher\"]\n",
    "df_full_dataset[\"\",\"genre-pub\"]"
   ]
  },
  {
   "cell_type": "code",
   "execution_count": null,
   "metadata": {},
   "outputs": [],
   "source": []
  },
  {
   "cell_type": "code",
   "execution_count": 242,
   "metadata": {},
   "outputs": [
    {
     "data": {
      "text/plain": [
       "Int64Index([    0,     1,     2,     3,     4,     5,     6,     7,     8,\n",
       "                9,\n",
       "            ...\n",
       "            82243, 82244, 82245, 82246, 82247, 82248, 82249, 82250, 82251,\n",
       "            82252],\n",
       "           dtype='int64', length=82253)"
      ]
     },
     "execution_count": 242,
     "metadata": {},
     "output_type": "execute_result"
    }
   ],
   "source": [
    "pd.DataFrame(df_full)"
   ]
  },
  {
   "cell_type": "code",
   "execution_count": 5,
   "metadata": {},
   "outputs": [],
   "source": [
    "import pandas as pd\n",
    "from itertools import compress\n",
    "import json\n",
    "from howlongtobeatpy import HowLongToBeat, HowLongToBeatEntry"
   ]
  },
  {
   "cell_type": "code",
   "execution_count": null,
   "metadata": {},
   "outputs": [],
   "source": []
  },
  {
   "cell_type": "code",
   "execution_count": 6,
   "metadata": {},
   "outputs": [],
   "source": [
    "OUTPUT = [\"01_game_name\", \"02_hltb_id\", \"03_time_main\", \"04_time_plus\", \"05_time_100\", \"06_time_allstyle\", \"07_count_main\", \"08_count_plus\", \"09_count_100\", \"10_count_allstyle\", \"11_review_score\", \"12_count_review\"]\n",
    "TIME_MAIN = 2\n",
    "TIME_PLUS = 3\n",
    "TIME_100 = 4\n",
    "TIME_ALLSTYLE = 5\n",
    "COUNT_MAIN = 6\n",
    "COUNT_PLUS = 7\n",
    "COUNT_100 = 8\n",
    "COUNT_ALLSTYLE = 1\n",
    "REVIEW_SCORE = 10\n",
    "COUNT_REVIEW = 11\n",
    "mask = [True, True, True, True, True, True, True, True, True, True, True, True]\n",
    "\n",
    "output_columns = [*set(compress(OUTPUT, mask))]"
   ]
  },
  {
   "cell_type": "code",
   "execution_count": 7,
   "metadata": {},
   "outputs": [],
   "source": [
    "output_columns.sort()"
   ]
  },
  {
   "cell_type": "code",
   "execution_count": 8,
   "metadata": {},
   "outputs": [
    {
     "data": {
      "text/plain": [
       "['01_game_name',\n",
       " '02_hltb_id',\n",
       " '03_time_main',\n",
       " '04_time_plus',\n",
       " '05_time_100',\n",
       " '06_time_allstyle',\n",
       " '07_count_main',\n",
       " '08_count_plus',\n",
       " '09_count_100',\n",
       " '10_count_allstyle',\n",
       " '11_review_score',\n",
       " '12_count_review']"
      ]
     },
     "execution_count": 8,
     "metadata": {},
     "output_type": "execute_result"
    }
   ],
   "source": [
    "output_columns"
   ]
  },
  {
   "cell_type": "code",
   "execution_count": 9,
   "metadata": {},
   "outputs": [],
   "source": [
    "output = pd.DataFrame(columns=output_columns)"
   ]
  },
  {
   "cell_type": "code",
   "execution_count": 10,
   "metadata": {},
   "outputs": [],
   "source": [
    "line =[1,1,1,1,1,1,1,1,1,1,1,1]"
   ]
  },
  {
   "cell_type": "code",
   "execution_count": 11,
   "metadata": {},
   "outputs": [],
   "source": [
    "mydict_line = {}\n",
    "mydict_line = dict(zip(output_columns,line))"
   ]
  },
  {
   "cell_type": "code",
   "execution_count": 12,
   "metadata": {},
   "outputs": [
    {
     "name": "stderr",
     "output_type": "stream",
     "text": [
      "C:\\Users\\ichak\\AppData\\Local\\Temp\\ipykernel_23072\\1686895025.py:1: FutureWarning: The frame.append method is deprecated and will be removed from pandas in a future version. Use pandas.concat instead.\n",
      "  output.append(mydict_line, ignore_index=True)\n"
     ]
    },
    {
     "data": {
      "text/html": [
       "<div>\n",
       "<style scoped>\n",
       "    .dataframe tbody tr th:only-of-type {\n",
       "        vertical-align: middle;\n",
       "    }\n",
       "\n",
       "    .dataframe tbody tr th {\n",
       "        vertical-align: top;\n",
       "    }\n",
       "\n",
       "    .dataframe thead th {\n",
       "        text-align: right;\n",
       "    }\n",
       "</style>\n",
       "<table border=\"1\" class=\"dataframe\">\n",
       "  <thead>\n",
       "    <tr style=\"text-align: right;\">\n",
       "      <th></th>\n",
       "      <th>01_game_name</th>\n",
       "      <th>02_hltb_id</th>\n",
       "      <th>03_time_main</th>\n",
       "      <th>04_time_plus</th>\n",
       "      <th>05_time_100</th>\n",
       "      <th>06_time_allstyle</th>\n",
       "      <th>07_count_main</th>\n",
       "      <th>08_count_plus</th>\n",
       "      <th>09_count_100</th>\n",
       "      <th>10_count_allstyle</th>\n",
       "      <th>11_review_score</th>\n",
       "      <th>12_count_review</th>\n",
       "    </tr>\n",
       "  </thead>\n",
       "  <tbody>\n",
       "    <tr>\n",
       "      <th>0</th>\n",
       "      <td>1</td>\n",
       "      <td>1</td>\n",
       "      <td>1</td>\n",
       "      <td>1</td>\n",
       "      <td>1</td>\n",
       "      <td>1</td>\n",
       "      <td>1</td>\n",
       "      <td>1</td>\n",
       "      <td>1</td>\n",
       "      <td>1</td>\n",
       "      <td>1</td>\n",
       "      <td>1</td>\n",
       "    </tr>\n",
       "  </tbody>\n",
       "</table>\n",
       "</div>"
      ],
      "text/plain": [
       "  01_game_name 02_hltb_id 03_time_main 04_time_plus 05_time_100  \\\n",
       "0            1          1            1            1           1   \n",
       "\n",
       "  06_time_allstyle 07_count_main 08_count_plus 09_count_100 10_count_allstyle  \\\n",
       "0                1             1             1            1                 1   \n",
       "\n",
       "  11_review_score 12_count_review  \n",
       "0               1               1  "
      ]
     },
     "execution_count": 12,
     "metadata": {},
     "output_type": "execute_result"
    }
   ],
   "source": [
    "output.append(mydict_line, ignore_index=True)"
   ]
  },
  {
   "cell_type": "code",
   "execution_count": 99,
   "metadata": {},
   "outputs": [
    {
     "name": "stderr",
     "output_type": "stream",
     "text": [
      "C:\\Users\\ichak\\AppData\\Local\\Temp\\ipykernel_22008\\1407579720.py:4: FutureWarning: The frame.append method is deprecated and will be removed from pandas in a future version. Use pandas.concat instead.\n",
      "  output = output.append(mydict_line, ignore_index=True)\n"
     ]
    }
   ],
   "source": [
    "line2 =[9,9,9,9,9,9,9,9,9,9,9,9]\n",
    "mydict_line = {}\n",
    "mydict_line = dict(zip(output_columns,line2))"
   ]
  },
  {
   "cell_type": "code",
   "execution_count": 14,
   "metadata": {},
   "outputs": [],
   "source": [
    "df = pd.DataFrame(mydict_line, columns=output_columns, index=[1])"
   ]
  },
  {
   "cell_type": "code",
   "execution_count": 19,
   "metadata": {},
   "outputs": [
    {
     "name": "stderr",
     "output_type": "stream",
     "text": [
      "C:\\Users\\ichak\\AppData\\Local\\Temp\\ipykernel_23072\\2980093608.py:1: FutureWarning: The frame.append method is deprecated and will be removed from pandas in a future version. Use pandas.concat instead.\n",
      "  output.append(df, ignore_index=True)\n"
     ]
    },
    {
     "data": {
      "text/html": [
       "<div>\n",
       "<style scoped>\n",
       "    .dataframe tbody tr th:only-of-type {\n",
       "        vertical-align: middle;\n",
       "    }\n",
       "\n",
       "    .dataframe tbody tr th {\n",
       "        vertical-align: top;\n",
       "    }\n",
       "\n",
       "    .dataframe thead th {\n",
       "        text-align: right;\n",
       "    }\n",
       "</style>\n",
       "<table border=\"1\" class=\"dataframe\">\n",
       "  <thead>\n",
       "    <tr style=\"text-align: right;\">\n",
       "      <th></th>\n",
       "      <th>01_game_name</th>\n",
       "      <th>02_hltb_id</th>\n",
       "      <th>03_time_main</th>\n",
       "      <th>04_time_plus</th>\n",
       "      <th>05_time_100</th>\n",
       "      <th>06_time_allstyle</th>\n",
       "      <th>07_count_main</th>\n",
       "      <th>08_count_plus</th>\n",
       "      <th>09_count_100</th>\n",
       "      <th>10_count_allstyle</th>\n",
       "      <th>11_review_score</th>\n",
       "      <th>12_count_review</th>\n",
       "    </tr>\n",
       "  </thead>\n",
       "  <tbody>\n",
       "    <tr>\n",
       "      <th>0</th>\n",
       "      <td>1</td>\n",
       "      <td>1</td>\n",
       "      <td>1</td>\n",
       "      <td>1</td>\n",
       "      <td>1</td>\n",
       "      <td>1</td>\n",
       "      <td>1</td>\n",
       "      <td>1</td>\n",
       "      <td>1</td>\n",
       "      <td>1</td>\n",
       "      <td>1</td>\n",
       "      <td>1</td>\n",
       "    </tr>\n",
       "  </tbody>\n",
       "</table>\n",
       "</div>"
      ],
      "text/plain": [
       "  01_game_name 02_hltb_id 03_time_main 04_time_plus 05_time_100  \\\n",
       "0            1          1            1            1           1   \n",
       "\n",
       "  06_time_allstyle 07_count_main 08_count_plus 09_count_100 10_count_allstyle  \\\n",
       "0                1             1             1            1                 1   \n",
       "\n",
       "  11_review_score 12_count_review  \n",
       "0               1               1  "
      ]
     },
     "execution_count": 19,
     "metadata": {},
     "output_type": "execute_result"
    }
   ],
   "source": [
    "output.append(df, ignore_index=True)"
   ]
  },
  {
   "cell_type": "code",
   "execution_count": 18,
   "metadata": {},
   "outputs": [
    {
     "data": {
      "text/html": [
       "<div>\n",
       "<style scoped>\n",
       "    .dataframe tbody tr th:only-of-type {\n",
       "        vertical-align: middle;\n",
       "    }\n",
       "\n",
       "    .dataframe tbody tr th {\n",
       "        vertical-align: top;\n",
       "    }\n",
       "\n",
       "    .dataframe thead th {\n",
       "        text-align: right;\n",
       "    }\n",
       "</style>\n",
       "<table border=\"1\" class=\"dataframe\">\n",
       "  <thead>\n",
       "    <tr style=\"text-align: right;\">\n",
       "      <th></th>\n",
       "      <th>01_game_name</th>\n",
       "      <th>02_hltb_id</th>\n",
       "      <th>03_time_main</th>\n",
       "      <th>04_time_plus</th>\n",
       "      <th>05_time_100</th>\n",
       "      <th>06_time_allstyle</th>\n",
       "      <th>07_count_main</th>\n",
       "      <th>08_count_plus</th>\n",
       "      <th>09_count_100</th>\n",
       "      <th>10_count_allstyle</th>\n",
       "      <th>11_review_score</th>\n",
       "      <th>12_count_review</th>\n",
       "    </tr>\n",
       "  </thead>\n",
       "  <tbody>\n",
       "  </tbody>\n",
       "</table>\n",
       "</div>"
      ],
      "text/plain": [
       "Empty DataFrame\n",
       "Columns: [01_game_name, 02_hltb_id, 03_time_main, 04_time_plus, 05_time_100, 06_time_allstyle, 07_count_main, 08_count_plus, 09_count_100, 10_count_allstyle, 11_review_score, 12_count_review]\n",
       "Index: []"
      ]
     },
     "execution_count": 18,
     "metadata": {},
     "output_type": "execute_result"
    }
   ],
   "source": [
    "output"
   ]
  },
  {
   "cell_type": "code",
   "execution_count": 121,
   "metadata": {},
   "outputs": [
    {
     "data": {
      "text/plain": [
       "[1, 11]"
      ]
     },
     "execution_count": 121,
     "metadata": {},
     "output_type": "execute_result"
    }
   ],
   "source": [
    "testlist"
   ]
  },
  {
   "cell_type": "code",
   "execution_count": 20,
   "metadata": {},
   "outputs": [
    {
     "data": {
      "text/html": [
       "<div>\n",
       "<style scoped>\n",
       "    .dataframe tbody tr th:only-of-type {\n",
       "        vertical-align: middle;\n",
       "    }\n",
       "\n",
       "    .dataframe tbody tr th {\n",
       "        vertical-align: top;\n",
       "    }\n",
       "\n",
       "    .dataframe thead th {\n",
       "        text-align: right;\n",
       "    }\n",
       "</style>\n",
       "<table border=\"1\" class=\"dataframe\">\n",
       "  <thead>\n",
       "    <tr style=\"text-align: right;\">\n",
       "      <th></th>\n",
       "      <th>01_game_name</th>\n",
       "      <th>02_hltb_id</th>\n",
       "      <th>03_time_main</th>\n",
       "      <th>04_time_plus</th>\n",
       "      <th>05_time_100</th>\n",
       "      <th>06_time_allstyle</th>\n",
       "      <th>07_count_main</th>\n",
       "      <th>08_count_plus</th>\n",
       "      <th>09_count_100</th>\n",
       "      <th>10_count_allstyle</th>\n",
       "      <th>11_review_score</th>\n",
       "      <th>12_count_review</th>\n",
       "    </tr>\n",
       "  </thead>\n",
       "  <tbody>\n",
       "    <tr>\n",
       "      <th>1</th>\n",
       "      <td>1</td>\n",
       "      <td>1</td>\n",
       "      <td>1</td>\n",
       "      <td>1</td>\n",
       "      <td>1</td>\n",
       "      <td>1</td>\n",
       "      <td>1</td>\n",
       "      <td>1</td>\n",
       "      <td>1</td>\n",
       "      <td>1</td>\n",
       "      <td>1</td>\n",
       "      <td>1</td>\n",
       "    </tr>\n",
       "  </tbody>\n",
       "</table>\n",
       "</div>"
      ],
      "text/plain": [
       "   01_game_name  02_hltb_id  03_time_main  04_time_plus  05_time_100  \\\n",
       "1             1           1             1             1            1   \n",
       "\n",
       "   06_time_allstyle  07_count_main  08_count_plus  09_count_100  \\\n",
       "1                 1              1              1             1   \n",
       "\n",
       "   10_count_allstyle  11_review_score  12_count_review  \n",
       "1                  1                1                1  "
      ]
     },
     "execution_count": 20,
     "metadata": {},
     "output_type": "execute_result"
    }
   ],
   "source": [
    "df"
   ]
  },
  {
   "cell_type": "code",
   "execution_count": null,
   "metadata": {},
   "outputs": [],
   "source": []
  }
 ],
 "metadata": {
  "kernelspec": {
   "display_name": "Python 3.8.13 ('ML_2022')",
   "language": "python",
   "name": "python3"
  },
  "language_info": {
   "codemirror_mode": {
    "name": "ipython",
    "version": 3
   },
   "file_extension": ".py",
   "mimetype": "text/x-python",
   "name": "python",
   "nbconvert_exporter": "python",
   "pygments_lexer": "ipython3",
   "version": "3.8.13"
  },
  "orig_nbformat": 4,
  "vscode": {
   "interpreter": {
    "hash": "60c788dbfd97d09c70d4a747e0893c5739449babf9586edc81d2cc78a358610c"
   }
  }
 },
 "nbformat": 4,
 "nbformat_minor": 2
}
