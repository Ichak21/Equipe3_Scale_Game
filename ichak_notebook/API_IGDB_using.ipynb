{
 "cells": [
  {
   "cell_type": "code",
   "execution_count": 41,
   "metadata": {},
   "outputs": [],
   "source": [
    "from igdb.wrapper import IGDBWrapper\n",
    "from igdb.igdbapi_pb2 import GameResult\n",
    "from igdb.igdbapi_pb2 import GenreResult\n",
    "import requests\n",
    "\n",
    "CLIENT_ID = \"ta1dkgd2vk4qh2guo13snd55lc94qc\"\n",
    "CLIENT_KEY = \"6gbxtkoi7m06o8fc7ic806f4bpew71\"\n",
    "\n",
    "auth_url = \"https://id.twitch.tv/oauth2/token?client_id=\" + str(CLIENT_ID) + \"&client_secret=\" + str(CLIENT_KEY) + \"&grant_type=client_credentials\"\n",
    "access_token = requests.post(auth_url).json()[\"access_token\"]\n",
    "\n",
    "wrapper = IGDBWrapper(\"ta1dkgd2vk4qh2guo13snd55lc94qc\", access_token)"
   ]
  },
  {
   "cell_type": "code",
   "execution_count": 57,
   "metadata": {},
   "outputs": [
    {
     "data": {
      "text/plain": [
       "b'\\n\\x0c\\x08\\x04\\x1a\\x08Fighting\\n\\x0b\\x08\\x05\\x1a\\x07Shooter\\n\\t\\x08\\x07\\x1a\\x05Music\\n\\x0c\\x08\\x08\\x1a\\x08Platform\\n\\n\\x08\\t\\x1a\\x06Puzzle\\n\\n\\x08\\n\\x1a\\x06Racing\\n\\x1c\\x08\\x0b\\x1a\\x18Real Time Strategy (RTS)\\n\\x16\\x08\\x0c\\x1a\\x12Role-playing (RPG)\\n\\r\\x08\\r\\x1a\\tSimulator\\n\\t\\x08\\x0e\\x1a\\x05Sport'"
      ]
     },
     "execution_count": 57,
     "metadata": {},
     "output_type": "execute_result"
    }
   ],
   "source": [
    "# Protobuf API request\n",
    "response = wrapper.api_request(\n",
    "            'games.pb', # Note the '.pb' suffix at the endpoint\n",
    "            'fields id, name, genres; offset 0; where name=\"FIFA 23\";'\n",
    "          )\n",
    "\n",
    "games_response = GameResult()\n",
    "games_response.ParseFromString(response) # Fills the protobuf message object with the response\n",
    "\n",
    "games_response\n",
    "\n",
    "# Protobuf API request\n",
    "genre = wrapper.api_request(\n",
    "            'genres.pb', # Note the '.pb' suffix at the endpoint\n",
    "            'fields id, name; offset 0;'\n",
    "          )\n",
    "\n",
    "genre\n"
   ]
  },
  {
   "cell_type": "code",
   "execution_count": null,
   "metadata": {},
   "outputs": [],
   "source": []
  }
 ],
 "metadata": {
  "kernelspec": {
   "display_name": "Python 3.10.6 ('ML_2022')",
   "language": "python",
   "name": "python3"
  },
  "language_info": {
   "codemirror_mode": {
    "name": "ipython",
    "version": 3
   },
   "file_extension": ".py",
   "mimetype": "text/x-python",
   "name": "python",
   "nbconvert_exporter": "python",
   "pygments_lexer": "ipython3",
   "version": "3.10.6"
  },
  "orig_nbformat": 4,
  "vscode": {
   "interpreter": {
    "hash": "7bc7bb59cfc1d39269e3c298a588e1415dd10d31ac39e9054ebb30e54e15bf2c"
   }
  }
 },
 "nbformat": 4,
 "nbformat_minor": 2
}
